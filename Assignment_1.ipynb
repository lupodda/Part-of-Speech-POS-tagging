{
  "nbformat": 4,
  "nbformat_minor": 0,
  "metadata": {
    "colab": {
      "provenance": [],
      "collapsed_sections": [
        "ucA6Hjqqxqvj",
        "UP7dgW8C7WOo",
        "_ykeiDdxl1Vh",
        "DCe7Fkl_l4eb",
        "mR3MZ10zkbqh",
        "2lXLb1jekHBX",
        "9xKLdhI7PGMq",
        "sL-QLm_8Ka7k"
      ]
    },
    "kernelspec": {
      "name": "python3",
      "display_name": "Python 3"
    },
    "gpuClass": "standard",
    "accelerator": "GPU"
  },
  "cells": [
    {
      "cell_type": "markdown",
      "metadata": {
        "id": "-WeCeITXoxLf"
      },
      "source": [
        "# Assignment 1\n",
        "\n",
        "Authors:\n",
        "* Francesca Boccardi, francesca.boccardi@studio.unibo.it\n",
        "* Luigi Podda, luigi.podda@studio.unibo.it\n",
        "* Matteo Nestola, matteo.nestola@studio.unibo.it\n",
        "\n",
        "**Due to**: 11/01/2022 (dd/mm/yyyy)\n",
        "\n",
        "If you deliver it by 11/12/2022 your assignment will be graded by 11/01/2023.\n",
        "\n",
        "\n",
        "**Credits**: Andrea Galassi, Federico Ruggeri, Paolo Torroni\n",
        "\n",
        "**Summary**: Part-of Speech (POS) tagging as Sequence Labelling using Recurrent Neural Architectures\n",
        "\n",
        "Please, read ALL the following instructions :)"
      ]
    },
    {
      "cell_type": "markdown",
      "metadata": {
        "id": "a4_wqPdlBcKS"
      },
      "source": [
        "# Intro\n",
        "\n",
        "In this assignment  we will ask you to perform POS tagging using neural architectures\n",
        "\n",
        "You are asked to follow these steps:\n",
        "*   Download the corpora and split it in training and test sets, structuring a dataframe.\n",
        "*   Embed the words using GloVe embeddings\n",
        "*   Create a baseline model, using a simple neural architecture\n",
        "*   Experiment doing small modifications to the baseline model, choose hyperparameters using the validation set\n",
        "*   Evaluate your two best model\n",
        "*   Analyze the errors of your model\n",
        "\n",
        "\n",
        "**Task**: given a corpus of documents, predict the POS tag for each word\n",
        "\n",
        "**Corpus**:\n",
        "Ignore the numeric value in the third column, use only the words/symbols and its label.\n",
        "The corpus is available at:\n",
        "https://raw.githubusercontent.com/nltk/nltk_data/gh-pages/packages/corpora/dependency_treebank.zip\n",
        "\n",
        "**Splits**: documents 1-100 are the train set, 101-150 validation set, 151-199 test set.\n",
        "\n",
        "\n",
        "**Features**: you MUST use GloVe embeddings as the only input features to the model.\n",
        "\n",
        "**Splitting**: you can decide to split documents into sentences or not, the choice is yours.\n",
        "\n",
        "**I/O structure**: The input data will have three dimensions: 1-documents/sentences, 2-token, 3-features; for the output there are 2 possibilities: if you use one-hot encoding it will be 1-documents/sentences, 2-token labels, 3-classes, if you use a single integer that indicates the number of the class it will be 1-documents/sentences, 2-token labels.\n",
        "\n",
        "**Baseline**: two layers architecture: a Bidirectional LSTM layer and a Dense/Fully-Connected layer on top; the choice of hyper-parameters is yours.\n",
        "\n",
        "**Architectures**: experiment using a GRU instead of the LSTM, adding an additional LSTM layer, and adding an additional dense layer; do not mix these variantions.\n",
        "\n",
        "\n",
        "**Training and Experiments**: all the experiments must involve only the training and validation sets.\n",
        "\n",
        "**Evaluation**: in the end, only the two best models of your choice (according to the validation set) must be evaluated on the test set. The main metric must be F1-Macro computed between the various part of speech. DO NOT CONSIDER THE PUNCTUATION CLASSES. [What is punctuation?]{https://en.wikipedia.org/wiki/English_punctuation}\n",
        "\n",
        "**Metrics**: the metric you must use to evaluate your final model is the F1-macro, WITHOUT considering punctuation/symbols classes; during the training process you can use accuracy because you can't use the F1 metric unless you use a single (gigantic) batch because there is no way to aggregate \"partial\" F1 scores computed on mini-batches.\n",
        "\n",
        "**Discussion and Error Analysis** : verify and discuss if the results on the test sets are coherent with those on the validation set; analyze the errors done by your model, try to understand which may be the causes and think about how to improve it.\n",
        "\n",
        "**Report**: you are asked to deliver the code of your experiments and a small pdf report of about 2 pages; the pdf must begin with the names of the people of your team and a small abstract (4-5 lines) that sums up your findings.\n",
        "\n",
        "# Out Of Vocabulary (OOV) terms\n",
        "\n",
        "How to handle words that are not in GloVe vocabulary?\n",
        "You can handle them as you want (random embedding, placeholder, whatever!), but they must be STATIC embeddings (you cannot train them).\n",
        "\n",
        "But there is a very important caveat! As usual, the element of the test set must not influence the elements of the other splits!\n",
        "If you use random embeddings or placeholder embeddings (e.g., everything is 0) this is automatically solved.\n",
        "\n",
        "If you want to use other techniques: when you compute new embeddings for train+validation, you must forget about test documents.\n",
        "The motivation is to emulate a real-world scenario, where you select and train a model in the first stage, without knowing nothing about the testing environment.\n",
        "\n",
        "For implementation convenience, you CAN use a single vocabulary file/matrix/whatever. The principle of the previous point is that the embeddings inside that file/matrix must be generated independently for train and test splits.\n",
        "\n",
        "Basically in a real-world scenario, this is what would happen:\n",
        "1. Starting vocabulary V1 (in this assignment, GloVe vocabulary)\n",
        "2. Compute embeddings for terms out of vocabulary V1 (OOV1) of the training split\n",
        "3. Add embeddings to the vocabulary, so to obtain vocabulary V2=V1+OOV1\n",
        "4. Training of the model(s)\n",
        "5. Compute embeddings for terms OOV2 of the validation split\n",
        "6. Add embeddings to the vocabulary, so to obtain vocabulary V3=V1+OOV1+OOV2\n",
        "7. Validation of the model(s)\n",
        "8. Compute embeddings for terms OOV3 of the test split\n",
        "9. Add embeddings to the vocabulary, so to obtain vocabulary V4=V1+OOV1+OOV2+OOV3\n",
        "10. Testing of the final model\n",
        "\n",
        "In this case, where we already have all the documents, we can simplify the process a bit, but the procedure must remain rigorous.\n",
        "\n",
        "1. Starting vocabulary V1 (in this assignment, GloVe vocabulary)\n",
        "2. Compute embeddings for terms out of vocabulary V1 (OOV1) of the training split\n",
        "3. Add embeddings to the vocabulary, so to obtain vocabulary V2=V1+OOV1\n",
        "4. Compute embeddings for terms OOV2 of the validation split\n",
        "5. Add embeddings to the vocabulary, so to obtain vocabulary V3=V1+OOV1+OOV2\n",
        "6. Compute embeddings for terms OOV3 of the test split\n",
        "7. Add embeddings to the vocabulary, so to obtain vocabulary V4=V1+OOV1+OOV2+OOV3\n",
        "8. Training of the model(s)\n",
        "9. Validation of the model(s)\n",
        "10. Testing of the final model\n",
        "\n",
        "Step 2 and step 6 must be completely independent of each other, for what concerns the method and the documents. But they can rely on the previous vocabulary (V1 for step 2 and V3 for step 6)\n",
        "THEREFORE if a word is present both in the training set and the test split and not in the starting vocabulary, its embedding is computed in step 2) and it is not considered OOV anymore in step 6).\n",
        "\n",
        "# Report\n",
        "The report must not be just a copy and paste of graphs and tables!\n",
        "\n",
        "The report must not be longer than 2 pages and must contain:\n",
        "* The names of the member of your team\n",
        "* A short abstract (4-5 lines) that sum ups everything\n",
        "* A general (brief!) description of the task you have addressed and how you have addressed it\n",
        "* A brief analysis of the data (class distribution, lenght, etc)\n",
        "* A short description of the models you have used\n",
        "* Some tables that sum up your findings in validation and test and a discussion of those results\n",
        "* The most relevant findings of your error analysis\n",
        "\n",
        "\n",
        "# Evaluation Criterion\n",
        "\n",
        "The goal of this assignment is not to prove you can find best model ever, but to face a common task, structure it correctly, and follow a correct and rigorous experimental procedure.\n",
        "In other words, we don't care if you final models are awful as long as you have followed the correct procedure and wrote a decent report.\n",
        "\n",
        "The score of the assignment will be computed roughly as follows\n",
        "* 1 point for the correctness of approach/methodology\n",
        "* 1 point for the handling of OOV terms\n",
        "* 1 point for the correct implementation of models (they must run and do the right thing)\n",
        "* 1 point for train-validation-test procedure\n",
        "* 2 point for the discussion of the results, error analysis, and report\n",
        "\n",
        "The evaluation will not be based on the performance of the models!\n",
        "\n",
        "We also reserve the right to assign a small bonus (0.5 points) to any assignment that is particularly worthy.\n",
        "\n",
        "# Deliver\n",
        "\n",
        "* Two files: a pdf file for the report, and a python notebook\n",
        "* Put the names of the member of the team at the beginning of both files\n",
        "* What about additional files, for example models or weights? You can upload them in a private cloud and insert the link in the report.\n",
        "* Please, submit a notebook with clear sections, text boxes, and comments and indications about what is going on in the code. When we do not understand what is going on we get annoyed, when we are annoyed we tend to be more severe in our evaluation.\n",
        "\n",
        "\n",
        "\n",
        "# Contacts\n",
        "\n",
        "In case of any doubt, question, issue, or help we highly recommend you to check the [course useful material](https://virtuale.unibo.it/pluginfile.php/1273064/mod_resource/content/2/NLP_Course_Useful_Material.pdf) for additional information, and to use the Virtuale forums to discuss with other students.\n",
        "\n",
        "You can always contact us at the following email addresses. To increase the probability of a prompt response, we reccomend you to write to both the teaching assistants.\n",
        "If we do not reply within 3-4 days, please send it again!\n",
        "\n",
        "Teaching Assistants:\n",
        "\n",
        "* Andrea Galassi -> a.galassi@unibo.it\n",
        "* Federico Ruggeri -> federico.ruggeri6@unibo.it\n",
        "\n",
        "Professor:\n",
        "\n",
        "* Paolo Torroni -> p.torroni@unibo.it\n",
        "\n",
        "\n",
        "# Additional notes and FAQ\n",
        "* You can use a non-trainable Embedding layer to load the glove embeddings\n",
        "* For the baseline, it must have only two trainable layers: the BiLSTM and the Dense/FC one. The Dense layer is the \"classification head\" with softmax activation. You must not add an additional dense layer on top of the baseline. You can use the embedding layer before the BiLSTM, but it must be not trainable.\n",
        "* You can use any library of your choice to implement the networks. Two options are tensorflow/keras or pythorch. Both these libraries have all the classes you need to implement these simple architectures and there are plenty of tutorials around, where you can learn how to use them.\n",
        "* For the application of the Dense Layer, it is recommended to use a Time-Distributed Dense. In any case, doing otherwise is NOT considered an error.\n",
        "* Some examples of things you can analyze in your discussion and error analysis are: the performances on the most frequent classes and the less frequent classes, precision and recall, the confusion tables, specific misclassified samples.\n",
        "* Punctuation: you must keep the punctuation in the documents, since it may be helpful for the model, you simply must ignore it when you perform the evaluation of the model, not considering the punctuation classes among the ones you use to compute F1 macro score. If you are curious, you can run ADDITIONAL experiments where you remove punctuation to see its impact."
      ]
    },
    {
      "cell_type": "markdown",
      "source": [
        "# 1. Imports\n",
        "In this section are imported all the useful libraries and packages."
      ],
      "metadata": {
        "id": "ucA6Hjqqxqvj"
      }
    },
    {
      "cell_type": "code",
      "source": [
        "import os\n",
        "import shutil\n",
        "import sys\n",
        "import urllib.request\n",
        "import zipfile\n",
        "\n",
        "import pandas as pd\n",
        "import numpy as np\n",
        "import matplotlib.pyplot as plt\n",
        "import seaborn as sns\n",
        "import random\n",
        "\n",
        "import itertools\n",
        "import re\n",
        "\n",
        "import keras\n",
        "import tensorflow as tf\n",
        "from keras_preprocessing.sequence import pad_sequences\n",
        "from keras.utils import to_categorical\n",
        "from keras.models import Sequential\n",
        "from keras.layers import Dense, LSTM, GRU, InputLayer, Bidirectional, TimeDistributed, Embedding, Activation\n",
        "from keras.optimizers import Adam\n",
        "\n",
        "from sklearn.preprocessing import LabelEncoder\n",
        "from sklearn.metrics import classification_report, confusion_matrix"
      ],
      "metadata": {
        "id": "88gi1_UUYLq0"
      },
      "execution_count": null,
      "outputs": []
    },
    {
      "cell_type": "markdown",
      "source": [
        "# 2. Data preparation"
      ],
      "metadata": {
        "id": "UP7dgW8C7WOo"
      }
    },
    {
      "cell_type": "markdown",
      "source": [
        "## 2.1 Data download\n",
        "\n"
      ],
      "metadata": {
        "id": "YqYSpB8p7u7F"
      }
    },
    {
      "cell_type": "markdown",
      "source": [
        "Let's first download the corpus used in this work, [Dependency Treebank](https://raw.githubusercontent.com/nltk/nltk_data/gh-pages/packages/corpora/dependency_treebank.zip)."
      ],
      "metadata": {
        "id": "ArcpNFgtyKp9"
      }
    },
    {
      "cell_type": "code",
      "source": [
        "dataset_name = \"dependency_treebank\"\n",
        "dataset_folder = os.path.join(os.getcwd())\n",
        "\n",
        "if not os.path.exists(dataset_folder):\n",
        "    os.makedirs(dataset_folder)\n",
        "\n",
        "url = 'https://raw.githubusercontent.com/nltk/nltk_data/gh-pages/packages/corpora/dependency_treebank.zip'\n",
        "\n",
        "dataset_path = os.path.join(dataset_folder, \"dependency_treebank.zip\")\n",
        "\n",
        "if not os.path.exists(dataset_path):\n",
        "    urllib.request.urlretrieve(url, dataset_path)\n",
        "    print(\"Successful download\")\n",
        "\n",
        "tar = zipfile.ZipFile(dataset_path, 'r')\n",
        "tar.extractall(dataset_folder)\n",
        "tar.close()\n",
        "print(\"Successful extraction\")"
      ],
      "metadata": {
        "colab": {
          "base_uri": "https://localhost:8080/"
        },
        "id": "3C3BNCHpYMsS",
        "outputId": "7d9e9173-83d7-4f82-8bfb-10b091bd356d"
      },
      "execution_count": null,
      "outputs": [
        {
          "output_type": "stream",
          "name": "stdout",
          "text": [
            "Successful download\n",
            "Successful extraction\n"
          ]
        }
      ]
    },
    {
      "cell_type": "markdown",
      "source": [
        "## 2.2 Documents splitting & manipulation"
      ],
      "metadata": {
        "id": "letumHJ2BmnU"
      }
    },
    {
      "cell_type": "code",
      "source": [
        "# Extract dataset path\n",
        "dataset_path = os.path.join(os.getcwd(), dataset_name)\n",
        "\n",
        "# Compute the total number of documents\n",
        "documents = sorted(os.listdir(dataset_path)) # name-sorted list of all documents contained into `dataset_path`\n",
        "n_docs = len(documents)\n",
        "print(f\"The corpus contains {n_docs} documents\")"
      ],
      "metadata": {
        "id": "P-l6FHzsoe1o",
        "colab": {
          "base_uri": "https://localhost:8080/"
        },
        "outputId": "e9888d10-ffad-4bb3-e149-997ad1641019"
      },
      "execution_count": null,
      "outputs": [
        {
          "output_type": "stream",
          "name": "stdout",
          "text": [
            "The corpus contains 199 documents\n"
          ]
        }
      ]
    },
    {
      "cell_type": "code",
      "source": [
        "# Create 3 different folders for train, validation and test documents\n",
        "\n",
        "%mkdir dependency_treebank/test\n",
        "%mkdir dependency_treebank/train\n",
        "%mkdir dependency_treebank/validation"
      ],
      "metadata": {
        "id": "mnq9dt4z2bYP"
      },
      "execution_count": null,
      "outputs": []
    },
    {
      "cell_type": "markdown",
      "source": [
        "The `split_document` function splits each document in different sentences, then each sentence is saved in a separated file `sentence_id.dp`, located in the corresponding split directory .\n"
      ],
      "metadata": {
        "id": "AZWwVveU4dYl"
      }
    },
    {
      "cell_type": "code",
      "source": [
        "def split_document(file_path, dataset_path, split, index):\n",
        "\n",
        "  \"\"\"\n",
        "  Split into sentences the document whose `file_path` is passed as input. For each sentence extracted, a new file is created into the `split` folder.\n",
        "  \"\"\"\n",
        "\n",
        "  with open(file_path,'r') as data_file:\n",
        "    text = data_file.read()\n",
        "    sentences = text.split(\"\\n\\n\")\n",
        "\n",
        "  for element in sentences:\n",
        "    textfile = open(f\"{dataset_path}/{split}/{index}.dp\", \"w\")\n",
        "    textfile.write(element)\n",
        "    textfile.close()\n",
        "    index+=1\n",
        "\n",
        "  return index"
      ],
      "metadata": {
        "id": "eNFXRQBiatKV"
      },
      "execution_count": null,
      "outputs": []
    },
    {
      "cell_type": "code",
      "source": [
        "# Split documents into train, validation and test according to their index and further split each of them into sentences\n",
        "sentence_id = 1\n",
        "\n",
        "for file_id in range(1,n_docs):\n",
        "  file_name = documents[file_id]\n",
        "  file_path = os.path.join(dataset_path, file_name)\n",
        "\n",
        "  # Split into train, validation and test according to `file_id`\n",
        "  if file_id < 101:\n",
        "    sentence_id = split_document(file_path, dataset_path, \"train\", sentence_id)\n",
        "\n",
        "  elif file_id >= 101 and file_id <= 150:\n",
        "    sentence_id = split_document(file_path, dataset_path, \"validation\", sentence_id)\n",
        "\n",
        "  else:\n",
        "    sentence_id = split_document(file_path, dataset_path, \"test\", sentence_id)"
      ],
      "metadata": {
        "id": "c3cIQeStYMzN"
      },
      "execution_count": null,
      "outputs": []
    },
    {
      "cell_type": "markdown",
      "source": [
        "## 2.3 Dataframes creation\n",
        "For simplicity reasons, sentences files are collected into 3 different dataframes, one for each split. In particular, `create_dataframe` function creates a dataframe of the files contained in the folder passed as input. It is used to create three different dataframes for train, validation and test sets."
      ],
      "metadata": {
        "id": "sUVfBceWDcbJ"
      }
    },
    {
      "cell_type": "code",
      "source": [
        "def create_dataframe(split, dataset_path):\n",
        "\n",
        "  \"\"\"\n",
        "  Create a dataframe of all the sentences contained into the `split` folder.\n",
        "  \"\"\"\n",
        "\n",
        "  df = pd.DataFrame()\n",
        "  split_folder = os.path.join(dataset_path, split)\n",
        "\n",
        "  for filename in sorted(os.listdir(split_folder)):\n",
        "    file_path = os.path.join(split_folder, filename)\n",
        "\n",
        "    try:\n",
        "      if os.path.isfile(file_path):\n",
        "          df_file = pd.read_table(file_path, sep=\"\\t\", header = None, names= [\"word\",\"tag\",\"number\"])\n",
        "          df_file = df_file.drop(columns = [\"number\"])\n",
        "          sentence_id = int(filename.split(\".\")[0])\n",
        "          df_file[\"sentence_id\"] = sentence_id\n",
        "          df = pd.concat([df, df_file])\n",
        "\n",
        "    except Exception as e:\n",
        "        print('Failed to process %s. Reason: %s' % (file_path, e))\n",
        "        sys.exit(0)\n",
        "\n",
        "  return df"
      ],
      "metadata": {
        "id": "4vDzyeTm9eK5"
      },
      "execution_count": null,
      "outputs": []
    },
    {
      "cell_type": "code",
      "source": [
        "# Create different dataframes for train, validation and test data\n",
        "\n",
        "df_train = create_dataframe('train', dataset_path)\n",
        "df_validation = create_dataframe('validation', dataset_path)\n",
        "df_test = create_dataframe('test', dataset_path)"
      ],
      "metadata": {
        "id": "_G_4LoWoYM3t"
      },
      "execution_count": null,
      "outputs": []
    },
    {
      "cell_type": "markdown",
      "source": [
        "Let's have a look to the first sentence of the training set."
      ],
      "metadata": {
        "id": "Ck0wpvLZ7ms2"
      }
    },
    {
      "cell_type": "code",
      "source": [
        "df_train[df_train[\"sentence_id\"] == 1]"
      ],
      "metadata": {
        "colab": {
          "base_uri": "https://localhost:8080/",
          "height": 864
        },
        "id": "g7rGQxVa_qd_",
        "outputId": "083c9897-064b-4b55-e428-dc8cf4f26199"
      },
      "execution_count": null,
      "outputs": [
        {
          "output_type": "execute_result",
          "data": {
            "text/plain": [
              "            word  tag  sentence_id\n",
              "0        Rudolph  NNP            1\n",
              "1          Agnew  NNP            1\n",
              "2              ,    ,            1\n",
              "3             55   CD            1\n",
              "4          years  NNS            1\n",
              "5            old   JJ            1\n",
              "6            and   CC            1\n",
              "7         former   JJ            1\n",
              "8       chairman   NN            1\n",
              "9             of   IN            1\n",
              "10  Consolidated  NNP            1\n",
              "11          Gold  NNP            1\n",
              "12        Fields  NNP            1\n",
              "13           PLC  NNP            1\n",
              "14             ,    ,            1\n",
              "15           was  VBD            1\n",
              "16         named  VBN            1\n",
              "17             a   DT            1\n",
              "18  nonexecutive   JJ            1\n",
              "19      director   NN            1\n",
              "20            of   IN            1\n",
              "21          this   DT            1\n",
              "22       British   JJ            1\n",
              "23    industrial   JJ            1\n",
              "24  conglomerate   NN            1\n",
              "25             .    .            1"
            ],
            "text/html": [
              "\n",
              "  <div id=\"df-643f0a7a-690c-43af-9269-a7b34bc13ef0\">\n",
              "    <div class=\"colab-df-container\">\n",
              "      <div>\n",
              "<style scoped>\n",
              "    .dataframe tbody tr th:only-of-type {\n",
              "        vertical-align: middle;\n",
              "    }\n",
              "\n",
              "    .dataframe tbody tr th {\n",
              "        vertical-align: top;\n",
              "    }\n",
              "\n",
              "    .dataframe thead th {\n",
              "        text-align: right;\n",
              "    }\n",
              "</style>\n",
              "<table border=\"1\" class=\"dataframe\">\n",
              "  <thead>\n",
              "    <tr style=\"text-align: right;\">\n",
              "      <th></th>\n",
              "      <th>word</th>\n",
              "      <th>tag</th>\n",
              "      <th>sentence_id</th>\n",
              "    </tr>\n",
              "  </thead>\n",
              "  <tbody>\n",
              "    <tr>\n",
              "      <th>0</th>\n",
              "      <td>Rudolph</td>\n",
              "      <td>NNP</td>\n",
              "      <td>1</td>\n",
              "    </tr>\n",
              "    <tr>\n",
              "      <th>1</th>\n",
              "      <td>Agnew</td>\n",
              "      <td>NNP</td>\n",
              "      <td>1</td>\n",
              "    </tr>\n",
              "    <tr>\n",
              "      <th>2</th>\n",
              "      <td>,</td>\n",
              "      <td>,</td>\n",
              "      <td>1</td>\n",
              "    </tr>\n",
              "    <tr>\n",
              "      <th>3</th>\n",
              "      <td>55</td>\n",
              "      <td>CD</td>\n",
              "      <td>1</td>\n",
              "    </tr>\n",
              "    <tr>\n",
              "      <th>4</th>\n",
              "      <td>years</td>\n",
              "      <td>NNS</td>\n",
              "      <td>1</td>\n",
              "    </tr>\n",
              "    <tr>\n",
              "      <th>5</th>\n",
              "      <td>old</td>\n",
              "      <td>JJ</td>\n",
              "      <td>1</td>\n",
              "    </tr>\n",
              "    <tr>\n",
              "      <th>6</th>\n",
              "      <td>and</td>\n",
              "      <td>CC</td>\n",
              "      <td>1</td>\n",
              "    </tr>\n",
              "    <tr>\n",
              "      <th>7</th>\n",
              "      <td>former</td>\n",
              "      <td>JJ</td>\n",
              "      <td>1</td>\n",
              "    </tr>\n",
              "    <tr>\n",
              "      <th>8</th>\n",
              "      <td>chairman</td>\n",
              "      <td>NN</td>\n",
              "      <td>1</td>\n",
              "    </tr>\n",
              "    <tr>\n",
              "      <th>9</th>\n",
              "      <td>of</td>\n",
              "      <td>IN</td>\n",
              "      <td>1</td>\n",
              "    </tr>\n",
              "    <tr>\n",
              "      <th>10</th>\n",
              "      <td>Consolidated</td>\n",
              "      <td>NNP</td>\n",
              "      <td>1</td>\n",
              "    </tr>\n",
              "    <tr>\n",
              "      <th>11</th>\n",
              "      <td>Gold</td>\n",
              "      <td>NNP</td>\n",
              "      <td>1</td>\n",
              "    </tr>\n",
              "    <tr>\n",
              "      <th>12</th>\n",
              "      <td>Fields</td>\n",
              "      <td>NNP</td>\n",
              "      <td>1</td>\n",
              "    </tr>\n",
              "    <tr>\n",
              "      <th>13</th>\n",
              "      <td>PLC</td>\n",
              "      <td>NNP</td>\n",
              "      <td>1</td>\n",
              "    </tr>\n",
              "    <tr>\n",
              "      <th>14</th>\n",
              "      <td>,</td>\n",
              "      <td>,</td>\n",
              "      <td>1</td>\n",
              "    </tr>\n",
              "    <tr>\n",
              "      <th>15</th>\n",
              "      <td>was</td>\n",
              "      <td>VBD</td>\n",
              "      <td>1</td>\n",
              "    </tr>\n",
              "    <tr>\n",
              "      <th>16</th>\n",
              "      <td>named</td>\n",
              "      <td>VBN</td>\n",
              "      <td>1</td>\n",
              "    </tr>\n",
              "    <tr>\n",
              "      <th>17</th>\n",
              "      <td>a</td>\n",
              "      <td>DT</td>\n",
              "      <td>1</td>\n",
              "    </tr>\n",
              "    <tr>\n",
              "      <th>18</th>\n",
              "      <td>nonexecutive</td>\n",
              "      <td>JJ</td>\n",
              "      <td>1</td>\n",
              "    </tr>\n",
              "    <tr>\n",
              "      <th>19</th>\n",
              "      <td>director</td>\n",
              "      <td>NN</td>\n",
              "      <td>1</td>\n",
              "    </tr>\n",
              "    <tr>\n",
              "      <th>20</th>\n",
              "      <td>of</td>\n",
              "      <td>IN</td>\n",
              "      <td>1</td>\n",
              "    </tr>\n",
              "    <tr>\n",
              "      <th>21</th>\n",
              "      <td>this</td>\n",
              "      <td>DT</td>\n",
              "      <td>1</td>\n",
              "    </tr>\n",
              "    <tr>\n",
              "      <th>22</th>\n",
              "      <td>British</td>\n",
              "      <td>JJ</td>\n",
              "      <td>1</td>\n",
              "    </tr>\n",
              "    <tr>\n",
              "      <th>23</th>\n",
              "      <td>industrial</td>\n",
              "      <td>JJ</td>\n",
              "      <td>1</td>\n",
              "    </tr>\n",
              "    <tr>\n",
              "      <th>24</th>\n",
              "      <td>conglomerate</td>\n",
              "      <td>NN</td>\n",
              "      <td>1</td>\n",
              "    </tr>\n",
              "    <tr>\n",
              "      <th>25</th>\n",
              "      <td>.</td>\n",
              "      <td>.</td>\n",
              "      <td>1</td>\n",
              "    </tr>\n",
              "  </tbody>\n",
              "</table>\n",
              "</div>\n",
              "      <button class=\"colab-df-convert\" onclick=\"convertToInteractive('df-643f0a7a-690c-43af-9269-a7b34bc13ef0')\"\n",
              "              title=\"Convert this dataframe to an interactive table.\"\n",
              "              style=\"display:none;\">\n",
              "        \n",
              "  <svg xmlns=\"http://www.w3.org/2000/svg\" height=\"24px\"viewBox=\"0 0 24 24\"\n",
              "       width=\"24px\">\n",
              "    <path d=\"M0 0h24v24H0V0z\" fill=\"none\"/>\n",
              "    <path d=\"M18.56 5.44l.94 2.06.94-2.06 2.06-.94-2.06-.94-.94-2.06-.94 2.06-2.06.94zm-11 1L8.5 8.5l.94-2.06 2.06-.94-2.06-.94L8.5 2.5l-.94 2.06-2.06.94zm10 10l.94 2.06.94-2.06 2.06-.94-2.06-.94-.94-2.06-.94 2.06-2.06.94z\"/><path d=\"M17.41 7.96l-1.37-1.37c-.4-.4-.92-.59-1.43-.59-.52 0-1.04.2-1.43.59L10.3 9.45l-7.72 7.72c-.78.78-.78 2.05 0 2.83L4 21.41c.39.39.9.59 1.41.59.51 0 1.02-.2 1.41-.59l7.78-7.78 2.81-2.81c.8-.78.8-2.07 0-2.86zM5.41 20L4 18.59l7.72-7.72 1.47 1.35L5.41 20z\"/>\n",
              "  </svg>\n",
              "      </button>\n",
              "      \n",
              "  <style>\n",
              "    .colab-df-container {\n",
              "      display:flex;\n",
              "      flex-wrap:wrap;\n",
              "      gap: 12px;\n",
              "    }\n",
              "\n",
              "    .colab-df-convert {\n",
              "      background-color: #E8F0FE;\n",
              "      border: none;\n",
              "      border-radius: 50%;\n",
              "      cursor: pointer;\n",
              "      display: none;\n",
              "      fill: #1967D2;\n",
              "      height: 32px;\n",
              "      padding: 0 0 0 0;\n",
              "      width: 32px;\n",
              "    }\n",
              "\n",
              "    .colab-df-convert:hover {\n",
              "      background-color: #E2EBFA;\n",
              "      box-shadow: 0px 1px 2px rgba(60, 64, 67, 0.3), 0px 1px 3px 1px rgba(60, 64, 67, 0.15);\n",
              "      fill: #174EA6;\n",
              "    }\n",
              "\n",
              "    [theme=dark] .colab-df-convert {\n",
              "      background-color: #3B4455;\n",
              "      fill: #D2E3FC;\n",
              "    }\n",
              "\n",
              "    [theme=dark] .colab-df-convert:hover {\n",
              "      background-color: #434B5C;\n",
              "      box-shadow: 0px 1px 3px 1px rgba(0, 0, 0, 0.15);\n",
              "      filter: drop-shadow(0px 1px 2px rgba(0, 0, 0, 0.3));\n",
              "      fill: #FFFFFF;\n",
              "    }\n",
              "  </style>\n",
              "\n",
              "      <script>\n",
              "        const buttonEl =\n",
              "          document.querySelector('#df-643f0a7a-690c-43af-9269-a7b34bc13ef0 button.colab-df-convert');\n",
              "        buttonEl.style.display =\n",
              "          google.colab.kernel.accessAllowed ? 'block' : 'none';\n",
              "\n",
              "        async function convertToInteractive(key) {\n",
              "          const element = document.querySelector('#df-643f0a7a-690c-43af-9269-a7b34bc13ef0');\n",
              "          const dataTable =\n",
              "            await google.colab.kernel.invokeFunction('convertToInteractive',\n",
              "                                                     [key], {});\n",
              "          if (!dataTable) return;\n",
              "\n",
              "          const docLinkHtml = 'Like what you see? Visit the ' +\n",
              "            '<a target=\"_blank\" href=https://colab.research.google.com/notebooks/data_table.ipynb>data table notebook</a>'\n",
              "            + ' to learn more about interactive tables.';\n",
              "          element.innerHTML = '';\n",
              "          dataTable['output_type'] = 'display_data';\n",
              "          await google.colab.output.renderOutput(dataTable, element);\n",
              "          const docLink = document.createElement('div');\n",
              "          docLink.innerHTML = docLinkHtml;\n",
              "          element.appendChild(docLink);\n",
              "        }\n",
              "      </script>\n",
              "    </div>\n",
              "  </div>\n",
              "  "
            ]
          },
          "metadata": {},
          "execution_count": 9
        }
      ]
    },
    {
      "cell_type": "markdown",
      "source": [
        "## 2.4 Input formatting - Sentences and tags lists"
      ],
      "metadata": {
        "id": "Cy17eUdJGo_L"
      }
    },
    {
      "cell_type": "markdown",
      "source": [
        "To ease the manipulation of data, from each dataframe are extracted the list of sentences and the correspondent lists of tags."
      ],
      "metadata": {
        "id": "PRHuUw0T1lFq"
      }
    },
    {
      "cell_type": "code",
      "source": [
        "def sentence_tag_split(df):\n",
        "\n",
        "  \"\"\"\n",
        "  Given `df`, create:\n",
        "    - a list of sentences, where each sentence is a list of words\n",
        "    - a list containing, for each sentence, the corresponding list of tags\n",
        "  \"\"\"\n",
        "\n",
        "  sentences_ids = df[\"sentence_id\"].unique()\n",
        "  sentences = []\n",
        "  tags = []\n",
        "\n",
        "  for id in sentences_ids:\n",
        "    df_sentence = df[df['sentence_id']==id]\n",
        "    sentence = list(df_sentence[\"word\"])\n",
        "    tag = list(df_sentence[\"tag\"])\n",
        "\n",
        "    sentences.append(sentence)\n",
        "    tags.append(tag)\n",
        "\n",
        "  return sentences, tags"
      ],
      "metadata": {
        "id": "vROMwajgiego"
      },
      "execution_count": null,
      "outputs": []
    },
    {
      "cell_type": "code",
      "source": [
        "sentences_train, tags_train = sentence_tag_split(df_train)\n",
        "sentences_val, tags_val = sentence_tag_split(df_validation)\n",
        "sentences_test, tags_test = sentence_tag_split(df_test)\n",
        "\n",
        "print(\"Sentence example:\", sentences_train[0])\n",
        "print(\"Tags:\", tags_train[0])"
      ],
      "metadata": {
        "id": "52UJ_brFf-4P",
        "colab": {
          "base_uri": "https://localhost:8080/"
        },
        "outputId": "533d03a5-a5d2-4ecc-f56f-de7b49fed87b"
      },
      "execution_count": null,
      "outputs": [
        {
          "output_type": "stream",
          "name": "stdout",
          "text": [
            "Sentence example: ['Rudolph', 'Agnew', ',', '55', 'years', 'old', 'and', 'former', 'chairman', 'of', 'Consolidated', 'Gold', 'Fields', 'PLC', ',', 'was', 'named', 'a', 'nonexecutive', 'director', 'of', 'this', 'British', 'industrial', 'conglomerate', '.']\n",
            "Tags: ['NNP', 'NNP', ',', 'CD', 'NNS', 'JJ', 'CC', 'JJ', 'NN', 'IN', 'NNP', 'NNP', 'NNP', 'NNP', ',', 'VBD', 'VBN', 'DT', 'JJ', 'NN', 'IN', 'DT', 'JJ', 'JJ', 'NN', '.']\n"
          ]
        }
      ]
    },
    {
      "cell_type": "markdown",
      "source": [
        "# 3. Data analysis\n",
        "\n",
        "To have a better comprehension of the distribution of the classes in the dataset, the support for each class is visualized."
      ],
      "metadata": {
        "id": "_ykeiDdxl1Vh"
      }
    },
    {
      "cell_type": "code",
      "source": [
        "column = 'tag'\n",
        "print(\"Distribution of train tags: \")\n",
        "print(df_train[column].value_counts())\n",
        "print()\n",
        "\n",
        "print(\"Distribution of test tags: \")\n",
        "print(df_test[column].value_counts())\n",
        "print()\n",
        "\n",
        "print(\"Distribution of val tags: \")\n",
        "print(df_validation[column].value_counts())\n",
        "print()"
      ],
      "metadata": {
        "id": "MBEq7EEXl3gj",
        "colab": {
          "base_uri": "https://localhost:8080/"
        },
        "outputId": "93b5b0c4-1d02-4e59-a8f3-77a4ed25f3d5"
      },
      "execution_count": null,
      "outputs": [
        {
          "output_type": "stream",
          "name": "stdout",
          "text": [
            "Distribution of train tags: \n",
            "NN       6390\n",
            "NNP      5279\n",
            "IN       5049\n",
            "DT       4175\n",
            "JJ       3053\n",
            "NNS      3043\n",
            ",        2603\n",
            ".        1979\n",
            "VBD      1562\n",
            "RB       1515\n",
            "CD       1474\n",
            "VB       1210\n",
            "CC       1166\n",
            "VBZ      1152\n",
            "VBN      1059\n",
            "TO       1051\n",
            "PRP       957\n",
            "VBG       780\n",
            "VBP       734\n",
            "MD        418\n",
            "PRP$      412\n",
            "``        409\n",
            "POS       405\n",
            "''        399\n",
            "$         355\n",
            ":         294\n",
            "WDT       207\n",
            "JJR       160\n",
            "WP        142\n",
            "RP        140\n",
            "NNPS       98\n",
            "JJS        94\n",
            "WRB        92\n",
            "RBR        88\n",
            "-RRB-      56\n",
            "-LRB-      53\n",
            "EX         49\n",
            "RBS        20\n",
            "LS         10\n",
            "PDT         9\n",
            "WP$         6\n",
            "FW          2\n",
            "#           1\n",
            "UH          1\n",
            "SYM         1\n",
            "Name: tag, dtype: int64\n",
            "\n",
            "Distribution of test tags: \n",
            "NN       2354\n",
            "IN       1613\n",
            "NNP      1471\n",
            "DT       1317\n",
            "NNS       934\n",
            "JJ        910\n",
            "CD        847\n",
            ",         772\n",
            ".         630\n",
            "VBD       627\n",
            "VB        392\n",
            "RB        377\n",
            "TO        377\n",
            "VBN       362\n",
            "CC        360\n",
            "VBZ       274\n",
            "VBG       216\n",
            "$         206\n",
            "PRP       187\n",
            "MD        165\n",
            "POS       151\n",
            "VBP       132\n",
            "PRP$       98\n",
            "WDT        84\n",
            "``         70\n",
            "''         67\n",
            "JJR        59\n",
            ":          56\n",
            "NNPS       44\n",
            "RP         33\n",
            "JJS        31\n",
            "WRB        23\n",
            "WP         19\n",
            "-LRB-      18\n",
            "-RRB-      18\n",
            "RBR        15\n",
            "EX          5\n",
            "WP$         4\n",
            "PDT         4\n",
            "RBS         3\n",
            "Name: tag, dtype: int64\n",
            "\n",
            "Distribution of val tags: \n",
            "NN       4418\n",
            "IN       3193\n",
            "DT       2670\n",
            "NNP      2652\n",
            "NNS      2069\n",
            "JJ       1869\n",
            ",        1508\n",
            ".        1263\n",
            "CD       1223\n",
            "VB        951\n",
            "RB        930\n",
            "VBD       854\n",
            "TO        751\n",
            "CC        739\n",
            "VBN       713\n",
            "VBZ       698\n",
            "PRP       572\n",
            "VBG       463\n",
            "VBP       455\n",
            "MD        343\n",
            "POS       268\n",
            "PRP$      256\n",
            "``        233\n",
            "''        228\n",
            ":         213\n",
            "$         163\n",
            "JJR       162\n",
            "WDT       154\n",
            "NNPS      102\n",
            "WP         80\n",
            "WRB        63\n",
            "JJS        57\n",
            "-RRB-      52\n",
            "-LRB-      49\n",
            "RP         43\n",
            "EX         34\n",
            "RBR        33\n",
            "#          15\n",
            "PDT        14\n",
            "RBS        12\n",
            "WP$         4\n",
            "LS          3\n",
            "FW          2\n",
            "UH          2\n",
            "Name: tag, dtype: int64\n",
            "\n"
          ]
        }
      ]
    },
    {
      "cell_type": "code",
      "source": [
        "# Tags distribution visualization\n",
        "\n",
        "counts_train = np.asarray(df_train[\"tag\"].tolist(), dtype=object)\n",
        "counts_test =  np.asarray(df_test[\"tag\"].tolist(), dtype=object)\n",
        "counts_val =  np.asarray(df_validation[\"tag\"].tolist(), dtype=object)\n",
        "\n",
        "plt.figure(figsize=(30,10))\n",
        "plt.hist([counts_train, counts_test, counts_val], bins=np.arange(46),label=['train','test','validation'], color=[\"darkred\", \"navy\", \"darkgreen\"], align='left')\n",
        "plt.legend(loc='upper center')\n",
        "plt.show()"
      ],
      "metadata": {
        "colab": {
          "base_uri": "https://localhost:8080/",
          "height": 579
        },
        "id": "fRbZXyIe41_G",
        "outputId": "4deff475-add6-4ebd-d233-0a6b10181d6b"
      },
      "execution_count": null,
      "outputs": [
        {
          "output_type": "stream",
          "name": "stderr",
          "text": [
            "/usr/local/lib/python3.8/dist-packages/numpy/core/fromnumeric.py:3208: VisibleDeprecationWarning: Creating an ndarray from ragged nested sequences (which is a list-or-tuple of lists-or-tuples-or ndarrays with different lengths or shapes) is deprecated. If you meant to do this, you must specify 'dtype=object' when creating the ndarray.\n",
            "  return asarray(a).size\n",
            "/usr/local/lib/python3.8/dist-packages/matplotlib/cbook/__init__.py:1376: VisibleDeprecationWarning: Creating an ndarray from ragged nested sequences (which is a list-or-tuple of lists-or-tuples-or ndarrays with different lengths or shapes) is deprecated. If you meant to do this, you must specify 'dtype=object' when creating the ndarray.\n",
            "  X = np.atleast_1d(X.T if isinstance(X, np.ndarray) else np.asarray(X))\n"
          ]
        },
        {
          "output_type": "display_data",
          "data": {
            "text/plain": [
              "<Figure size 2160x720 with 1 Axes>"
            ],
            "image/png": "[encoded data removed]"
          },
          "metadata": {
            "needs_background": "light"
          }
        }
      ]
    },
    {
      "cell_type": "markdown",
      "source": [
        "It is clear from the histogram of the tags distribution that the classes in the dataset have a strong difference in their support. From this, it can be inferred that the dataset is unbalanced."
      ],
      "metadata": {
        "id": "_so2IJ3LAkmW"
      }
    },
    {
      "cell_type": "markdown",
      "source": [
        "# 4. Vocabulary creation & embedding"
      ],
      "metadata": {
        "id": "DCe7Fkl_l4eb"
      }
    },
    {
      "cell_type": "markdown",
      "source": [
        "## 4.1 GloVe vocabulary download"
      ],
      "metadata": {
        "id": "uKQsr5fkNY5g"
      }
    },
    {
      "cell_type": "markdown",
      "source": [
        "Words are encoded by assigning to each of them an embedding vector according to the GloVe model, an unsupervised learning algorithm for obtaining vector representations for words.\n",
        "\n",
        "The GloVe model is trained such that a pair of embeddings has weights that reflect their co-occurrence probability. The latter is defined as the percentage of times that a given word $y$ occurs within some context window of word $x$. GloVe is an example of a non-contextual word embedding model."
      ],
      "metadata": {
        "id": "WPlozmYA52oU"
      }
    },
    {
      "cell_type": "code",
      "source": [
        "# Downloading Glove\n",
        "\n",
        "url = \"https://nlp.stanford.edu/data/glove.6B.zip\"\n",
        "\n",
        "glove_path = os.path.join(os.getcwd(),\"Glove\")\n",
        "glove_zip = os.path.join(os.getcwd(),\"Glove\", \"glove.6B.zip\")\n",
        "\n",
        "if not os.path.exists(glove_path):\n",
        "    os.makedirs(glove_path)\n",
        "\n",
        "if not os.path.exists(glove_zip):\n",
        "    urllib.request.urlretrieve(url, glove_zip)\n",
        "    print(\"Successful download\")\n",
        "\n",
        "with zipfile.ZipFile(glove_zip, 'r') as zip_ref:\n",
        "    zip_ref.extractall(path=glove_path)\n",
        "    print(\"Successful extraction\")"
      ],
      "metadata": {
        "colab": {
          "base_uri": "https://localhost:8080/"
        },
        "id": "0X1idpz6BbU5",
        "outputId": "d266435d-0cc4-40b5-cdfc-45b66dfd4335"
      },
      "execution_count": null,
      "outputs": [
        {
          "output_type": "stream",
          "name": "stdout",
          "text": [
            "Successful download\n",
            "Successful extraction\n"
          ]
        }
      ]
    },
    {
      "cell_type": "markdown",
      "source": [
        "In this case, the choice was to use GloVe-100 model, which employes 100-size embeddings. Thus, the correspondent vocabulary is extracted."
      ],
      "metadata": {
        "id": "UZDW4MO96JIH"
      }
    },
    {
      "cell_type": "code",
      "source": [
        "# Extracting Glove-100 vocabulary\n",
        "\n",
        "glove_size = 100\n",
        "\n",
        "glove_file = os.path.join(os.getcwd(),\"Glove\", \"glove.6B.\"+str(glove_size)+\"d.txt\")\n",
        "\n",
        "print (\"Loading Glove Model\")\n",
        "with open(glove_file, encoding=\"utf8\" ) as f:\n",
        "    lines = f.readlines()\n",
        "glove_vocabulary = {}\n",
        "for line in lines:\n",
        "    splits = line.split()\n",
        "    glove_vocabulary[splits[0]] = np.array([float(val) for val in splits[1:]])\n",
        "print (\"Done.\",len(glove_vocabulary.keys()),\" words loaded!\")"
      ],
      "metadata": {
        "colab": {
          "base_uri": "https://localhost:8080/"
        },
        "id": "i05pBgumBgN5",
        "outputId": "71ad03c2-6c35-4ab0-e757-5bc7ca529146"
      },
      "execution_count": null,
      "outputs": [
        {
          "output_type": "stream",
          "name": "stdout",
          "text": [
            "Loading Glove Model\n",
            "Done. 400000  words loaded!\n"
          ]
        }
      ]
    },
    {
      "cell_type": "markdown",
      "source": [
        "## 4.2 Vocabulary adaptation & embedding matrix creation"
      ],
      "metadata": {
        "id": "Lct3qjyisQgs"
      }
    },
    {
      "cell_type": "markdown",
      "source": [
        "Starting from the GloVe vocabulary, a costumed one is created by adding to GloVe a random embedding for the Out Of Vocabulary (OOV) terms contained in the train, test and validation set.\n"
      ],
      "metadata": {
        "id": "kj2Dwb2TDbER"
      }
    },
    {
      "cell_type": "code",
      "source": [
        "# Flattening the lists of sentences in a list\n",
        "flattened_sent_train = list(itertools.chain(*sentences_train))\n",
        "flattened_sent_val = list(itertools.chain(*sentences_val))\n",
        "flattened_sent_test = list(itertools.chain(*sentences_test))\n",
        "\n",
        "# Creating a list of words for train, validation and test\n",
        "list_of_words_train = sorted(list(set(flattened_sent_train)))\n",
        "list_of_words_val = sorted(list(set(flattened_sent_val)))\n",
        "list_of_words_test = sorted(list(set(flattened_sent_test)))"
      ],
      "metadata": {
        "id": "vm4p2bCrsOwR"
      },
      "execution_count": null,
      "outputs": []
    },
    {
      "cell_type": "code",
      "source": [
        "def add_OOV_embedding(list_of_words, vocabulary):\n",
        "\n",
        "  \"\"\"\n",
        "  For all the words in `list_of_words` not contained into `vocabulary` (OOV terms), compute a random embedding and add it to `vocabulary`.\n",
        "  \"\"\"\n",
        "  vocabulary_copy = vocabulary.copy()\n",
        "\n",
        "  for word in list_of_words:\n",
        "    if word not in vocabulary_copy.keys():\n",
        "      vocabulary_copy[word] = np.random.uniform(low=-0.05, high=0.05, size=glove_size) # OOV\n",
        "\n",
        "  return vocabulary_copy\n",
        "\n",
        "\n",
        "# Update GloVe vocabulary with OOV words of train, validation and test sets\n",
        "\n",
        "vocabulary_1 = glove_vocabulary.copy()\n",
        "print(\"Initial size Glove vocabulary:        \", len(vocabulary_1))\n",
        "vocabulary_2 = add_OOV_embedding(list_of_words_train, vocabulary_1)\n",
        "print(\"Vocabulary size after train OOV words:\", len(vocabulary_2))\n",
        "vocabulary_3 = add_OOV_embedding(list_of_words_val, vocabulary_2)\n",
        "print(\"Vocabulary size after val OOV words:  \", len(vocabulary_3))\n",
        "vocabulary_4 = add_OOV_embedding(list_of_words_test, vocabulary_3)\n",
        "print(\"Vocabulary size after test OOV words: \", len(vocabulary_4))"
      ],
      "metadata": {
        "colab": {
          "base_uri": "https://localhost:8080/"
        },
        "id": "HOwnw-etszVb",
        "outputId": "2be9898e-6e8f-471f-df51-6af4c120268f"
      },
      "execution_count": null,
      "outputs": [
        {
          "output_type": "stream",
          "name": "stdout",
          "text": [
            "Initial size Glove vocabulary:         400000\n",
            "Vocabulary size after train OOV words: 402363\n",
            "Vocabulary size after val OOV words:   403294\n",
            "Vocabulary size after test OOV words:  403742\n"
          ]
        }
      ]
    },
    {
      "cell_type": "markdown",
      "source": [
        "Then, to each vocabulary word is assigned an index and all the pairs {word : index} are saved in the `word2id_dict` dictionary."
      ],
      "metadata": {
        "id": "XrImW9Rw7YgI"
      }
    },
    {
      "cell_type": "code",
      "source": [
        "# Creating word:index dictionary\n",
        "\n",
        "vocab_size = len(vocabulary_4)+1 # +1 for padding\n",
        "\n",
        "indexes = np.arange(1,vocab_size) # starting from 1 because 0 index is reserved for padding\n",
        "word2id_dict = dict(zip(vocabulary_4.keys(), indexes))"
      ],
      "metadata": {
        "id": "JXL-sFajRhMO"
      },
      "execution_count": null,
      "outputs": []
    },
    {
      "cell_type": "markdown",
      "source": [
        "Finally, the `embedding_matrix` is created, which contains the embedding of each word in the vocabulary, and it is indexed with the corresponding word index."
      ],
      "metadata": {
        "id": "dJa_6PyK7VWp"
      }
    },
    {
      "cell_type": "code",
      "source": [
        "# Creating the embedding matrix\n",
        "\n",
        "embedding_matrix = np.zeros((vocab_size, glove_size))\n",
        "\n",
        "for word, i in word2id_dict.items():\n",
        "  embedding_matrix[i] = vocabulary_4.get(word)\n",
        "\n",
        "print(\"The shape of the created embedding matrix is:\", embedding_matrix.shape)"
      ],
      "metadata": {
        "id": "b004nGj-47V_",
        "colab": {
          "base_uri": "https://localhost:8080/"
        },
        "outputId": "798afec2-ae5d-42d5-f9a7-e262d3e4af2f"
      },
      "execution_count": null,
      "outputs": [
        {
          "output_type": "stream",
          "name": "stdout",
          "text": [
            "The shape of the created embedding matrix is: (403743, 100)\n"
          ]
        }
      ]
    },
    {
      "cell_type": "markdown",
      "source": [
        "## 4.3 Data conversion"
      ],
      "metadata": {
        "id": "jblx5b8hQv8v"
      }
    },
    {
      "cell_type": "markdown",
      "source": [
        "Using the `word2id_dict`, all sentences can be converted from a list of words into a list of indexes."
      ],
      "metadata": {
        "id": "CcqcrK7EAkMz"
      }
    },
    {
      "cell_type": "code",
      "source": [
        "def sentences_2_indexes(sentences, word2id_dict):\n",
        "    \"\"\"\n",
        "    Convert each word in `sentences` into numerical format, according to `word2id_dict`.\n",
        "    \"\"\"\n",
        "    matrix = [np.array([word2id_dict[word] for word in sentence]) for sentence in sentences]\n",
        "    return matrix\n",
        "\n",
        "\n",
        "# Sentences conversion into numerical format\n",
        "ids_word_train = sentences_2_indexes(sentences_train, word2id_dict)\n",
        "ids_word_val = sentences_2_indexes(sentences_val, word2id_dict)\n",
        "ids_word_test = sentences_2_indexes(sentences_test, word2id_dict)\n",
        "\n",
        "print(\"Original sentence:\", sentences_train[0])\n",
        "print(\"Numerical format:\", list(ids_word_train[0]))"
      ],
      "metadata": {
        "id": "vWfoPJzh2bnq",
        "colab": {
          "base_uri": "https://localhost:8080/"
        },
        "outputId": "86ef586b-58e4-4d19-fea7-0023008b2ffc"
      },
      "execution_count": null,
      "outputs": [
        {
          "output_type": "stream",
          "name": "stdout",
          "text": [
            "Original sentence: ['Rudolph', 'Agnew', ',', '55', 'years', 'old', 'and', 'former', 'chairman', 'of', 'Consolidated', 'Gold', 'Fields', 'PLC', ',', 'was', 'named', 'a', 'nonexecutive', 'director', 'of', 'this', 'British', 'industrial', 'conglomerate', '.']\n",
            "Numerical format: [401708, 400107, 2, 3069, 83, 168, 6, 158, 664, 4, 400494, 400834, 400738, 401485, 2, 16, 565, 8, 128565, 370, 4, 38, 400313, 1272, 10254, 3]\n"
          ]
        }
      ]
    },
    {
      "cell_type": "markdown",
      "source": [
        "## 4.4 Padding"
      ],
      "metadata": {
        "id": "pMxNlJwfZz3u"
      }
    },
    {
      "cell_type": "markdown",
      "source": [
        "The sentences in the corpus are not of the same length. Before feeding the input in the models, it's needed to fix the length of the sentences. Therefore, the next step after encoding the data is to define the maximum sequence length. It has been decided to compute `max_seq_length` as to handle the 99% of the training sentences.\n"
      ],
      "metadata": {
        "id": "I45Fe7rkFPnP"
      }
    },
    {
      "cell_type": "code",
      "source": [
        "# Computing the maximum length of the 99% of the sentences\n",
        "\n",
        "max_seq_length = int(np.quantile([len(seq) for seq in sentences_train], 0.99))\n",
        "print('The computed sentence maximum length is', max_seq_length)"
      ],
      "metadata": {
        "id": "N2fdWkGHtUVd",
        "colab": {
          "base_uri": "https://localhost:8080/"
        },
        "outputId": "fdd22d05-a320-40d0-8a54-463680a2f3b2"
      },
      "execution_count": null,
      "outputs": [
        {
          "output_type": "stream",
          "name": "stdout",
          "text": [
            "The computed sentence maximum length is 56\n"
          ]
        }
      ]
    },
    {
      "cell_type": "markdown",
      "source": [
        "Then, all the sentences shorter than `max_seq_length` have been padded with as many 0s as to reach the maximum length, while the longer ones have simply been truncated. Also the correspondent tags lists have been padded (with the `_PAD_` tag) or truncated."
      ],
      "metadata": {
        "id": "-UFiYaUDJ7OO"
      }
    },
    {
      "cell_type": "code",
      "source": [
        "# Padding each sentence with the value 0 and the correspondent list of tags with '_PAD_'\n",
        "\n",
        "pad_sent_train = pad_sequences(ids_word_train, maxlen=max_seq_length, padding='post')\n",
        "pad_sent_val = pad_sequences(ids_word_val, maxlen=max_seq_length, padding='post')\n",
        "pad_sent_test = pad_sequences(ids_word_test, maxlen=max_seq_length, padding='post')\n",
        "\n",
        "pad_tags_train = pad_sequences(tags_train, maxlen=max_seq_length, padding='post',dtype=object, value = '_PAD_')\n",
        "pad_tags_val = pad_sequences(tags_val, maxlen=max_seq_length, padding='post', dtype=object, value = '_PAD_')\n",
        "pad_tags_test = pad_sequences(tags_test, maxlen=max_seq_length, padding='post', dtype=object, value = '_PAD_')\n",
        "\n",
        "print(\"Padded sentence:\")\n",
        "print(list(pad_sent_train[0]), '\\n')\n",
        "print(\"Padded tags:\")\n",
        "print(list(pad_tags_train[0]))"
      ],
      "metadata": {
        "colab": {
          "base_uri": "https://localhost:8080/"
        },
        "id": "Ly-QYn5cKNPy",
        "outputId": "6e7ceee1-90df-4543-f1f6-8e135770582d"
      },
      "execution_count": null,
      "outputs": [
        {
          "output_type": "stream",
          "name": "stdout",
          "text": [
            "Padded sentence:\n",
            "[401708, 400107, 2, 3069, 83, 168, 6, 158, 664, 4, 400494, 400834, 400738, 401485, 2, 16, 565, 8, 128565, 370, 4, 38, 400313, 1272, 10254, 3, 0, 0, 0, 0, 0, 0, 0, 0, 0, 0, 0, 0, 0, 0, 0, 0, 0, 0, 0, 0, 0, 0, 0, 0, 0, 0, 0, 0, 0, 0] \n",
            "\n",
            "Padded tags:\n",
            "['NNP', 'NNP', ',', 'CD', 'NNS', 'JJ', 'CC', 'JJ', 'NN', 'IN', 'NNP', 'NNP', 'NNP', 'NNP', ',', 'VBD', 'VBN', 'DT', 'JJ', 'NN', 'IN', 'DT', 'JJ', 'JJ', 'NN', '.', '_PAD_', '_PAD_', '_PAD_', '_PAD_', '_PAD_', '_PAD_', '_PAD_', '_PAD_', '_PAD_', '_PAD_', '_PAD_', '_PAD_', '_PAD_', '_PAD_', '_PAD_', '_PAD_', '_PAD_', '_PAD_', '_PAD_', '_PAD_', '_PAD_', '_PAD_', '_PAD_', '_PAD_', '_PAD_', '_PAD_', '_PAD_', '_PAD_', '_PAD_', '_PAD_']\n"
          ]
        }
      ]
    },
    {
      "cell_type": "markdown",
      "source": [
        "## 4.5 One-hot encoding tags transformation"
      ],
      "metadata": {
        "id": "P0kGyvJCZ45B"
      }
    },
    {
      "cell_type": "markdown",
      "source": [
        "In one hot encoding, every word (even symbols) which are part of the given text data are written in the form of vectors, constituting only of one 1 and many 0s.\n",
        "In order to encode tags, for each of them the one hot encoding is computed using `LabelEncoder()`. It allows, given the list of all the unique tags present in the corpus, to compute the correspondent list of one hot encodings, stored in `one_hot_tags`."
      ],
      "metadata": {
        "id": "Y813Tx49CBtA"
      }
    },
    {
      "cell_type": "code",
      "source": [
        "# Flattening the lists of tags in a list\n",
        "\n",
        "flattened_tags_train = list(itertools.chain(*pad_tags_train))\n",
        "flattened_tags_val = list(itertools.chain(*pad_tags_val))\n",
        "flattened_tags_test = list(itertools.chain(*pad_tags_test))\n",
        "\n",
        "unique_tags_train = list(set(flattened_tags_train))\n",
        "unique_tags_val = list(set(flattened_tags_val))\n",
        "unique_tags_test = list(set(flattened_tags_test))\n",
        "\n",
        "# Creating a list of unique tags for the entire dataset (this list contains also '_PAD_')\n",
        "unique_tags = np.array(sorted(list(set(unique_tags_train+unique_tags_val+unique_tags_test))))\n",
        "\n",
        "print(\"The list of unique tags is:\", list(unique_tags))\n",
        "print()\n",
        "print(\"The total number of unique tags (including '_PAD_') is\", len(unique_tags))"
      ],
      "metadata": {
        "id": "flzs50ZKMMDP",
        "colab": {
          "base_uri": "https://localhost:8080/"
        },
        "outputId": "d832308e-2ee2-4e52-c4c8-d606ac0aa774"
      },
      "execution_count": null,
      "outputs": [
        {
          "output_type": "stream",
          "name": "stdout",
          "text": [
            "The list of unique tags is: ['#', '$', \"''\", ',', '-LRB-', '-RRB-', '.', ':', 'CC', 'CD', 'DT', 'EX', 'FW', 'IN', 'JJ', 'JJR', 'JJS', 'LS', 'MD', 'NN', 'NNP', 'NNPS', 'NNS', 'PDT', 'POS', 'PRP', 'PRP$', 'RB', 'RBR', 'RBS', 'RP', 'SYM', 'TO', 'UH', 'VB', 'VBD', 'VBG', 'VBN', 'VBP', 'VBZ', 'WDT', 'WP', 'WP$', 'WRB', '_PAD_', '``']\n",
            "\n",
            "The total number of unique tags (including '_PAD_') is 46\n"
          ]
        }
      ]
    },
    {
      "cell_type": "code",
      "source": [
        "# Compute the one-hot encoding of tags\n",
        "\n",
        "label_encoder = LabelEncoder()\n",
        "tag_2_index = label_encoder.fit_transform(unique_tags)\n",
        "\n",
        "one_hot_tags = to_categorical(tag_2_index)\n",
        "\n",
        "print(\"One-hot encoding of\", unique_tags[21], \"is\", one_hot_tags[21])"
      ],
      "metadata": {
        "colab": {
          "base_uri": "https://localhost:8080/"
        },
        "id": "AgiX4TxBX_Wh",
        "outputId": "c5c69664-38c4-4ed2-deb2-55987fe19a1c"
      },
      "execution_count": null,
      "outputs": [
        {
          "output_type": "stream",
          "name": "stdout",
          "text": [
            "One-hot encoding of NNPS is [0. 0. 0. 0. 0. 0. 0. 0. 0. 0. 0. 0. 0. 0. 0. 0. 0. 0. 0. 0. 0. 1. 0. 0.\n",
            " 0. 0. 0. 0. 0. 0. 0. 0. 0. 0. 0. 0. 0. 0. 0. 0. 0. 0. 0. 0. 0. 0.]\n"
          ]
        }
      ]
    },
    {
      "cell_type": "markdown",
      "source": [
        "Then, all the pairs {tag : one_hot_encoding} are saved in the `dict_one_hot_tags` dictionary and it is used to transform all lists of tags in lists of corresponding one-hot encodings."
      ],
      "metadata": {
        "id": "A-F2PGu2MgJb"
      }
    },
    {
      "cell_type": "code",
      "source": [
        "def tags_2_one_hot(sentences_tags, dict_one_hot_tags):\n",
        "\n",
        "    \"\"\"\n",
        "    Encode each tag in `sentences_tags` with the correspondent one-hot encoding, according to `dict_one_hot_tags`.\n",
        "    \"\"\"\n",
        "    matrix = [np.array([dict_one_hot_tags[tag] for tag in sentence_tags]) for sentence_tags in sentences_tags]\n",
        "    return np.array(matrix)\n",
        "\n",
        "\n",
        "# Creating tag:one_hot_encoding dictionary\n",
        "dict_one_hot_tags = dict(zip(unique_tags, one_hot_tags))\n",
        "\n",
        "# Encode tags with the correspondent one-hot encoding\n",
        "one_hot_tag_train = tags_2_one_hot(pad_tags_train, dict_one_hot_tags)\n",
        "one_hot_tag_val = tags_2_one_hot(pad_tags_val, dict_one_hot_tags)\n",
        "one_hot_tag_test = tags_2_one_hot(pad_tags_test, dict_one_hot_tags)"
      ],
      "metadata": {
        "id": "VPFqTa-DfRrR"
      },
      "execution_count": null,
      "outputs": []
    },
    {
      "cell_type": "code",
      "source": [
        "print(\"len train:\",one_hot_tag_train.shape[0])\n",
        "print(\"len validation:\",one_hot_tag_val.shape[0])\n",
        "print(\"len test:\",one_hot_tag_test.shape[0])"
      ],
      "metadata": {
        "colab": {
          "base_uri": "https://localhost:8080/"
        },
        "id": "zoDHEuiZ0t_l",
        "outputId": "297fe6d9-ea82-493f-ab94-dbd565cb1ae3"
      },
      "execution_count": null,
      "outputs": [
        {
          "output_type": "stream",
          "name": "stdout",
          "text": [
            "len train: 1982\n",
            "len validation: 1286\n",
            "len test: 644\n"
          ]
        }
      ]
    },
    {
      "cell_type": "markdown",
      "source": [
        "# 5. Trying different architectures"
      ],
      "metadata": {
        "id": "mR3MZ10zkbqh"
      }
    },
    {
      "cell_type": "markdown",
      "source": [
        "In this section have been tested different RNN models based on different architectures, belonging to two main groups:\n",
        "- Bidirectional LSTM\n",
        "- GRU\n",
        "\n",
        "**LSTM** has an explicit memory unit which stores information relevant for learning some task. Also, in LSTMs, the memory units retain pieces of information even when the sequences get really long, preserving information from inputs that has already passed through it.\n",
        "In **Bidirectional LSTMs**, unlike standard LSTMs, the input flows in both directions, and they are capable of utilizing information from both sides.\n",
        "In this task the network has access to the entire sequence before making predictions, so this kind of architecture can be succesfully used.\n",
        "\n",
        "Keeping in mind the computational expenses and the problem of overfitting, researchers have tried to come up with alternate structures of the LSTM idea. The most popular one of these alternatives is the Gated Recurrent Unit, **GRU**. In GRU architectures there is a reduction in parameters in GRU compared to LSTM."
      ],
      "metadata": {
        "id": "utjpYQqkGuey"
      }
    },
    {
      "cell_type": "markdown",
      "source": [
        "## 5.1 LSTM + 1 Dense layer"
      ],
      "metadata": {
        "id": "OOATaAf6vf-Q"
      }
    },
    {
      "cell_type": "markdown",
      "source": [
        "### Definition"
      ],
      "metadata": {
        "id": "R_8kL-1BAjuy"
      }
    },
    {
      "cell_type": "markdown",
      "source": [
        "The first model defined is composed by\n",
        "* the **Input layer**, which takes as input sentences as a sequence of indexes\n",
        "* an **Embedding layer**, which is a simple lookup table that stores embeddings of each vocabulary word. Given the input as a list of indexes, it retrieves the correspondent word embeddings. In this case, it has been initialized with the `embedding_matrix` previously computed and it is set to be non-trainable. Through the option `mask_zero = True` it allows the following layers of the network to ignore padding.\n",
        "* a **Bidirectional LSTM layer** of size $100$\n",
        "* a **Time Distributed Dense layer** of size $46$\n",
        "* an **Activation layer** with the softmax function\n",
        "\n",
        "This simple architecture constitutes the baseline for all other models."
      ],
      "metadata": {
        "id": "nRNbC9U7d_ev"
      }
    },
    {
      "cell_type": "code",
      "source": [
        "LSTM_1Dense = Sequential()\n",
        "LSTM_1Dense.add(InputLayer(input_shape=(max_seq_length,)))\n",
        "LSTM_1Dense.add(Embedding(vocab_size, glove_size, weights = [embedding_matrix], input_length = (max_seq_length,glove_size), trainable = False, mask_zero = True))\n",
        "LSTM_1Dense.add(Bidirectional(LSTM(100, return_sequences=True)))\n",
        "LSTM_1Dense.add(TimeDistributed(Dense(46)))\n",
        "LSTM_1Dense.add(Activation('softmax'))"
      ],
      "metadata": {
        "id": "bd591NhZeNta"
      },
      "execution_count": null,
      "outputs": []
    },
    {
      "cell_type": "markdown",
      "source": [
        "When compiling the model, the following setup is used:\n",
        "\n",
        "* Adam optimizer\n",
        "* Categorical Cross Entropy Loss\n",
        "* Accuracy as metric"
      ],
      "metadata": {
        "id": "zQDQbCFQUeS0"
      }
    },
    {
      "cell_type": "code",
      "source": [
        "LSTM_1Dense.compile(loss='categorical_crossentropy',\n",
        "              optimizer=Adam(0.001),\n",
        "              metrics=['accuracy'])\n",
        "\n",
        "LSTM_1Dense.summary()"
      ],
      "metadata": {
        "id": "ZqODALUaR1GV",
        "colab": {
          "base_uri": "https://localhost:8080/"
        },
        "outputId": "224bace9-556d-4a12-ec80-a485c918ec6f"
      },
      "execution_count": null,
      "outputs": [
        {
          "output_type": "stream",
          "name": "stdout",
          "text": [
            "Model: \"sequential\"\n",
            "_________________________________________________________________\n",
            " Layer (type)                Output Shape              Param #   \n",
            "=================================================================\n",
            " embedding (Embedding)       (None, 56, 100)           40374300  \n",
            "                                                                 \n",
            " bidirectional (Bidirectiona  (None, 56, 200)          160800    \n",
            " l)                                                              \n",
            "                                                                 \n",
            " time_distributed (TimeDistr  (None, 56, 46)           9246      \n",
            " ibuted)                                                         \n",
            "                                                                 \n",
            " activation (Activation)     (None, 56, 46)            0         \n",
            "                                                                 \n",
            "=================================================================\n",
            "Total params: 40,544,346\n",
            "Trainable params: 170,046\n",
            "Non-trainable params: 40,374,300\n",
            "_________________________________________________________________\n"
          ]
        }
      ]
    },
    {
      "cell_type": "markdown",
      "source": [
        "### Training"
      ],
      "metadata": {
        "id": "47lLCa29Aprt"
      }
    },
    {
      "cell_type": "markdown",
      "source": [
        "The training is performed for a maximum of 100 epochs, using the early stopping technique with `patience = 5`, and with a batch size of 128."
      ],
      "metadata": {
        "id": "WQW6kbTYb4tn"
      }
    },
    {
      "cell_type": "code",
      "source": [
        "callback = keras.callbacks.EarlyStopping(monitor='val_loss', patience=5, restore_best_weights=True)\n",
        "\n",
        "history_1 = LSTM_1Dense.fit(pad_sent_train, one_hot_tag_train, batch_size=128, epochs=100, validation_data=(pad_sent_val, one_hot_tag_val), callbacks = [callback])"
      ],
      "metadata": {
        "colab": {
          "base_uri": "https://localhost:8080/"
        },
        "id": "-ZNtbzlrh99T",
        "outputId": "2a71fc20-14f9-4122-ea03-57f5893c91f6"
      },
      "execution_count": null,
      "outputs": [
        {
          "output_type": "stream",
          "name": "stdout",
          "text": [
            "Epoch 1/100\n",
            "16/16 [==============================] - 18s 385ms/step - loss: 1.3565 - accuracy: 0.1949 - val_loss: 1.1691 - val_accuracy: 0.3654\n",
            "Epoch 2/100\n",
            "16/16 [==============================] - 1s 60ms/step - loss: 1.0812 - accuracy: 0.4145 - val_loss: 0.9696 - val_accuracy: 0.4640\n",
            "Epoch 3/100\n",
            "16/16 [==============================] - 1s 74ms/step - loss: 0.8780 - accuracy: 0.5168 - val_loss: 0.7789 - val_accuracy: 0.5551\n",
            "Epoch 4/100\n",
            "16/16 [==============================] - 1s 51ms/step - loss: 0.6944 - accuracy: 0.6067 - val_loss: 0.6237 - val_accuracy: 0.6381\n",
            "Epoch 5/100\n",
            "16/16 [==============================] - 1s 36ms/step - loss: 0.5568 - accuracy: 0.6897 - val_loss: 0.5143 - val_accuracy: 0.7021\n",
            "Epoch 6/100\n",
            "16/16 [==============================] - 1s 44ms/step - loss: 0.4626 - accuracy: 0.7434 - val_loss: 0.4378 - val_accuracy: 0.7430\n",
            "Epoch 7/100\n",
            "16/16 [==============================] - 1s 37ms/step - loss: 0.3964 - accuracy: 0.7786 - val_loss: 0.3845 - val_accuracy: 0.7764\n",
            "Epoch 8/100\n",
            "16/16 [==============================] - 1s 38ms/step - loss: 0.3500 - accuracy: 0.8019 - val_loss: 0.3469 - val_accuracy: 0.8001\n",
            "Epoch 9/100\n",
            "16/16 [==============================] - 1s 37ms/step - loss: 0.3155 - accuracy: 0.8205 - val_loss: 0.3185 - val_accuracy: 0.8142\n",
            "Epoch 10/100\n",
            "16/16 [==============================] - 1s 34ms/step - loss: 0.2888 - accuracy: 0.8347 - val_loss: 0.2967 - val_accuracy: 0.8272\n",
            "Epoch 11/100\n",
            "16/16 [==============================] - 1s 44ms/step - loss: 0.2680 - accuracy: 0.8455 - val_loss: 0.2783 - val_accuracy: 0.8373\n",
            "Epoch 12/100\n",
            "16/16 [==============================] - 1s 36ms/step - loss: 0.2508 - accuracy: 0.8541 - val_loss: 0.2649 - val_accuracy: 0.8422\n",
            "Epoch 13/100\n",
            "16/16 [==============================] - 1s 35ms/step - loss: 0.2366 - accuracy: 0.8611 - val_loss: 0.2524 - val_accuracy: 0.8504\n",
            "Epoch 14/100\n",
            "16/16 [==============================] - 1s 36ms/step - loss: 0.2244 - accuracy: 0.8682 - val_loss: 0.2420 - val_accuracy: 0.8547\n",
            "Epoch 15/100\n",
            "16/16 [==============================] - 1s 35ms/step - loss: 0.2139 - accuracy: 0.8731 - val_loss: 0.2332 - val_accuracy: 0.8595\n",
            "Epoch 16/100\n",
            "16/16 [==============================] - 1s 35ms/step - loss: 0.2047 - accuracy: 0.8775 - val_loss: 0.2264 - val_accuracy: 0.8617\n",
            "Epoch 17/100\n",
            "16/16 [==============================] - 1s 35ms/step - loss: 0.1964 - accuracy: 0.8819 - val_loss: 0.2189 - val_accuracy: 0.8655\n",
            "Epoch 18/100\n",
            "16/16 [==============================] - 1s 36ms/step - loss: 0.1891 - accuracy: 0.8851 - val_loss: 0.2133 - val_accuracy: 0.8681\n",
            "Epoch 19/100\n",
            "16/16 [==============================] - 1s 36ms/step - loss: 0.1825 - accuracy: 0.8890 - val_loss: 0.2088 - val_accuracy: 0.8703\n",
            "Epoch 20/100\n",
            "16/16 [==============================] - 1s 35ms/step - loss: 0.1763 - accuracy: 0.8918 - val_loss: 0.2027 - val_accuracy: 0.8731\n",
            "Epoch 21/100\n",
            "16/16 [==============================] - 1s 36ms/step - loss: 0.1708 - accuracy: 0.8944 - val_loss: 0.1982 - val_accuracy: 0.8752\n",
            "Epoch 22/100\n",
            "16/16 [==============================] - 1s 35ms/step - loss: 0.1656 - accuracy: 0.8977 - val_loss: 0.1947 - val_accuracy: 0.8771\n",
            "Epoch 23/100\n",
            "16/16 [==============================] - 1s 35ms/step - loss: 0.1607 - accuracy: 0.9000 - val_loss: 0.1912 - val_accuracy: 0.8793\n",
            "Epoch 24/100\n",
            "16/16 [==============================] - 1s 34ms/step - loss: 0.1560 - accuracy: 0.9033 - val_loss: 0.1880 - val_accuracy: 0.8814\n",
            "Epoch 25/100\n",
            "16/16 [==============================] - 1s 36ms/step - loss: 0.1520 - accuracy: 0.9062 - val_loss: 0.1850 - val_accuracy: 0.8829\n",
            "Epoch 26/100\n",
            "16/16 [==============================] - 1s 35ms/step - loss: 0.1483 - accuracy: 0.9088 - val_loss: 0.1826 - val_accuracy: 0.8838\n",
            "Epoch 27/100\n",
            "16/16 [==============================] - 1s 37ms/step - loss: 0.1443 - accuracy: 0.9106 - val_loss: 0.1794 - val_accuracy: 0.8855\n",
            "Epoch 28/100\n",
            "16/16 [==============================] - 1s 34ms/step - loss: 0.1406 - accuracy: 0.9139 - val_loss: 0.1771 - val_accuracy: 0.8868\n",
            "Epoch 29/100\n",
            "16/16 [==============================] - 1s 35ms/step - loss: 0.1372 - accuracy: 0.9156 - val_loss: 0.1744 - val_accuracy: 0.8883\n",
            "Epoch 30/100\n",
            "16/16 [==============================] - 1s 38ms/step - loss: 0.1339 - accuracy: 0.9175 - val_loss: 0.1725 - val_accuracy: 0.8896\n",
            "Epoch 31/100\n",
            "16/16 [==============================] - 1s 36ms/step - loss: 0.1306 - accuracy: 0.9194 - val_loss: 0.1706 - val_accuracy: 0.8900\n",
            "Epoch 32/100\n",
            "16/16 [==============================] - 1s 36ms/step - loss: 0.1278 - accuracy: 0.9215 - val_loss: 0.1685 - val_accuracy: 0.8910\n",
            "Epoch 33/100\n",
            "16/16 [==============================] - 1s 34ms/step - loss: 0.1248 - accuracy: 0.9230 - val_loss: 0.1671 - val_accuracy: 0.8932\n",
            "Epoch 34/100\n",
            "16/16 [==============================] - 1s 35ms/step - loss: 0.1221 - accuracy: 0.9250 - val_loss: 0.1659 - val_accuracy: 0.8930\n",
            "Epoch 35/100\n",
            "16/16 [==============================] - 1s 35ms/step - loss: 0.1194 - accuracy: 0.9265 - val_loss: 0.1653 - val_accuracy: 0.8937\n",
            "Epoch 36/100\n",
            "16/16 [==============================] - 1s 36ms/step - loss: 0.1170 - accuracy: 0.9285 - val_loss: 0.1626 - val_accuracy: 0.8956\n",
            "Epoch 37/100\n",
            "16/16 [==============================] - 1s 35ms/step - loss: 0.1143 - accuracy: 0.9302 - val_loss: 0.1612 - val_accuracy: 0.8962\n",
            "Epoch 38/100\n",
            "16/16 [==============================] - 1s 35ms/step - loss: 0.1118 - accuracy: 0.9315 - val_loss: 0.1605 - val_accuracy: 0.8965\n",
            "Epoch 39/100\n",
            "16/16 [==============================] - 1s 34ms/step - loss: 0.1099 - accuracy: 0.9328 - val_loss: 0.1592 - val_accuracy: 0.8967\n",
            "Epoch 40/100\n",
            "16/16 [==============================] - 1s 35ms/step - loss: 0.1075 - accuracy: 0.9338 - val_loss: 0.1591 - val_accuracy: 0.8971\n",
            "Epoch 41/100\n",
            "16/16 [==============================] - 1s 36ms/step - loss: 0.1051 - accuracy: 0.9357 - val_loss: 0.1573 - val_accuracy: 0.8982\n",
            "Epoch 42/100\n",
            "16/16 [==============================] - 1s 35ms/step - loss: 0.1025 - accuracy: 0.9378 - val_loss: 0.1567 - val_accuracy: 0.8975\n",
            "Epoch 43/100\n",
            "16/16 [==============================] - 1s 36ms/step - loss: 0.1007 - accuracy: 0.9387 - val_loss: 0.1554 - val_accuracy: 0.8980\n",
            "Epoch 44/100\n",
            "16/16 [==============================] - 1s 36ms/step - loss: 0.0987 - accuracy: 0.9399 - val_loss: 0.1548 - val_accuracy: 0.8991\n",
            "Epoch 45/100\n",
            "16/16 [==============================] - 1s 38ms/step - loss: 0.0963 - accuracy: 0.9420 - val_loss: 0.1540 - val_accuracy: 0.8997\n",
            "Epoch 46/100\n",
            "16/16 [==============================] - 1s 35ms/step - loss: 0.0941 - accuracy: 0.9432 - val_loss: 0.1535 - val_accuracy: 0.9002\n",
            "Epoch 47/100\n",
            "16/16 [==============================] - 1s 37ms/step - loss: 0.0923 - accuracy: 0.9443 - val_loss: 0.1523 - val_accuracy: 0.9001\n",
            "Epoch 48/100\n",
            "16/16 [==============================] - 1s 53ms/step - loss: 0.0904 - accuracy: 0.9459 - val_loss: 0.1518 - val_accuracy: 0.8991\n",
            "Epoch 49/100\n",
            "16/16 [==============================] - 1s 50ms/step - loss: 0.0890 - accuracy: 0.9465 - val_loss: 0.1511 - val_accuracy: 0.9007\n",
            "Epoch 50/100\n",
            "16/16 [==============================] - 1s 51ms/step - loss: 0.0869 - accuracy: 0.9485 - val_loss: 0.1505 - val_accuracy: 0.9007\n",
            "Epoch 51/100\n",
            "16/16 [==============================] - 0s 31ms/step - loss: 0.0852 - accuracy: 0.9496 - val_loss: 0.1510 - val_accuracy: 0.9014\n",
            "Epoch 52/100\n",
            "16/16 [==============================] - 1s 36ms/step - loss: 0.0831 - accuracy: 0.9504 - val_loss: 0.1503 - val_accuracy: 0.9007\n",
            "Epoch 53/100\n",
            "16/16 [==============================] - 1s 36ms/step - loss: 0.0812 - accuracy: 0.9523 - val_loss: 0.1501 - val_accuracy: 0.9017\n",
            "Epoch 54/100\n",
            "16/16 [==============================] - 1s 36ms/step - loss: 0.0796 - accuracy: 0.9534 - val_loss: 0.1489 - val_accuracy: 0.9007\n",
            "Epoch 55/100\n",
            "16/16 [==============================] - 0s 29ms/step - loss: 0.0781 - accuracy: 0.9545 - val_loss: 0.1498 - val_accuracy: 0.9017\n",
            "Epoch 56/100\n",
            "16/16 [==============================] - 1s 35ms/step - loss: 0.0765 - accuracy: 0.9556 - val_loss: 0.1488 - val_accuracy: 0.9012\n",
            "Epoch 57/100\n",
            "16/16 [==============================] - 1s 33ms/step - loss: 0.0746 - accuracy: 0.9570 - val_loss: 0.1513 - val_accuracy: 0.9011\n",
            "Epoch 58/100\n",
            "16/16 [==============================] - 1s 50ms/step - loss: 0.0734 - accuracy: 0.9576 - val_loss: 0.1497 - val_accuracy: 0.9011\n",
            "Epoch 59/100\n",
            "16/16 [==============================] - 1s 34ms/step - loss: 0.0714 - accuracy: 0.9590 - val_loss: 0.1489 - val_accuracy: 0.9014\n",
            "Epoch 60/100\n",
            "16/16 [==============================] - 0s 28ms/step - loss: 0.0698 - accuracy: 0.9604 - val_loss: 0.1488 - val_accuracy: 0.9015\n",
            "Epoch 61/100\n",
            "16/16 [==============================] - 0s 31ms/step - loss: 0.0682 - accuracy: 0.9621 - val_loss: 0.1490 - val_accuracy: 0.9017\n"
          ]
        }
      ]
    },
    {
      "cell_type": "code",
      "source": [
        "def plot_accuracy_loss(history):\n",
        "\n",
        "  plt.figure(figsize=(15, 5))\n",
        "\n",
        "  ax = plt.subplot(1, 2, 1)\n",
        "  plt.plot(history.history['accuracy'])\n",
        "  plt.plot(history.history['val_accuracy'])\n",
        "  plt.title('Model accuracy')\n",
        "  plt.ylabel('accuracy')\n",
        "  plt.xlabel('epoch')\n",
        "  plt.legend(['train', 'val'], loc='upper left')\n",
        "\n",
        "  ax = plt.subplot(1, 2, 2)\n",
        "  plt.plot(history.history['loss'])\n",
        "  plt.plot(history.history['val_loss'])\n",
        "  plt.title('Model loss')\n",
        "  plt.ylabel('loss')\n",
        "  plt.xlabel('epoch')\n",
        "  plt.legend(['train', 'val'], loc='upper left')\n",
        "\n",
        "  plt.show()\n",
        "\n",
        "\n",
        "plot_accuracy_loss(history_1)"
      ],
      "metadata": {
        "id": "V_rOziaiFMYT",
        "colab": {
          "base_uri": "https://localhost:8080/",
          "height": 350
        },
        "outputId": "fcd5ad15-cf5a-4ea7-8050-6bc24169c5dd"
      },
      "execution_count": null,
      "outputs": [
        {
          "output_type": "display_data",
          "data": {
            "text/plain": [
              "<Figure size 1080x360 with 2 Axes>"
            ],
            "image/png": "[encoded data removed]"
          },
          "metadata": {
            "needs_background": "light"
          }
        }
      ]
    },
    {
      "cell_type": "markdown",
      "source": [
        "Both the accuracy and the loss curves are smooth, with no strong signs of overfitting. Results seem to be quite good."
      ],
      "metadata": {
        "id": "1fTAFtPJe1IJ"
      }
    },
    {
      "cell_type": "markdown",
      "source": [
        "### Performances on the validation set"
      ],
      "metadata": {
        "id": "lZpeM6W7As60"
      }
    },
    {
      "cell_type": "markdown",
      "source": [
        "First, let's compute the predictions on the validation set. This is done to be able to evaluate the model according to the macro f1-score"
      ],
      "metadata": {
        "id": "YpXvyq4KfZsh"
      }
    },
    {
      "cell_type": "code",
      "source": [
        "predictions_1 = LSTM_1Dense.predict(pad_sent_val)"
      ],
      "metadata": {
        "id": "PKeV1dJUh6Qd",
        "colab": {
          "base_uri": "https://localhost:8080/"
        },
        "outputId": "af960ea5-81a4-492e-f794-c957bb8e9bb6"
      },
      "execution_count": null,
      "outputs": [
        {
          "output_type": "stream",
          "name": "stdout",
          "text": [
            "41/41 [==============================] - 3s 9ms/step\n"
          ]
        }
      ]
    },
    {
      "cell_type": "markdown",
      "source": [
        "The `categorical_2_tags` function allows to retrieve the lists of predicted tags from the categorical predictions of the network."
      ],
      "metadata": {
        "id": "9SYiT_BwfrOt"
      }
    },
    {
      "cell_type": "code",
      "source": [
        "def categorical_2_tags(categorical_predictions, unique_tags):\n",
        "\n",
        "    \"\"\"\n",
        "    Retrieve predicted tags from `categorical_predictions`.\n",
        "    \"\"\"\n",
        "    tags_sequences=[]\n",
        "    for categorical_sequence in categorical_predictions:\n",
        "        tags_sequence=[]\n",
        "        for categorical in categorical_sequence:\n",
        "            tags_sequence.append(unique_tags[np.argmax(categorical)])\n",
        "        tags_sequences.append(tags_sequence)\n",
        "    return tags_sequences\n",
        "\n",
        "\n",
        "predictions_1 = categorical_2_tags(predictions_1, unique_tags)"
      ],
      "metadata": {
        "id": "tMJGLEsQwBnF"
      },
      "execution_count": null,
      "outputs": []
    },
    {
      "cell_type": "markdown",
      "source": [
        "The evaluation must be done without considering `_PAD_`, symbols and punctuation tags. Thus, they are filtered out and `labels_val` only contains tags to be considered during the f1-score computation on the validation set."
      ],
      "metadata": {
        "id": "dwsA6F4fgL7d"
      }
    },
    {
      "cell_type": "code",
      "source": [
        "# Extract tags which are not punctuation/symbols or padding\n",
        "\n",
        "punctuation_symbols = ['#', '$', ',', '.', '``', \"''\", ':', '-RRB-', '-LRB-']\n",
        "\n",
        "no_punct_pad_tags = list(unique_tags.copy())\n",
        "for p in punctuation_symbols:\n",
        "  no_punct_pad_tags.remove(p)\n",
        "\n",
        "no_punct_pad_tags.remove(\"_PAD_\")\n",
        "\n",
        "# From previously extracted tags, select only those which appear in the validation set\n",
        "labels_val = list(set(unique_tags_val).intersection(set(no_punct_pad_tags)))\n",
        "\n",
        "print(\"The validation tags on which computing models metrics are:\", labels_val)"
      ],
      "metadata": {
        "id": "XVV3qqoHvsTW",
        "colab": {
          "base_uri": "https://localhost:8080/"
        },
        "outputId": "a441e7ca-615f-4b2c-bdd2-6390a4169d49"
      },
      "execution_count": null,
      "outputs": [
        {
          "output_type": "stream",
          "name": "stdout",
          "text": [
            "The validation tags on which computing models metrics are: ['EX', 'PRP$', 'VBZ', 'NN', 'WP', 'IN', 'RBS', 'PRP', 'UH', 'TO', 'NNP', 'JJR', 'VBG', 'JJ', 'NNS', 'VBD', 'DT', 'WP$', 'VB', 'POS', 'VBP', 'LS', 'VBN', 'PDT', 'RBR', 'WRB', 'RP', 'MD', 'NNPS', 'WDT', 'FW', 'CD', 'CC', 'RB', 'JJS']\n"
          ]
        }
      ]
    },
    {
      "cell_type": "code",
      "source": [
        "# {model : scores}\n",
        "scores_dict = dict()\n",
        "\n",
        "# {model name : model}\n",
        "models_dict = dict()\n",
        "\n",
        "pad_tags_val_flat = list(itertools.chain(*pad_tags_val))\n",
        "predictions_flat_1 = list(itertools.chain(*predictions_1))\n",
        "\n",
        "report_1 = classification_report(pad_tags_val_flat, predictions_flat_1, labels = labels_val, zero_division = 0)\n",
        "scores_dict['LSTM_1Dense'] = classification_report(pad_tags_val_flat, predictions_flat_1, labels = labels_val, output_dict = True, zero_division = 0)\n",
        "models_dict['LSTM_1Dense'] = LSTM_1Dense\n",
        "\n",
        "print(report_1)"
      ],
      "metadata": {
        "id": "uKIAdI_Iv7YC",
        "colab": {
          "base_uri": "https://localhost:8080/"
        },
        "outputId": "53f17d13-7c6b-4006-af71-14ca11eebd02"
      },
      "execution_count": null,
      "outputs": [
        {
          "output_type": "stream",
          "name": "stdout",
          "text": [
            "              precision    recall  f1-score   support\n",
            "\n",
            "          EX       0.88      0.62      0.72        34\n",
            "        PRP$       0.99      0.95      0.97       256\n",
            "         VBZ       0.95      0.92      0.94       695\n",
            "          NN       0.90      0.90      0.90      4398\n",
            "          WP       0.91      0.88      0.89        80\n",
            "          IN       0.94      0.94      0.94      3177\n",
            "         RBS       0.67      0.73      0.70        11\n",
            "         PRP       0.83      0.86      0.85       570\n",
            "          UH       0.00      0.00      0.00         2\n",
            "          TO       1.00      0.99      0.99       746\n",
            "         NNP       0.81      0.95      0.87      2642\n",
            "         JJR       0.88      0.66      0.75       162\n",
            "         VBG       0.80      0.72      0.76       462\n",
            "          JJ       0.77      0.80      0.78      1858\n",
            "         NNS       0.89      0.87      0.88      2060\n",
            "         VBD       0.89      0.91      0.90       852\n",
            "          DT       0.93      0.96      0.94      2651\n",
            "         WP$       1.00      0.75      0.86         4\n",
            "          VB       0.91      0.90      0.90       948\n",
            "         POS       0.99      0.98      0.99       266\n",
            "         VBP       0.87      0.84      0.85       454\n",
            "          LS       0.33      0.67      0.44         3\n",
            "         VBN       0.84      0.75      0.79       707\n",
            "         PDT       0.00      0.00      0.00        14\n",
            "         RBR       0.52      0.72      0.61        32\n",
            "         WRB       0.93      0.69      0.80        62\n",
            "          RP       0.49      0.74      0.59        43\n",
            "          MD       1.00      0.97      0.98       342\n",
            "        NNPS       0.00      0.00      0.00       102\n",
            "         WDT       0.89      0.93      0.91       154\n",
            "          FW       0.00      0.00      0.00         2\n",
            "          CD       0.94      0.93      0.94      1218\n",
            "          CC       0.98      0.90      0.94       736\n",
            "          RB       0.82      0.78      0.80       924\n",
            "         JJS       0.93      0.66      0.77        56\n",
            "\n",
            "   micro avg       0.89      0.89      0.89     26723\n",
            "   macro avg       0.76      0.74      0.74     26723\n",
            "weighted avg       0.89      0.89      0.89     26723\n",
            "\n"
          ]
        }
      ]
    },
    {
      "cell_type": "markdown",
      "source": [
        "The macro f1-score of the `LSMT_1Dense` model on the validation set is $0.74$"
      ],
      "metadata": {
        "id": "WtoucMW4_yy5"
      }
    },
    {
      "cell_type": "markdown",
      "source": [
        "## 5.2 GRU"
      ],
      "metadata": {
        "id": "4ah1o-SzhGin"
      }
    },
    {
      "cell_type": "markdown",
      "source": [
        "### Definition"
      ],
      "metadata": {
        "id": "atDtPbMKDFvV"
      }
    },
    {
      "cell_type": "markdown",
      "source": [
        "The second model defined is composed by\n",
        "* the **Input layer**, which takes as input sentences as a sequence of indexes\n",
        "* an **Embedding layer**, initialized as for the baseline model\n",
        "* a **GRU layer** of size $100$\n",
        "* a **Time Distributed Dense layer** of size $46$\n",
        "* an **Activation layer** with the softmax function\n",
        "\n",
        "The setups for compiling the model and for the training process are the same as the baseline one."
      ],
      "metadata": {
        "id": "Q1bhBfXiAO8k"
      }
    },
    {
      "cell_type": "code",
      "source": [
        "GRU_1Dense = Sequential()\n",
        "GRU_1Dense.add(InputLayer(input_shape=(max_seq_length,)))\n",
        "GRU_1Dense.add(Embedding(vocab_size, glove_size, weights = [embedding_matrix], input_length = (max_seq_length,glove_size), trainable = False, mask_zero = True))\n",
        "GRU_1Dense.add(GRU(100, return_sequences=True))\n",
        "GRU_1Dense.add(TimeDistributed(Dense(46)))\n",
        "GRU_1Dense.add(Activation('softmax'))\n",
        "\n",
        "GRU_1Dense.compile(loss='categorical_crossentropy',\n",
        "               optimizer=Adam(0.001),\n",
        "               metrics=['accuracy'])\n",
        "\n",
        "GRU_1Dense.summary()"
      ],
      "metadata": {
        "id": "ZOIZvN31gIN6",
        "colab": {
          "base_uri": "https://localhost:8080/"
        },
        "outputId": "414de150-4e57-4c84-e046-ede2fb8ddb87"
      },
      "execution_count": null,
      "outputs": [
        {
          "output_type": "stream",
          "name": "stdout",
          "text": [
            "Model: \"sequential_1\"\n",
            "_________________________________________________________________\n",
            " Layer (type)                Output Shape              Param #   \n",
            "=================================================================\n",
            " embedding_1 (Embedding)     (None, 56, 100)           40374300  \n",
            "                                                                 \n",
            " gru (GRU)                   (None, 56, 100)           60600     \n",
            "                                                                 \n",
            " time_distributed_1 (TimeDis  (None, 56, 46)           4646      \n",
            " tributed)                                                       \n",
            "                                                                 \n",
            " activation_1 (Activation)   (None, 56, 46)            0         \n",
            "                                                                 \n",
            "=================================================================\n",
            "Total params: 40,439,546\n",
            "Trainable params: 65,246\n",
            "Non-trainable params: 40,374,300\n",
            "_________________________________________________________________\n"
          ]
        }
      ]
    },
    {
      "cell_type": "markdown",
      "source": [
        "### Training"
      ],
      "metadata": {
        "id": "c9MiyOnvDIsW"
      }
    },
    {
      "cell_type": "code",
      "source": [
        "history_2 = GRU_1Dense.fit(pad_sent_train, one_hot_tag_train, batch_size=128, epochs=100, validation_data=(pad_sent_val, one_hot_tag_val), callbacks = [callback])"
      ],
      "metadata": {
        "id": "KqeS_DMUg1E9",
        "colab": {
          "base_uri": "https://localhost:8080/"
        },
        "outputId": "b939c4b4-426c-4ad8-be02-5e3313723e01"
      },
      "execution_count": null,
      "outputs": [
        {
          "output_type": "stream",
          "name": "stdout",
          "text": [
            "Epoch 1/100\n",
            "16/16 [==============================] - 6s 154ms/step - loss: 1.4583 - accuracy: 0.1295 - val_loss: 1.2587 - val_accuracy: 0.1982\n",
            "Epoch 2/100\n",
            "16/16 [==============================] - 0s 27ms/step - loss: 1.1708 - accuracy: 0.3345 - val_loss: 1.0449 - val_accuracy: 0.4368\n",
            "Epoch 3/100\n",
            "16/16 [==============================] - 0s 24ms/step - loss: 0.9476 - accuracy: 0.5039 - val_loss: 0.8339 - val_accuracy: 0.5455\n",
            "Epoch 4/100\n",
            "16/16 [==============================] - 0s 25ms/step - loss: 0.7519 - accuracy: 0.5940 - val_loss: 0.6806 - val_accuracy: 0.6299\n",
            "Epoch 5/100\n",
            "16/16 [==============================] - 0s 25ms/step - loss: 0.6184 - accuracy: 0.6818 - val_loss: 0.5741 - val_accuracy: 0.6885\n",
            "Epoch 6/100\n",
            "16/16 [==============================] - 0s 27ms/step - loss: 0.5258 - accuracy: 0.7268 - val_loss: 0.4985 - val_accuracy: 0.7292\n",
            "Epoch 7/100\n",
            "16/16 [==============================] - 1s 46ms/step - loss: 0.4595 - accuracy: 0.7582 - val_loss: 0.4439 - val_accuracy: 0.7573\n",
            "Epoch 8/100\n",
            "16/16 [==============================] - 1s 43ms/step - loss: 0.4110 - accuracy: 0.7817 - val_loss: 0.4034 - val_accuracy: 0.7764\n",
            "Epoch 9/100\n",
            "16/16 [==============================] - 1s 37ms/step - loss: 0.3738 - accuracy: 0.7999 - val_loss: 0.3716 - val_accuracy: 0.7918\n",
            "Epoch 10/100\n",
            "16/16 [==============================] - 1s 55ms/step - loss: 0.3442 - accuracy: 0.8140 - val_loss: 0.3457 - val_accuracy: 0.8066\n",
            "Epoch 11/100\n",
            "16/16 [==============================] - 1s 51ms/step - loss: 0.3198 - accuracy: 0.8254 - val_loss: 0.3252 - val_accuracy: 0.8163\n",
            "Epoch 12/100\n",
            "16/16 [==============================] - 1s 38ms/step - loss: 0.2999 - accuracy: 0.8346 - val_loss: 0.3076 - val_accuracy: 0.8241\n",
            "Epoch 13/100\n",
            "16/16 [==============================] - 1s 39ms/step - loss: 0.2828 - accuracy: 0.8415 - val_loss: 0.2926 - val_accuracy: 0.8293\n",
            "Epoch 14/100\n",
            "16/16 [==============================] - 1s 55ms/step - loss: 0.2684 - accuracy: 0.8474 - val_loss: 0.2802 - val_accuracy: 0.8351\n",
            "Epoch 15/100\n",
            "16/16 [==============================] - 1s 51ms/step - loss: 0.2560 - accuracy: 0.8524 - val_loss: 0.2700 - val_accuracy: 0.8395\n",
            "Epoch 16/100\n",
            "16/16 [==============================] - 0s 24ms/step - loss: 0.2450 - accuracy: 0.8571 - val_loss: 0.2600 - val_accuracy: 0.8432\n",
            "Epoch 17/100\n",
            "16/16 [==============================] - 0s 24ms/step - loss: 0.2352 - accuracy: 0.8609 - val_loss: 0.2514 - val_accuracy: 0.8464\n",
            "Epoch 18/100\n",
            "16/16 [==============================] - 0s 24ms/step - loss: 0.2263 - accuracy: 0.8645 - val_loss: 0.2439 - val_accuracy: 0.8494\n",
            "Epoch 19/100\n",
            "16/16 [==============================] - 0s 24ms/step - loss: 0.2184 - accuracy: 0.8679 - val_loss: 0.2374 - val_accuracy: 0.8524\n",
            "Epoch 20/100\n",
            "16/16 [==============================] - 0s 24ms/step - loss: 0.2113 - accuracy: 0.8712 - val_loss: 0.2311 - val_accuracy: 0.8543\n",
            "Epoch 21/100\n",
            "16/16 [==============================] - 0s 23ms/step - loss: 0.2045 - accuracy: 0.8744 - val_loss: 0.2260 - val_accuracy: 0.8578\n",
            "Epoch 22/100\n",
            "16/16 [==============================] - 0s 24ms/step - loss: 0.1985 - accuracy: 0.8822 - val_loss: 0.2207 - val_accuracy: 0.8674\n",
            "Epoch 23/100\n",
            "16/16 [==============================] - 0s 24ms/step - loss: 0.1930 - accuracy: 0.8868 - val_loss: 0.2158 - val_accuracy: 0.8684\n",
            "Epoch 24/100\n",
            "16/16 [==============================] - 0s 24ms/step - loss: 0.1877 - accuracy: 0.8894 - val_loss: 0.2120 - val_accuracy: 0.8711\n",
            "Epoch 25/100\n",
            "16/16 [==============================] - 1s 33ms/step - loss: 0.1829 - accuracy: 0.8907 - val_loss: 0.2087 - val_accuracy: 0.8723\n",
            "Epoch 26/100\n",
            "16/16 [==============================] - 1s 47ms/step - loss: 0.1784 - accuracy: 0.8926 - val_loss: 0.2045 - val_accuracy: 0.8738\n",
            "Epoch 27/100\n",
            "16/16 [==============================] - 1s 51ms/step - loss: 0.1739 - accuracy: 0.8942 - val_loss: 0.2012 - val_accuracy: 0.8742\n",
            "Epoch 28/100\n",
            "16/16 [==============================] - 1s 57ms/step - loss: 0.1700 - accuracy: 0.8956 - val_loss: 0.1983 - val_accuracy: 0.8752\n",
            "Epoch 29/100\n",
            "16/16 [==============================] - 1s 51ms/step - loss: 0.1662 - accuracy: 0.8972 - val_loss: 0.1957 - val_accuracy: 0.8764\n",
            "Epoch 30/100\n",
            "16/16 [==============================] - 1s 61ms/step - loss: 0.1627 - accuracy: 0.8981 - val_loss: 0.1937 - val_accuracy: 0.8780\n",
            "Epoch 31/100\n",
            "16/16 [==============================] - 1s 53ms/step - loss: 0.1594 - accuracy: 0.8999 - val_loss: 0.1912 - val_accuracy: 0.8783\n",
            "Epoch 32/100\n",
            "16/16 [==============================] - 1s 48ms/step - loss: 0.1564 - accuracy: 0.9007 - val_loss: 0.1892 - val_accuracy: 0.8798\n",
            "Epoch 33/100\n",
            "16/16 [==============================] - 1s 35ms/step - loss: 0.1534 - accuracy: 0.9028 - val_loss: 0.1870 - val_accuracy: 0.8798\n",
            "Epoch 34/100\n",
            "16/16 [==============================] - 0s 31ms/step - loss: 0.1504 - accuracy: 0.9043 - val_loss: 0.1849 - val_accuracy: 0.8804\n",
            "Epoch 35/100\n",
            "16/16 [==============================] - 0s 24ms/step - loss: 0.1478 - accuracy: 0.9061 - val_loss: 0.1834 - val_accuracy: 0.8812\n",
            "Epoch 36/100\n",
            "16/16 [==============================] - 0s 24ms/step - loss: 0.1452 - accuracy: 0.9068 - val_loss: 0.1823 - val_accuracy: 0.8822\n",
            "Epoch 37/100\n",
            "16/16 [==============================] - 0s 24ms/step - loss: 0.1428 - accuracy: 0.9081 - val_loss: 0.1804 - val_accuracy: 0.8820\n",
            "Epoch 38/100\n",
            "16/16 [==============================] - 0s 24ms/step - loss: 0.1406 - accuracy: 0.9097 - val_loss: 0.1793 - val_accuracy: 0.8832\n",
            "Epoch 39/100\n",
            "16/16 [==============================] - 0s 23ms/step - loss: 0.1379 - accuracy: 0.9112 - val_loss: 0.1779 - val_accuracy: 0.8831\n",
            "Epoch 40/100\n",
            "16/16 [==============================] - 0s 24ms/step - loss: 0.1359 - accuracy: 0.9127 - val_loss: 0.1765 - val_accuracy: 0.8837\n",
            "Epoch 41/100\n",
            "16/16 [==============================] - 0s 24ms/step - loss: 0.1337 - accuracy: 0.9138 - val_loss: 0.1757 - val_accuracy: 0.8849\n",
            "Epoch 42/100\n",
            "16/16 [==============================] - 0s 25ms/step - loss: 0.1316 - accuracy: 0.9151 - val_loss: 0.1746 - val_accuracy: 0.8849\n",
            "Epoch 43/100\n",
            "16/16 [==============================] - 0s 24ms/step - loss: 0.1297 - accuracy: 0.9164 - val_loss: 0.1731 - val_accuracy: 0.8854\n",
            "Epoch 44/100\n",
            "16/16 [==============================] - 0s 23ms/step - loss: 0.1277 - accuracy: 0.9184 - val_loss: 0.1723 - val_accuracy: 0.8867\n",
            "Epoch 45/100\n",
            "16/16 [==============================] - 0s 24ms/step - loss: 0.1258 - accuracy: 0.9198 - val_loss: 0.1716 - val_accuracy: 0.8870\n",
            "Epoch 46/100\n",
            "16/16 [==============================] - 0s 25ms/step - loss: 0.1239 - accuracy: 0.9216 - val_loss: 0.1710 - val_accuracy: 0.8874\n",
            "Epoch 47/100\n",
            "16/16 [==============================] - 0s 23ms/step - loss: 0.1222 - accuracy: 0.9225 - val_loss: 0.1701 - val_accuracy: 0.8872\n",
            "Epoch 48/100\n",
            "16/16 [==============================] - 0s 24ms/step - loss: 0.1205 - accuracy: 0.9237 - val_loss: 0.1695 - val_accuracy: 0.8876\n",
            "Epoch 49/100\n",
            "16/16 [==============================] - 0s 25ms/step - loss: 0.1187 - accuracy: 0.9251 - val_loss: 0.1688 - val_accuracy: 0.8884\n",
            "Epoch 50/100\n",
            "16/16 [==============================] - 0s 24ms/step - loss: 0.1172 - accuracy: 0.9259 - val_loss: 0.1683 - val_accuracy: 0.8881\n",
            "Epoch 51/100\n",
            "16/16 [==============================] - 0s 24ms/step - loss: 0.1154 - accuracy: 0.9266 - val_loss: 0.1681 - val_accuracy: 0.8887\n",
            "Epoch 52/100\n",
            "16/16 [==============================] - 0s 25ms/step - loss: 0.1138 - accuracy: 0.9280 - val_loss: 0.1675 - val_accuracy: 0.8886\n",
            "Epoch 53/100\n",
            "16/16 [==============================] - 0s 26ms/step - loss: 0.1123 - accuracy: 0.9291 - val_loss: 0.1674 - val_accuracy: 0.8879\n",
            "Epoch 54/100\n",
            "16/16 [==============================] - 0s 25ms/step - loss: 0.1109 - accuracy: 0.9300 - val_loss: 0.1666 - val_accuracy: 0.8891\n",
            "Epoch 55/100\n",
            "16/16 [==============================] - 0s 24ms/step - loss: 0.1094 - accuracy: 0.9312 - val_loss: 0.1663 - val_accuracy: 0.8886\n",
            "Epoch 56/100\n",
            "16/16 [==============================] - 0s 16ms/step - loss: 0.1079 - accuracy: 0.9321 - val_loss: 0.1672 - val_accuracy: 0.8883\n",
            "Epoch 57/100\n",
            "16/16 [==============================] - 0s 26ms/step - loss: 0.1066 - accuracy: 0.9334 - val_loss: 0.1661 - val_accuracy: 0.8891\n",
            "Epoch 58/100\n",
            "16/16 [==============================] - 0s 23ms/step - loss: 0.1051 - accuracy: 0.9342 - val_loss: 0.1655 - val_accuracy: 0.8893\n",
            "Epoch 59/100\n",
            "16/16 [==============================] - 0s 24ms/step - loss: 0.1036 - accuracy: 0.9352 - val_loss: 0.1652 - val_accuracy: 0.8899\n",
            "Epoch 60/100\n",
            "16/16 [==============================] - 0s 18ms/step - loss: 0.1023 - accuracy: 0.9356 - val_loss: 0.1658 - val_accuracy: 0.8898\n",
            "Epoch 61/100\n",
            "16/16 [==============================] - 0s 17ms/step - loss: 0.1010 - accuracy: 0.9391 - val_loss: 0.1653 - val_accuracy: 0.8921\n",
            "Epoch 62/100\n",
            "16/16 [==============================] - 0s 23ms/step - loss: 0.0997 - accuracy: 0.9399 - val_loss: 0.1649 - val_accuracy: 0.8921\n",
            "Epoch 63/100\n",
            "16/16 [==============================] - 0s 26ms/step - loss: 0.0981 - accuracy: 0.9410 - val_loss: 0.1645 - val_accuracy: 0.8921\n",
            "Epoch 64/100\n",
            "16/16 [==============================] - 0s 17ms/step - loss: 0.0968 - accuracy: 0.9419 - val_loss: 0.1646 - val_accuracy: 0.8921\n",
            "Epoch 65/100\n",
            "16/16 [==============================] - 0s 17ms/step - loss: 0.0956 - accuracy: 0.9429 - val_loss: 0.1648 - val_accuracy: 0.8918\n",
            "Epoch 66/100\n",
            "16/16 [==============================] - 0s 17ms/step - loss: 0.0944 - accuracy: 0.9433 - val_loss: 0.1650 - val_accuracy: 0.8913\n",
            "Epoch 67/100\n",
            "16/16 [==============================] - 0s 17ms/step - loss: 0.0930 - accuracy: 0.9446 - val_loss: 0.1648 - val_accuracy: 0.8913\n",
            "Epoch 68/100\n",
            "16/16 [==============================] - 0s 19ms/step - loss: 0.0919 - accuracy: 0.9456 - val_loss: 0.1653 - val_accuracy: 0.8923\n"
          ]
        }
      ]
    },
    {
      "cell_type": "code",
      "source": [
        "plot_accuracy_loss(history_2)"
      ],
      "metadata": {
        "id": "QFOLm4aiFAwg",
        "colab": {
          "base_uri": "https://localhost:8080/",
          "height": 350
        },
        "outputId": "967ab554-e024-461f-cefe-9f80d056e03c"
      },
      "execution_count": null,
      "outputs": [
        {
          "output_type": "display_data",
          "data": {
            "text/plain": [
              "<Figure size 1080x360 with 2 Axes>"
            ],
            "image/png": "[encoded data removed]"
          },
          "metadata": {
            "needs_background": "light"
          }
        }
      ]
    },
    {
      "cell_type": "markdown",
      "source": [
        "Again, both the accuracy and the loss curves are smooth, with no strong signs of overfitting. Results seem to be slighlty worse than the baseline model, but still quite good."
      ],
      "metadata": {
        "id": "LENq_KJlCETs"
      }
    },
    {
      "cell_type": "markdown",
      "source": [
        "### Performances on the validation set"
      ],
      "metadata": {
        "id": "QGUpFB3xDMsM"
      }
    },
    {
      "cell_type": "markdown",
      "source": [
        "Let's see how the `GRU_1Dense` model performs on the validation set according the macro f1-score."
      ],
      "metadata": {
        "id": "IdMtTSNpCiZk"
      }
    },
    {
      "cell_type": "code",
      "source": [
        "predictions_2 = GRU_1Dense.predict(pad_sent_val)"
      ],
      "metadata": {
        "id": "HFJDIywth96_",
        "colab": {
          "base_uri": "https://localhost:8080/"
        },
        "outputId": "3b2c7600-f14c-458f-c996-f0608e1e8208"
      },
      "execution_count": null,
      "outputs": [
        {
          "output_type": "stream",
          "name": "stdout",
          "text": [
            "41/41 [==============================] - 2s 4ms/step\n"
          ]
        }
      ]
    },
    {
      "cell_type": "code",
      "source": [
        "predictions_2 = categorical_2_tags(predictions_2, unique_tags)"
      ],
      "metadata": {
        "id": "jUH7P3KGxX_A"
      },
      "execution_count": null,
      "outputs": []
    },
    {
      "cell_type": "code",
      "source": [
        "predictions_flat_2 = list(itertools.chain(*predictions_2))\n",
        "\n",
        "report_2 = classification_report(pad_tags_val_flat, predictions_flat_2, labels = labels_val, zero_division = 0)\n",
        "scores_dict['GRU_1Dense'] = classification_report(pad_tags_val_flat, predictions_flat_2, labels = labels_val, output_dict = True, zero_division = 0)\n",
        "models_dict['GRU_1Dense'] = GRU_1Dense\n",
        "\n",
        "print(report_2)"
      ],
      "metadata": {
        "id": "SQc-PAZ0xX0G",
        "colab": {
          "base_uri": "https://localhost:8080/"
        },
        "outputId": "ce4b085b-02c9-4a4a-96b4-f889f2145a90"
      },
      "execution_count": null,
      "outputs": [
        {
          "output_type": "stream",
          "name": "stdout",
          "text": [
            "              precision    recall  f1-score   support\n",
            "\n",
            "          EX       0.91      0.62      0.74        34\n",
            "        PRP$       0.98      0.95      0.96       256\n",
            "         VBZ       0.96      0.91      0.93       695\n",
            "          NN       0.91      0.88      0.90      4398\n",
            "          WP       0.95      0.88      0.91        80\n",
            "          IN       0.96      0.93      0.94      3177\n",
            "         RBS       0.50      0.64      0.56        11\n",
            "         PRP       0.01      0.77      0.02       570\n",
            "          UH       0.00      0.00      0.00         2\n",
            "          TO       1.00      0.99      0.99       746\n",
            "         NNP       0.72      0.95      0.82      2642\n",
            "         JJR       0.90      0.69      0.78       162\n",
            "         VBG       0.78      0.78      0.78       462\n",
            "          JJ       0.78      0.77      0.77      1858\n",
            "         NNS       0.92      0.87      0.89      2060\n",
            "         VBD       0.89      0.89      0.89       852\n",
            "          DT       0.88      0.96      0.92      2651\n",
            "         WP$       1.00      0.75      0.86         4\n",
            "          VB       0.93      0.88      0.90       948\n",
            "         POS       0.96      1.00      0.98       266\n",
            "         VBP       0.84      0.86      0.85       454\n",
            "          LS       0.10      0.33      0.15         3\n",
            "         VBN       0.82      0.75      0.78       707\n",
            "         PDT       0.00      0.00      0.00        14\n",
            "         RBR       0.39      0.59      0.47        32\n",
            "         WRB       1.00      0.76      0.86        62\n",
            "          RP       0.48      0.72      0.57        43\n",
            "          MD       0.99      0.98      0.99       342\n",
            "        NNPS       0.00      0.00      0.00       102\n",
            "         WDT       0.85      0.77      0.81       154\n",
            "          FW       0.00      0.00      0.00         2\n",
            "          CD       0.94      0.90      0.92      1218\n",
            "          CC       1.00      0.89      0.94       736\n",
            "          RB       0.83      0.77      0.80       924\n",
            "         JJS       0.86      0.68      0.76        56\n",
            "\n",
            "   micro avg       0.34      0.88      0.50     26723\n",
            "   macro avg       0.72      0.72      0.70     26723\n",
            "weighted avg       0.86      0.88      0.86     26723\n",
            "\n"
          ]
        }
      ]
    },
    {
      "cell_type": "markdown",
      "source": [
        "Results are coherent with the validation accuracy values observed during training, as the macro f1-score reached by the `GRU_1Dense` model is $0.70$, so $0.04$ points lower with respect to the baseline one."
      ],
      "metadata": {
        "id": "WshOicxtC2B-"
      }
    },
    {
      "cell_type": "markdown",
      "source": [
        "## 5.3 LSTM + 2 Dense layers"
      ],
      "metadata": {
        "id": "Rx8VqXIQg96-"
      }
    },
    {
      "cell_type": "markdown",
      "source": [
        "### Definition"
      ],
      "metadata": {
        "id": "7VqG5NJLDTsT"
      }
    },
    {
      "cell_type": "markdown",
      "source": [
        "The third model defined is composed by\n",
        "* the **Input layer**, which takes as input sentences as a sequence of indexes\n",
        "* an **Embedding layer**, initialized as for the baseline model\n",
        "* a **Bidirectional LSTM layer** of size $100$\n",
        "* a **Time Distributed Dense layer** of size $256$\n",
        "* another **Time Distributed Dense layer** of size $46$\n",
        "* an **Activation layer** with the softmax function\n",
        "\n",
        "The setups for compiling the model and for the training process are again the same as the baseline one."
      ],
      "metadata": {
        "id": "Lv0iR3-9EIju"
      }
    },
    {
      "cell_type": "code",
      "source": [
        "LSTM_2Dense = Sequential()\n",
        "LSTM_2Dense.add(InputLayer(input_shape=(max_seq_length,)))\n",
        "LSTM_2Dense.add(Embedding(vocab_size, glove_size, weights = [embedding_matrix], input_length = (max_seq_length,glove_size), trainable = False, mask_zero = True))\n",
        "LSTM_2Dense.add(Bidirectional(LSTM(100, return_sequences=True)))\n",
        "LSTM_2Dense.add(TimeDistributed(Dense(256)))\n",
        "LSTM_2Dense.add(TimeDistributed(Dense(46)))\n",
        "LSTM_2Dense.add(Activation('softmax'))\n",
        "\n",
        "LSTM_2Dense.compile(loss='categorical_crossentropy',\n",
        "               optimizer=Adam(0.001),\n",
        "               metrics=['accuracy'])\n",
        "\n",
        "LSTM_2Dense.summary()"
      ],
      "metadata": {
        "id": "DJ6_4NvBg8qU",
        "colab": {
          "base_uri": "https://localhost:8080/"
        },
        "outputId": "8d304787-bf6c-49de-bc73-fa100e05140d"
      },
      "execution_count": null,
      "outputs": [
        {
          "output_type": "stream",
          "name": "stdout",
          "text": [
            "Model: \"sequential_2\"\n",
            "_________________________________________________________________\n",
            " Layer (type)                Output Shape              Param #   \n",
            "=================================================================\n",
            " embedding_2 (Embedding)     (None, 56, 100)           40374300  \n",
            "                                                                 \n",
            " bidirectional_1 (Bidirectio  (None, 56, 200)          160800    \n",
            " nal)                                                            \n",
            "                                                                 \n",
            " time_distributed_2 (TimeDis  (None, 56, 256)          51456     \n",
            " tributed)                                                       \n",
            "                                                                 \n",
            " time_distributed_3 (TimeDis  (None, 56, 46)           11822     \n",
            " tributed)                                                       \n",
            "                                                                 \n",
            " activation_2 (Activation)   (None, 56, 46)            0         \n",
            "                                                                 \n",
            "=================================================================\n",
            "Total params: 40,598,378\n",
            "Trainable params: 224,078\n",
            "Non-trainable params: 40,374,300\n",
            "_________________________________________________________________\n"
          ]
        }
      ]
    },
    {
      "cell_type": "markdown",
      "source": [
        "### Training"
      ],
      "metadata": {
        "id": "TWtCYeefDWDF"
      }
    },
    {
      "cell_type": "code",
      "source": [
        "history_3 = LSTM_2Dense.fit(pad_sent_train, one_hot_tag_train, batch_size=128, epochs=100, validation_data=(pad_sent_val, one_hot_tag_val), callbacks = [callback])"
      ],
      "metadata": {
        "id": "Dpz5viX5fets",
        "colab": {
          "base_uri": "https://localhost:8080/"
        },
        "outputId": "4e00b74d-4f8f-4262-be40-4dcc7b214080"
      },
      "execution_count": null,
      "outputs": [
        {
          "output_type": "stream",
          "name": "stdout",
          "text": [
            "Epoch 1/100\n",
            "16/16 [==============================] - 14s 294ms/step - loss: 1.3161 - accuracy: 0.2236 - val_loss: 1.0972 - val_accuracy: 0.3816\n",
            "Epoch 2/100\n",
            "16/16 [==============================] - 1s 50ms/step - loss: 0.9487 - accuracy: 0.4589 - val_loss: 0.7667 - val_accuracy: 0.5314\n",
            "Epoch 3/100\n",
            "16/16 [==============================] - 1s 43ms/step - loss: 0.6317 - accuracy: 0.6136 - val_loss: 0.5167 - val_accuracy: 0.6831\n",
            "Epoch 4/100\n",
            "16/16 [==============================] - 1s 44ms/step - loss: 0.4319 - accuracy: 0.7420 - val_loss: 0.3818 - val_accuracy: 0.7627\n",
            "Epoch 5/100\n",
            "16/16 [==============================] - 1s 43ms/step - loss: 0.3306 - accuracy: 0.7987 - val_loss: 0.3132 - val_accuracy: 0.8051\n",
            "Epoch 6/100\n",
            "16/16 [==============================] - 1s 41ms/step - loss: 0.2750 - accuracy: 0.8312 - val_loss: 0.2750 - val_accuracy: 0.8270\n",
            "Epoch 7/100\n",
            "16/16 [==============================] - 1s 70ms/step - loss: 0.2419 - accuracy: 0.8523 - val_loss: 0.2484 - val_accuracy: 0.8443\n",
            "Epoch 8/100\n",
            "16/16 [==============================] - 1s 58ms/step - loss: 0.2191 - accuracy: 0.8645 - val_loss: 0.2325 - val_accuracy: 0.8536\n",
            "Epoch 9/100\n",
            "16/16 [==============================] - 1s 55ms/step - loss: 0.2013 - accuracy: 0.8745 - val_loss: 0.2184 - val_accuracy: 0.8600\n",
            "Epoch 10/100\n",
            "16/16 [==============================] - 1s 47ms/step - loss: 0.1878 - accuracy: 0.8822 - val_loss: 0.2075 - val_accuracy: 0.8678\n",
            "Epoch 11/100\n",
            "16/16 [==============================] - 1s 59ms/step - loss: 0.1766 - accuracy: 0.8890 - val_loss: 0.2009 - val_accuracy: 0.8704\n",
            "Epoch 12/100\n",
            "16/16 [==============================] - 1s 48ms/step - loss: 0.1668 - accuracy: 0.8931 - val_loss: 0.1920 - val_accuracy: 0.8756\n",
            "Epoch 13/100\n",
            "16/16 [==============================] - 1s 41ms/step - loss: 0.1586 - accuracy: 0.8981 - val_loss: 0.1878 - val_accuracy: 0.8784\n",
            "Epoch 14/100\n",
            "16/16 [==============================] - 1s 51ms/step - loss: 0.1505 - accuracy: 0.9033 - val_loss: 0.1829 - val_accuracy: 0.8808\n",
            "Epoch 15/100\n",
            "16/16 [==============================] - 1s 50ms/step - loss: 0.1443 - accuracy: 0.9079 - val_loss: 0.1798 - val_accuracy: 0.8843\n",
            "Epoch 16/100\n",
            "16/16 [==============================] - 1s 40ms/step - loss: 0.1386 - accuracy: 0.9114 - val_loss: 0.1738 - val_accuracy: 0.8878\n",
            "Epoch 17/100\n",
            "16/16 [==============================] - 1s 43ms/step - loss: 0.1323 - accuracy: 0.9145 - val_loss: 0.1706 - val_accuracy: 0.8888\n",
            "Epoch 18/100\n",
            "16/16 [==============================] - 1s 44ms/step - loss: 0.1269 - accuracy: 0.9189 - val_loss: 0.1673 - val_accuracy: 0.8920\n",
            "Epoch 19/100\n",
            "16/16 [==============================] - 1s 40ms/step - loss: 0.1220 - accuracy: 0.9215 - val_loss: 0.1632 - val_accuracy: 0.8940\n",
            "Epoch 20/100\n",
            "16/16 [==============================] - 1s 60ms/step - loss: 0.1171 - accuracy: 0.9243 - val_loss: 0.1623 - val_accuracy: 0.8940\n",
            "Epoch 21/100\n",
            "16/16 [==============================] - 1s 58ms/step - loss: 0.1129 - accuracy: 0.9274 - val_loss: 0.1595 - val_accuracy: 0.8955\n",
            "Epoch 22/100\n",
            "16/16 [==============================] - 1s 54ms/step - loss: 0.1091 - accuracy: 0.9302 - val_loss: 0.1560 - val_accuracy: 0.8973\n",
            "Epoch 23/100\n",
            "16/16 [==============================] - 1s 36ms/step - loss: 0.1058 - accuracy: 0.9326 - val_loss: 0.1550 - val_accuracy: 0.8986\n",
            "Epoch 24/100\n",
            "16/16 [==============================] - 1s 42ms/step - loss: 0.1017 - accuracy: 0.9352 - val_loss: 0.1549 - val_accuracy: 0.8986\n",
            "Epoch 25/100\n",
            "16/16 [==============================] - 1s 38ms/step - loss: 0.0973 - accuracy: 0.9372 - val_loss: 0.1515 - val_accuracy: 0.9008\n",
            "Epoch 26/100\n",
            "16/16 [==============================] - 1s 56ms/step - loss: 0.0939 - accuracy: 0.9395 - val_loss: 0.1510 - val_accuracy: 0.9005\n",
            "Epoch 27/100\n",
            "16/16 [==============================] - 1s 46ms/step - loss: 0.0910 - accuracy: 0.9419 - val_loss: 0.1529 - val_accuracy: 0.9008\n",
            "Epoch 28/100\n",
            "16/16 [==============================] - 1s 52ms/step - loss: 0.0884 - accuracy: 0.9432 - val_loss: 0.1502 - val_accuracy: 0.9037\n",
            "Epoch 29/100\n",
            "16/16 [==============================] - 1s 48ms/step - loss: 0.0847 - accuracy: 0.9463 - val_loss: 0.1507 - val_accuracy: 0.9023\n",
            "Epoch 30/100\n",
            "16/16 [==============================] - 1s 56ms/step - loss: 0.0817 - accuracy: 0.9485 - val_loss: 0.1496 - val_accuracy: 0.9029\n",
            "Epoch 31/100\n",
            "16/16 [==============================] - 1s 47ms/step - loss: 0.0783 - accuracy: 0.9504 - val_loss: 0.1500 - val_accuracy: 0.9018\n",
            "Epoch 32/100\n",
            "16/16 [==============================] - 1s 40ms/step - loss: 0.0762 - accuracy: 0.9517 - val_loss: 0.1491 - val_accuracy: 0.9044\n",
            "Epoch 33/100\n",
            "16/16 [==============================] - 0s 29ms/step - loss: 0.0733 - accuracy: 0.9537 - val_loss: 0.1528 - val_accuracy: 0.9028\n",
            "Epoch 34/100\n",
            "16/16 [==============================] - 0s 27ms/step - loss: 0.0711 - accuracy: 0.9555 - val_loss: 0.1494 - val_accuracy: 0.9040\n",
            "Epoch 35/100\n",
            "16/16 [==============================] - 1s 35ms/step - loss: 0.0677 - accuracy: 0.9576 - val_loss: 0.1465 - val_accuracy: 0.9061\n",
            "Epoch 36/100\n",
            "16/16 [==============================] - 0s 28ms/step - loss: 0.0650 - accuracy: 0.9601 - val_loss: 0.1489 - val_accuracy: 0.9048\n",
            "Epoch 37/100\n",
            "16/16 [==============================] - 0s 29ms/step - loss: 0.0626 - accuracy: 0.9617 - val_loss: 0.1487 - val_accuracy: 0.9052\n",
            "Epoch 38/100\n",
            "16/16 [==============================] - 0s 28ms/step - loss: 0.0605 - accuracy: 0.9625 - val_loss: 0.1521 - val_accuracy: 0.9029\n",
            "Epoch 39/100\n",
            "16/16 [==============================] - 0s 28ms/step - loss: 0.0583 - accuracy: 0.9646 - val_loss: 0.1522 - val_accuracy: 0.9055\n",
            "Epoch 40/100\n",
            "16/16 [==============================] - 0s 31ms/step - loss: 0.0556 - accuracy: 0.9666 - val_loss: 0.1517 - val_accuracy: 0.9052\n"
          ]
        }
      ]
    },
    {
      "cell_type": "code",
      "source": [
        "plot_accuracy_loss(history_3)"
      ],
      "metadata": {
        "id": "p79FYj8aEvp-",
        "colab": {
          "base_uri": "https://localhost:8080/",
          "height": 350
        },
        "outputId": "1a8a766d-de00-49ad-9711-e49571b75bb1"
      },
      "execution_count": null,
      "outputs": [
        {
          "output_type": "display_data",
          "data": {
            "text/plain": [
              "<Figure size 1080x360 with 2 Axes>"
            ],
            "image/png": "[encoded data removed]"
          },
          "metadata": {
            "needs_background": "light"
          }
        }
      ]
    },
    {
      "cell_type": "markdown",
      "source": [
        "Both the accuracy and the loss curves are again quite smooth, with no strong signs of overfitting. Results are still good, reached with fewer epochs than previous models."
      ],
      "metadata": {
        "id": "MBg5IEkuErY8"
      }
    },
    {
      "cell_type": "markdown",
      "source": [
        "### Performances on the validation set"
      ],
      "metadata": {
        "id": "qBGfnw7SDX5H"
      }
    },
    {
      "cell_type": "markdown",
      "source": [
        "Let's see how the `LSTM_2Dense` model performs on the validation set according the macro f1-score."
      ],
      "metadata": {
        "id": "M-WeYgRRFWNY"
      }
    },
    {
      "cell_type": "code",
      "source": [
        "predictions_3 = LSTM_2Dense.predict(pad_sent_val)"
      ],
      "metadata": {
        "id": "YJ0I2KloklMC",
        "colab": {
          "base_uri": "https://localhost:8080/"
        },
        "outputId": "f3726816-f5f6-411b-f2ad-e3f260a38355"
      },
      "execution_count": null,
      "outputs": [
        {
          "output_type": "stream",
          "name": "stdout",
          "text": [
            "41/41 [==============================] - 3s 6ms/step\n"
          ]
        }
      ]
    },
    {
      "cell_type": "code",
      "source": [
        "predictions_3 = categorical_2_tags(predictions_3, unique_tags)"
      ],
      "metadata": {
        "id": "rxy60TdYxyTJ"
      },
      "execution_count": null,
      "outputs": []
    },
    {
      "cell_type": "code",
      "source": [
        "predictions_flat_3 = list(itertools.chain(*predictions_3))\n",
        "\n",
        "report_3 = classification_report(pad_tags_val_flat, predictions_flat_3, labels = labels_val, zero_division = 0)\n",
        "scores_dict['LSTM_2Dense'] = classification_report(pad_tags_val_flat, predictions_flat_3, labels = labels_val, output_dict = True, zero_division = 0)\n",
        "models_dict['LSTM_2Dense'] = LSTM_2Dense\n",
        "print(report_3)"
      ],
      "metadata": {
        "id": "YXlSYLoTxyOj",
        "colab": {
          "base_uri": "https://localhost:8080/"
        },
        "outputId": "4465bcd5-4fbf-4132-9ff7-c05860094f12"
      },
      "execution_count": null,
      "outputs": [
        {
          "output_type": "stream",
          "name": "stdout",
          "text": [
            "              precision    recall  f1-score   support\n",
            "\n",
            "          EX       1.00      0.62      0.76        34\n",
            "        PRP$       0.98      0.94      0.96       256\n",
            "         VBZ       0.95      0.93      0.94       695\n",
            "          NN       0.91      0.90      0.90      4398\n",
            "          WP       0.93      0.85      0.89        80\n",
            "          IN       0.94      0.94      0.94      3177\n",
            "         RBS       0.50      0.55      0.52        11\n",
            "         PRP       0.83      0.86      0.85       570\n",
            "          UH       0.00      0.00      0.00         2\n",
            "          TO       1.00      0.99      0.99       746\n",
            "         NNP       0.06      0.94      0.11      2642\n",
            "         JJR       0.85      0.69      0.76       162\n",
            "         VBG       0.77      0.78      0.78       462\n",
            "          JJ       0.80      0.82      0.81      1858\n",
            "         NNS       0.89      0.89      0.89      2060\n",
            "         VBD       0.90      0.90      0.90       852\n",
            "          DT       0.95      0.97      0.96      2651\n",
            "         WP$       1.00      1.00      1.00         4\n",
            "          VB       0.92      0.86      0.89       948\n",
            "         POS       0.99      0.98      0.98       266\n",
            "         VBP       0.84      0.88      0.86       454\n",
            "          LS       0.20      0.33      0.25         3\n",
            "         VBN       0.85      0.76      0.80       707\n",
            "         PDT       1.00      0.14      0.25        14\n",
            "         RBR       0.53      0.56      0.55        32\n",
            "         WRB       0.92      0.73      0.81        62\n",
            "          RP       0.49      0.67      0.57        43\n",
            "          MD       0.99      0.98      0.99       342\n",
            "        NNPS       0.25      0.01      0.02       102\n",
            "         WDT       0.87      0.92      0.89       154\n",
            "          FW       0.00      0.00      0.00         2\n",
            "          CD       0.95      0.94      0.94      1218\n",
            "          CC       0.98      0.90      0.94       736\n",
            "          RB       0.79      0.81      0.80       924\n",
            "         JJS       0.82      0.66      0.73        56\n",
            "\n",
            "   micro avg       0.35      0.90      0.50     26723\n",
            "   macro avg       0.76      0.73      0.72     26723\n",
            "weighted avg       0.82      0.90      0.82     26723\n",
            "\n"
          ]
        }
      ]
    },
    {
      "cell_type": "markdown",
      "source": [
        "The macro f1-score reached by the `LSTM_2Dense` on the validation set is $0.72$, showing performances quality between the `LSTM_1Dense` and `GRU_1Dense` models."
      ],
      "metadata": {
        "id": "Mp8gFfExFbRC"
      }
    },
    {
      "cell_type": "markdown",
      "source": [
        "## 5.4 Two LSTM + 1 Dense layer"
      ],
      "metadata": {
        "id": "KTmzpE5nn79f"
      }
    },
    {
      "cell_type": "markdown",
      "source": [
        "### Definition"
      ],
      "metadata": {
        "id": "0KVjH_mwDf7d"
      }
    },
    {
      "cell_type": "markdown",
      "source": [
        "The fourth and last model defined is composed by\n",
        "* the **Input layer**, which takes as input sentences as a sequence of indexes\n",
        "* an **Embedding layer**, initialized as for the baseline model\n",
        "* a **Bidirectional LSTM layer** of size $100$\n",
        "* another **TBidirectional LSTM laye** of size $200$\n",
        "* a **Time Distributed Dense layer** of size $46$\n",
        "* an **Activation layer** with the softmax function\n",
        "\n",
        "The setups for compiling the model and for the training process are again the same as the baseline one."
      ],
      "metadata": {
        "id": "iudUU_1zF3zF"
      }
    },
    {
      "cell_type": "code",
      "source": [
        "LSTM2_1Dense = Sequential()\n",
        "LSTM2_1Dense.add(InputLayer(input_shape=(max_seq_length,)))\n",
        "LSTM2_1Dense.add(Embedding(vocab_size, glove_size, weights = [embedding_matrix], input_length = (max_seq_length,glove_size), trainable = False, mask_zero = True))\n",
        "LSTM2_1Dense.add(Bidirectional(LSTM(100, return_sequences=True)))\n",
        "LSTM2_1Dense.add(Bidirectional(LSTM(200, return_sequences=True)))\n",
        "LSTM2_1Dense.add(TimeDistributed(Dense(46)))\n",
        "LSTM2_1Dense.add(Activation('softmax'))\n",
        "\n",
        "LSTM2_1Dense.compile(loss='categorical_crossentropy',\n",
        "               optimizer=Adam(0.001),\n",
        "               metrics=['accuracy'])\n",
        "\n",
        "LSTM2_1Dense.summary()"
      ],
      "metadata": {
        "id": "ZrXXZDZFoBRP",
        "colab": {
          "base_uri": "https://localhost:8080/"
        },
        "outputId": "f34f023e-de94-4b7c-b76f-47459b9b51ae"
      },
      "execution_count": null,
      "outputs": [
        {
          "output_type": "stream",
          "name": "stdout",
          "text": [
            "Model: \"sequential_3\"\n",
            "_________________________________________________________________\n",
            " Layer (type)                Output Shape              Param #   \n",
            "=================================================================\n",
            " embedding_3 (Embedding)     (None, 56, 100)           40374300  \n",
            "                                                                 \n",
            " bidirectional_2 (Bidirectio  (None, 56, 200)          160800    \n",
            " nal)                                                            \n",
            "                                                                 \n",
            " bidirectional_3 (Bidirectio  (None, 56, 400)          641600    \n",
            " nal)                                                            \n",
            "                                                                 \n",
            " time_distributed_4 (TimeDis  (None, 56, 46)           18446     \n",
            " tributed)                                                       \n",
            "                                                                 \n",
            " activation_3 (Activation)   (None, 56, 46)            0         \n",
            "                                                                 \n",
            "=================================================================\n",
            "Total params: 41,195,146\n",
            "Trainable params: 820,846\n",
            "Non-trainable params: 40,374,300\n",
            "_________________________________________________________________\n"
          ]
        }
      ]
    },
    {
      "cell_type": "markdown",
      "source": [
        "### Training"
      ],
      "metadata": {
        "id": "IZgdcuykDhvd"
      }
    },
    {
      "cell_type": "code",
      "source": [
        "history_4 = LSTM2_1Dense.fit(pad_sent_train, one_hot_tag_train, batch_size=128, epochs=100, validation_data=(pad_sent_val, one_hot_tag_val), callbacks = [callback])"
      ],
      "metadata": {
        "id": "HK7YqcEooBFD",
        "colab": {
          "base_uri": "https://localhost:8080/"
        },
        "outputId": "07d1826c-18a6-4765-d589-07389c8d2d60"
      },
      "execution_count": null,
      "outputs": [
        {
          "output_type": "stream",
          "name": "stdout",
          "text": [
            "Epoch 1/100\n",
            "16/16 [==============================] - 26s 444ms/step - loss: 1.3347 - accuracy: 0.1636 - val_loss: 1.1781 - val_accuracy: 0.2318\n",
            "Epoch 2/100\n",
            "16/16 [==============================] - 1s 61ms/step - loss: 1.1109 - accuracy: 0.2745 - val_loss: 1.0062 - val_accuracy: 0.3421\n",
            "Epoch 3/100\n",
            "16/16 [==============================] - 1s 59ms/step - loss: 0.8902 - accuracy: 0.4498 - val_loss: 0.7551 - val_accuracy: 0.5348\n",
            "Epoch 4/100\n",
            "16/16 [==============================] - 1s 92ms/step - loss: 0.6346 - accuracy: 0.6164 - val_loss: 0.5385 - val_accuracy: 0.6627\n",
            "Epoch 5/100\n",
            "16/16 [==============================] - 1s 81ms/step - loss: 0.4584 - accuracy: 0.7263 - val_loss: 0.4163 - val_accuracy: 0.7440\n",
            "Epoch 6/100\n",
            "16/16 [==============================] - 1s 53ms/step - loss: 0.3580 - accuracy: 0.7882 - val_loss: 0.3395 - val_accuracy: 0.7907\n",
            "Epoch 7/100\n",
            "16/16 [==============================] - 1s 54ms/step - loss: 0.2959 - accuracy: 0.8232 - val_loss: 0.2929 - val_accuracy: 0.8195\n",
            "Epoch 8/100\n",
            "16/16 [==============================] - 1s 56ms/step - loss: 0.2555 - accuracy: 0.8464 - val_loss: 0.2613 - val_accuracy: 0.8418\n",
            "Epoch 9/100\n",
            "16/16 [==============================] - 1s 56ms/step - loss: 0.2273 - accuracy: 0.8625 - val_loss: 0.2402 - val_accuracy: 0.8535\n",
            "Epoch 10/100\n",
            "16/16 [==============================] - 1s 56ms/step - loss: 0.2059 - accuracy: 0.8742 - val_loss: 0.2244 - val_accuracy: 0.8622\n",
            "Epoch 11/100\n",
            "16/16 [==============================] - 1s 58ms/step - loss: 0.1910 - accuracy: 0.8825 - val_loss: 0.2130 - val_accuracy: 0.8680\n",
            "Epoch 12/100\n",
            "16/16 [==============================] - 1s 59ms/step - loss: 0.1785 - accuracy: 0.8896 - val_loss: 0.2015 - val_accuracy: 0.8752\n",
            "Epoch 13/100\n",
            "16/16 [==============================] - 1s 58ms/step - loss: 0.1668 - accuracy: 0.8961 - val_loss: 0.1925 - val_accuracy: 0.8781\n",
            "Epoch 14/100\n",
            "16/16 [==============================] - 1s 57ms/step - loss: 0.1581 - accuracy: 0.9009 - val_loss: 0.1877 - val_accuracy: 0.8817\n",
            "Epoch 15/100\n",
            "16/16 [==============================] - 1s 56ms/step - loss: 0.1494 - accuracy: 0.9057 - val_loss: 0.1819 - val_accuracy: 0.8827\n",
            "Epoch 16/100\n",
            "16/16 [==============================] - 1s 55ms/step - loss: 0.1420 - accuracy: 0.9099 - val_loss: 0.1779 - val_accuracy: 0.8859\n",
            "Epoch 17/100\n",
            "16/16 [==============================] - 1s 57ms/step - loss: 0.1351 - accuracy: 0.9146 - val_loss: 0.1761 - val_accuracy: 0.8871\n",
            "Epoch 18/100\n",
            "16/16 [==============================] - 1s 57ms/step - loss: 0.1304 - accuracy: 0.9169 - val_loss: 0.1703 - val_accuracy: 0.8898\n",
            "Epoch 19/100\n",
            "16/16 [==============================] - 1s 57ms/step - loss: 0.1235 - accuracy: 0.9226 - val_loss: 0.1647 - val_accuracy: 0.8923\n",
            "Epoch 20/100\n",
            "16/16 [==============================] - 1s 56ms/step - loss: 0.1180 - accuracy: 0.9255 - val_loss: 0.1614 - val_accuracy: 0.8950\n",
            "Epoch 21/100\n",
            "16/16 [==============================] - 1s 55ms/step - loss: 0.1123 - accuracy: 0.9281 - val_loss: 0.1612 - val_accuracy: 0.8946\n",
            "Epoch 22/100\n",
            "16/16 [==============================] - 1s 55ms/step - loss: 0.1077 - accuracy: 0.9318 - val_loss: 0.1562 - val_accuracy: 0.8970\n",
            "Epoch 23/100\n",
            "16/16 [==============================] - 1s 57ms/step - loss: 0.1030 - accuracy: 0.9355 - val_loss: 0.1559 - val_accuracy: 0.8971\n",
            "Epoch 24/100\n",
            "16/16 [==============================] - 1s 60ms/step - loss: 0.0991 - accuracy: 0.9374 - val_loss: 0.1519 - val_accuracy: 0.9001\n",
            "Epoch 25/100\n",
            "16/16 [==============================] - 1s 56ms/step - loss: 0.0942 - accuracy: 0.9411 - val_loss: 0.1509 - val_accuracy: 0.8995\n",
            "Epoch 26/100\n",
            "16/16 [==============================] - 1s 85ms/step - loss: 0.0900 - accuracy: 0.9439 - val_loss: 0.1484 - val_accuracy: 0.9025\n",
            "Epoch 27/100\n",
            "16/16 [==============================] - 1s 92ms/step - loss: 0.0864 - accuracy: 0.9464 - val_loss: 0.1475 - val_accuracy: 0.9012\n",
            "Epoch 28/100\n",
            "16/16 [==============================] - 1s 62ms/step - loss: 0.0820 - accuracy: 0.9494 - val_loss: 0.1460 - val_accuracy: 0.9041\n",
            "Epoch 29/100\n",
            "16/16 [==============================] - 1s 48ms/step - loss: 0.0786 - accuracy: 0.9516 - val_loss: 0.1470 - val_accuracy: 0.9024\n",
            "Epoch 30/100\n",
            "16/16 [==============================] - 1s 50ms/step - loss: 0.0760 - accuracy: 0.9533 - val_loss: 0.1480 - val_accuracy: 0.9038\n",
            "Epoch 31/100\n",
            "16/16 [==============================] - 1s 49ms/step - loss: 0.0717 - accuracy: 0.9568 - val_loss: 0.1464 - val_accuracy: 0.9031\n",
            "Epoch 32/100\n",
            "16/16 [==============================] - 1s 56ms/step - loss: 0.0681 - accuracy: 0.9595 - val_loss: 0.1439 - val_accuracy: 0.9052\n",
            "Epoch 33/100\n",
            "16/16 [==============================] - 1s 49ms/step - loss: 0.0645 - accuracy: 0.9621 - val_loss: 0.1444 - val_accuracy: 0.9039\n",
            "Epoch 34/100\n",
            "16/16 [==============================] - 1s 57ms/step - loss: 0.0609 - accuracy: 0.9650 - val_loss: 0.1437 - val_accuracy: 0.9049\n",
            "Epoch 35/100\n",
            "16/16 [==============================] - 1s 49ms/step - loss: 0.0587 - accuracy: 0.9666 - val_loss: 0.1439 - val_accuracy: 0.9029\n",
            "Epoch 36/100\n",
            "16/16 [==============================] - 1s 50ms/step - loss: 0.0562 - accuracy: 0.9679 - val_loss: 0.1468 - val_accuracy: 0.9026\n",
            "Epoch 37/100\n",
            "16/16 [==============================] - 1s 57ms/step - loss: 0.0530 - accuracy: 0.9701 - val_loss: 0.1435 - val_accuracy: 0.9048\n",
            "Epoch 38/100\n",
            "16/16 [==============================] - 1s 48ms/step - loss: 0.0501 - accuracy: 0.9724 - val_loss: 0.1464 - val_accuracy: 0.9044\n",
            "Epoch 39/100\n",
            "16/16 [==============================] - 1s 65ms/step - loss: 0.0484 - accuracy: 0.9734 - val_loss: 0.1454 - val_accuracy: 0.9042\n",
            "Epoch 40/100\n",
            "16/16 [==============================] - 2s 107ms/step - loss: 0.0448 - accuracy: 0.9763 - val_loss: 0.1468 - val_accuracy: 0.9043\n",
            "Epoch 41/100\n",
            "16/16 [==============================] - 2s 96ms/step - loss: 0.0420 - accuracy: 0.9782 - val_loss: 0.1491 - val_accuracy: 0.9042\n",
            "Epoch 42/100\n",
            "16/16 [==============================] - 1s 78ms/step - loss: 0.0407 - accuracy: 0.9786 - val_loss: 0.1487 - val_accuracy: 0.9059\n"
          ]
        }
      ]
    },
    {
      "cell_type": "code",
      "source": [
        "plot_accuracy_loss(history_4)"
      ],
      "metadata": {
        "id": "olesoQT4_o7t",
        "colab": {
          "base_uri": "https://localhost:8080/",
          "height": 350
        },
        "outputId": "ee1af328-35f3-4f8f-a60e-859c6aa7abf0"
      },
      "execution_count": null,
      "outputs": [
        {
          "output_type": "display_data",
          "data": {
            "text/plain": [
              "<Figure size 1080x360 with 2 Axes>"
            ],
            "image/png": "[encoded data removed]"
          },
          "metadata": {
            "needs_background": "light"
          }
        }
      ]
    },
    {
      "cell_type": "markdown",
      "source": [
        "Out of the four models, the results reached by the `LSTM2_1Dense` model on the training and validation set are the best, reached in just over $40$ epochs. Also, the smoothness of the loss and accuracy curves shows that no overfitting occured."
      ],
      "metadata": {
        "id": "EE5WQ_5JGMWL"
      }
    },
    {
      "cell_type": "markdown",
      "source": [
        "### Performances on the validation set"
      ],
      "metadata": {
        "id": "DDjF7QtnDjby"
      }
    },
    {
      "cell_type": "markdown",
      "source": [
        "Let's see how the model performs on the validation set, according to the macro f1-score."
      ],
      "metadata": {
        "id": "5qRmAYKpG1I-"
      }
    },
    {
      "cell_type": "code",
      "source": [
        "predictions_4 = LSTM2_1Dense.predict(pad_sent_val)"
      ],
      "metadata": {
        "id": "_8uiIZgYoA8K",
        "colab": {
          "base_uri": "https://localhost:8080/"
        },
        "outputId": "6f11979e-8b39-4cda-e15a-999ad44a62ab"
      },
      "execution_count": null,
      "outputs": [
        {
          "output_type": "stream",
          "name": "stdout",
          "text": [
            "41/41 [==============================] - 6s 12ms/step\n"
          ]
        }
      ]
    },
    {
      "cell_type": "code",
      "source": [
        "predictions_4 = categorical_2_tags(predictions_4, unique_tags)"
      ],
      "metadata": {
        "id": "jW3IpCZOoTbd"
      },
      "execution_count": null,
      "outputs": []
    },
    {
      "cell_type": "code",
      "source": [
        "predictions_flat_4 = list(itertools.chain(*predictions_4))\n",
        "\n",
        "report_4 = classification_report(pad_tags_val_flat, predictions_flat_4, labels = labels_val, zero_division = 0)\n",
        "scores_dict['LSTM2_1Dense'] = classification_report(pad_tags_val_flat, predictions_flat_4, labels = labels_val, output_dict = True, zero_division = 0)\n",
        "models_dict['LSTM2_1Dense'] = LSTM2_1Dense\n",
        "print(report_4)"
      ],
      "metadata": {
        "id": "_GnVg-oMoYqW",
        "colab": {
          "base_uri": "https://localhost:8080/"
        },
        "outputId": "f32a7771-5204-40c9-f1f0-10aa6e93d442"
      },
      "execution_count": null,
      "outputs": [
        {
          "output_type": "stream",
          "name": "stdout",
          "text": [
            "              precision    recall  f1-score   support\n",
            "\n",
            "          EX       0.85      0.68      0.75        34\n",
            "        PRP$       0.98      0.95      0.96       256\n",
            "         VBZ       0.96      0.93      0.95       695\n",
            "          NN       0.93      0.89      0.91      4398\n",
            "          WP       0.89      0.84      0.86        80\n",
            "          IN       0.94      0.94      0.94      3177\n",
            "         RBS       0.67      0.91      0.77        11\n",
            "         PRP       0.81      0.88      0.84       570\n",
            "          UH       0.00      0.00      0.00         2\n",
            "          TO       1.00      0.99      0.99       746\n",
            "         NNP       0.85      0.92      0.88      2642\n",
            "         JJR       0.88      0.67      0.76       162\n",
            "         VBG       0.82      0.77      0.79       462\n",
            "          JJ       0.76      0.82      0.79      1858\n",
            "         NNS       0.90      0.88      0.89      2060\n",
            "         VBD       0.92      0.90      0.91       852\n",
            "          DT       0.94      0.96      0.95      2651\n",
            "         WP$       1.00      1.00      1.00         4\n",
            "          VB       0.91      0.90      0.90       948\n",
            "         POS       1.00      0.98      0.99       266\n",
            "         VBP       0.85      0.86      0.85       454\n",
            "          LS       0.50      0.33      0.40         3\n",
            "         VBN       0.80      0.78      0.79       707\n",
            "         PDT       1.00      0.07      0.13        14\n",
            "         RBR       0.55      0.75      0.63        32\n",
            "         WRB       0.86      0.61      0.72        62\n",
            "          RP       0.57      0.65      0.61        43\n",
            "          MD       0.99      0.98      0.99       342\n",
            "        NNPS       0.20      0.01      0.02       102\n",
            "         WDT       0.94      0.88      0.91       154\n",
            "          FW       0.00      0.00      0.00         2\n",
            "          CD       0.95      0.94      0.94      1218\n",
            "          CC       0.92      0.91      0.92       736\n",
            "          RB       0.75      0.85      0.79       924\n",
            "         JJS       0.85      0.59      0.69        56\n",
            "\n",
            "   micro avg       0.89      0.89      0.89     26723\n",
            "   macro avg       0.79      0.74      0.75     26723\n",
            "weighted avg       0.89      0.89      0.89     26723\n",
            "\n"
          ]
        }
      ]
    },
    {
      "cell_type": "markdown",
      "source": [
        "As expected, the `LSTM2_1Dense` model performs better than the others on the validation also according to the macro f1-score, which is $0.75$."
      ],
      "metadata": {
        "id": "Lqmn-tGyG-9e"
      }
    },
    {
      "cell_type": "markdown",
      "source": [
        "# 6. Two best models selection"
      ],
      "metadata": {
        "id": "2lXLb1jekHBX"
      }
    },
    {
      "cell_type": "markdown",
      "source": [
        "To select the two best models out of the four according to their performances on the validation set, a summary of the previously computed macro f1-scores of the four models is presented.\n",
        "\n",
        "\n"
      ],
      "metadata": {
        "id": "GwuAhHH8JFoc"
      }
    },
    {
      "cell_type": "code",
      "source": [
        "# Model's f1-score summary\n",
        "\n",
        "f1_scores_macro_dict = {}\n",
        "rows = [['Model','macro f1-score val'],['','']]\n",
        "\n",
        "for model in models_dict.keys():\n",
        "  f1_scores_macro_dict[model] = scores_dict[model]['macro avg']['f1-score']\n",
        "  rows.append([model, scores_dict[model]['macro avg']['f1-score']])\n",
        "\n",
        "lens = []\n",
        "for col in zip(*rows):\n",
        "    lens.append(max([len(str(v)) for v in col]))\n",
        "format = \"  \".join([\"{:<\" + str(l) + \"}\" for l in lens])\n",
        "\n",
        "for row in rows:\n",
        "    print(format.format(*row))"
      ],
      "metadata": {
        "colab": {
          "base_uri": "https://localhost:8080/"
        },
        "id": "EcvbZ5yXrt-9",
        "outputId": "4d5fd46a-34b0-49db-c116-7528742c81c0"
      },
      "execution_count": null,
      "outputs": [
        {
          "output_type": "stream",
          "name": "stdout",
          "text": [
            "Model         macro f1-score val\n",
            "                                \n",
            "LSTM_1Dense   0.741311922056217 \n",
            "GRU_1Dense    0.6986959921884467\n",
            "LSTM_2Dense   0.7207642039636207\n",
            "LSTM2_1Dense  0.7499660920109237\n"
          ]
        }
      ]
    },
    {
      "cell_type": "markdown",
      "source": [
        "The numerical analysis shows that the best architectures are based on Bidirectional LSTM layers with only one Dense layer."
      ],
      "metadata": {
        "id": "kZDjzuY1L7LW"
      }
    },
    {
      "cell_type": "code",
      "source": [
        "sorted_f1_scores = sorted(f1_scores_macro_dict, key=f1_scores_macro_dict.get, reverse=True)\n",
        "\n",
        "best_model_1 = sorted_f1_scores[0]\n",
        "best_model_2 = sorted_f1_scores[1]\n",
        "\n",
        "print('According to the macro f1-score on the validation set, the two best models are:', best_model_1, 'and', best_model_2)"
      ],
      "metadata": {
        "colab": {
          "base_uri": "https://localhost:8080/"
        },
        "id": "Lj_oNig2uhZ5",
        "outputId": "49afb777-833f-477c-a9cb-b0ea3d7a3b55"
      },
      "execution_count": null,
      "outputs": [
        {
          "output_type": "stream",
          "name": "stdout",
          "text": [
            "According to the macro f1-score on the validation set, the two best models are: LSTM2_1Dense and LSTM_1Dense\n"
          ]
        }
      ]
    },
    {
      "cell_type": "markdown",
      "source": [
        "# 7. Models evaluation"
      ],
      "metadata": {
        "id": "9xKLdhI7PGMq"
      }
    },
    {
      "cell_type": "markdown",
      "source": [
        "Once the two best models are selected, they are also evaluated on the test set.\n",
        "\n",
        "First, let's remove punctuation and symbols from the test set tags."
      ],
      "metadata": {
        "id": "f03f1B3jUBYC"
      }
    },
    {
      "cell_type": "code",
      "source": [
        "# From no_punct_pad_tags, select only those which appear in the test set\n",
        "\n",
        "labels_test = list(set(unique_tags_test).intersection(set(no_punct_pad_tags)))\n",
        "\n",
        "print(\"The test tags on which computing models metrics are:\", labels_test)"
      ],
      "metadata": {
        "colab": {
          "base_uri": "https://localhost:8080/"
        },
        "id": "RqiRzpp7KDKz",
        "outputId": "90a5503e-d6de-4b78-92fe-ef083d601d52"
      },
      "execution_count": null,
      "outputs": [
        {
          "output_type": "stream",
          "name": "stdout",
          "text": [
            "The test tags on which computing models metrics are: ['EX', 'PRP$', 'VBZ', 'NN', 'WP', 'IN', 'RBS', 'PRP', 'TO', 'NNP', 'JJR', 'VBG', 'JJ', 'NNS', 'VBD', 'DT', 'WP$', 'VB', 'POS', 'VBP', 'PDT', 'VBN', 'RBR', 'WRB', 'RP', 'MD', 'NNPS', 'WDT', 'CD', 'CC', 'RB', 'JJS']\n"
          ]
        }
      ]
    },
    {
      "cell_type": "markdown",
      "source": [
        "Let's see how the first best model performs on the test set.\n"
      ],
      "metadata": {
        "id": "D6w1qJbFW8NP"
      }
    },
    {
      "cell_type": "code",
      "source": [
        "# Best_model_1 evaluation on the test set\n",
        "\n",
        "pad_tags_test_flat = list(itertools.chain(*pad_tags_test))\n",
        "\n",
        "predictions_test_1 = models_dict[best_model_1].predict(pad_sent_test)\n",
        "predictions_test_1 = categorical_2_tags(predictions_test_1, unique_tags)"
      ],
      "metadata": {
        "colab": {
          "base_uri": "https://localhost:8080/"
        },
        "id": "EwgLcACjyHMZ",
        "outputId": "d09eb28b-438d-4d51-9389-6414e456a609"
      },
      "execution_count": null,
      "outputs": [
        {
          "output_type": "stream",
          "name": "stdout",
          "text": [
            "21/21 [==============================] - 0s 12ms/step\n"
          ]
        }
      ]
    },
    {
      "cell_type": "code",
      "source": [
        "predictions_flat_test_1 = list(itertools.chain(*predictions_test_1))\n",
        "\n",
        "report_test_1 = classification_report(pad_tags_test_flat, predictions_flat_test_1, labels = labels_test, zero_division = 0)\n",
        "scores_1 = classification_report(pad_tags_test_flat, predictions_flat_test_1, labels = labels_test, output_dict = True, zero_division = 0)\n",
        "\n",
        "print(report_test_1)"
      ],
      "metadata": {
        "colab": {
          "base_uri": "https://localhost:8080/"
        },
        "outputId": "41847fe3-70df-4a29-b3e7-3f0803d2d817",
        "id": "Pju-AVZ90P74"
      },
      "execution_count": null,
      "outputs": [
        {
          "output_type": "stream",
          "name": "stdout",
          "text": [
            "              precision    recall  f1-score   support\n",
            "\n",
            "          EX       0.83      1.00      0.91         5\n",
            "        PRP$       1.00      0.95      0.97        98\n",
            "         VBZ       0.95      0.96      0.95       274\n",
            "          NN       0.93      0.88      0.90      2354\n",
            "          WP       0.89      0.89      0.89        19\n",
            "          IN       0.96      0.94      0.95      1613\n",
            "         RBS       0.67      0.67      0.67         3\n",
            "         PRP       0.81      0.90      0.86       187\n",
            "          TO       1.00      1.00      1.00       377\n",
            "         NNP       0.86      0.90      0.88      1469\n",
            "         JJR       0.78      0.68      0.73        59\n",
            "         VBG       0.86      0.79      0.83       216\n",
            "          JJ       0.77      0.80      0.78       910\n",
            "         NNS       0.86      0.90      0.88       934\n",
            "         VBD       0.93      0.91      0.92       627\n",
            "          DT       0.94      0.97      0.95      1316\n",
            "         WP$       1.00      0.75      0.86         4\n",
            "          VB       0.91      0.96      0.94       392\n",
            "         POS       0.99      1.00      1.00       151\n",
            "         VBP       0.90      0.86      0.88       132\n",
            "         PDT       0.00      0.00      0.00         4\n",
            "         VBN       0.79      0.79      0.79       362\n",
            "         RBR       0.38      0.40      0.39        15\n",
            "         WRB       0.70      0.61      0.65        23\n",
            "          RP       0.55      0.67      0.60        33\n",
            "          MD       0.98      0.99      0.98       165\n",
            "        NNPS       0.00      0.00      0.00        44\n",
            "         WDT       0.94      0.99      0.97        84\n",
            "          CD       0.98      0.95      0.96       847\n",
            "          CC       0.96      0.96      0.96       360\n",
            "          RB       0.73      0.83      0.77       377\n",
            "         JJS       0.91      0.68      0.78        31\n",
            "\n",
            "   micro avg       0.90      0.90      0.90     13485\n",
            "   macro avg       0.81      0.80      0.80     13485\n",
            "weighted avg       0.90      0.90      0.90     13485\n",
            "\n"
          ]
        }
      ]
    },
    {
      "cell_type": "markdown",
      "source": [
        "The same procedure is also done for the second best model."
      ],
      "metadata": {
        "id": "-_oibvF3Xg-7"
      }
    },
    {
      "cell_type": "code",
      "source": [
        "# Best_model_2 evaluation on the test set\n",
        "\n",
        "predictions_test_2 = models_dict[best_model_2].predict(pad_sent_test)\n",
        "predictions_test_2 = categorical_2_tags(predictions_test_2, unique_tags)"
      ],
      "metadata": {
        "colab": {
          "base_uri": "https://localhost:8080/"
        },
        "id": "1qAObU7D1BSU",
        "outputId": "0883d6f0-9f9c-438e-9df1-3faf0d544e98"
      },
      "execution_count": null,
      "outputs": [
        {
          "output_type": "stream",
          "name": "stdout",
          "text": [
            "21/21 [==============================] - 0s 6ms/step\n"
          ]
        }
      ]
    },
    {
      "cell_type": "code",
      "source": [
        "predictions_flat_test_2 = list(itertools.chain(*predictions_test_2))\n",
        "\n",
        "report_test_2 = classification_report(pad_tags_test_flat, predictions_flat_test_2, labels = labels_test, zero_division = 0)\n",
        "scores_2 = classification_report(pad_tags_test_flat, predictions_flat_test_2, labels = labels_test, output_dict = True, zero_division = 0)\n",
        "\n",
        "print(report_test_2)"
      ],
      "metadata": {
        "colab": {
          "base_uri": "https://localhost:8080/"
        },
        "id": "RDSHkt5Q1Jvg",
        "outputId": "11dc8efc-f84b-4872-bdb4-81ad5b313b5e"
      },
      "execution_count": null,
      "outputs": [
        {
          "output_type": "stream",
          "name": "stdout",
          "text": [
            "              precision    recall  f1-score   support\n",
            "\n",
            "          EX       1.00      0.80      0.89         5\n",
            "        PRP$       1.00      0.95      0.97        98\n",
            "         VBZ       0.94      0.96      0.95       274\n",
            "          NN       0.91      0.90      0.90      2354\n",
            "          WP       1.00      0.95      0.97        19\n",
            "          IN       0.95      0.94      0.94      1613\n",
            "         RBS       1.00      0.67      0.80         3\n",
            "         PRP       0.85      0.86      0.86       187\n",
            "          TO       1.00      1.00      1.00       377\n",
            "         NNP       0.82      0.94      0.88      1469\n",
            "         JJR       0.89      0.68      0.77        59\n",
            "         VBG       0.86      0.76      0.81       216\n",
            "          JJ       0.77      0.77      0.77       910\n",
            "         NNS       0.87      0.88      0.87       934\n",
            "         VBD       0.90      0.93      0.92       627\n",
            "          DT       0.94      0.96      0.95      1316\n",
            "         WP$       1.00      0.75      0.86         4\n",
            "          VB       0.94      0.96      0.95       392\n",
            "         POS       1.00      1.00      1.00       151\n",
            "         VBP       0.91      0.84      0.87       132\n",
            "         PDT       0.00      0.00      0.00         4\n",
            "         VBN       0.86      0.72      0.79       362\n",
            "         RBR       0.50      0.47      0.48        15\n",
            "         WRB       0.88      0.65      0.75        23\n",
            "          RP       0.52      0.85      0.64        33\n",
            "          MD       0.98      0.99      0.98       165\n",
            "        NNPS       0.00      0.00      0.00        44\n",
            "         WDT       0.92      0.98      0.95        84\n",
            "          CD       0.97      0.94      0.95       847\n",
            "          CC       0.98      0.94      0.96       360\n",
            "          RB       0.79      0.73      0.76       377\n",
            "         JJS       0.96      0.77      0.86        31\n",
            "\n",
            "   micro avg       0.90      0.90      0.90     13485\n",
            "   macro avg       0.84      0.80      0.81     13485\n",
            "weighted avg       0.90      0.90      0.90     13485\n",
            "\n"
          ]
        }
      ]
    },
    {
      "cell_type": "markdown",
      "source": [
        "From the two classification reports it can be seen, for both models, a sharp increase in performances with respect to the results on the validation set. In particular, the macro f1-score reached by the `LMST_1Dense` and the `LMST2_1Dense` models are $0.81$ and $0.80$ respectively."
      ],
      "metadata": {
        "id": "pZvn_XHoXtEz"
      }
    },
    {
      "cell_type": "markdown",
      "source": [
        "# 8. Test set results discussion & error analysis\n",
        "\n"
      ],
      "metadata": {
        "id": "YNC76csEkLUd"
      }
    },
    {
      "cell_type": "markdown",
      "source": [
        "In this section, obtained results are discussed and analyzed, with a particular focus on specific types of errors."
      ],
      "metadata": {
        "id": "FGprEhYuOVlG"
      }
    },
    {
      "cell_type": "markdown",
      "source": [
        "## 8.1 Comparison between validation and test sets results"
      ],
      "metadata": {
        "id": "sEx_xgAhqaMl"
      }
    },
    {
      "cell_type": "markdown",
      "source": [
        "First, let's print the macro f1-score of the two best models on both the validation and the test sets."
      ],
      "metadata": {
        "id": "2zWCT6nbr2eX"
      }
    },
    {
      "cell_type": "code",
      "source": [
        "# Comparison between the performances of the two models on the validation and the test set\n",
        "\n",
        "print(\"The macro f1-score of\", best_model_1, \"on the test set is:\", scores_1['macro avg']['f1-score'])\n",
        "print(\"The macro f1-score of\", best_model_1, \"on the validation set is: \", scores_dict[best_model_1]['macro avg']['f1-score'])\n",
        "print()\n",
        "print(\"The macro f1-score of\", best_model_2, \"on the test set is:\", scores_2['macro avg']['f1-score'])\n",
        "print(\"The macro f1-score of\", best_model_2, \"on the validation set is:\", scores_dict[best_model_2]['macro avg']['f1-score'])"
      ],
      "metadata": {
        "colab": {
          "base_uri": "https://localhost:8080/"
        },
        "id": "OP54r0Gd0nJA",
        "outputId": "af918d8d-a6d8-46e3-981b-3e189dff11dd"
      },
      "execution_count": null,
      "outputs": [
        {
          "output_type": "stream",
          "name": "stdout",
          "text": [
            "The macro f1-score of LSTM2_1Dense on the test set is: 0.8000854010750703\n",
            "The macro f1-score of LSTM2_1Dense on the validation set is:  0.7499660920109237\n",
            "\n",
            "The macro f1-score of LSTM_1Dense on the test set is: 0.814444805441775\n",
            "The macro f1-score of LSTM_1Dense on the validation set is: 0.741311922056217\n"
          ]
        }
      ]
    },
    {
      "cell_type": "markdown",
      "source": [
        "It can be noticed that, according to the macro f1-score metric, `LSTM-1Dense` and `LSTM2-1Dense` perform similarly, both of them obtaining better results on the test set than on the validation set.\n",
        "\n",
        "However, in order to understand the nature of this difference, a further analysis is required. In particular, let's analyse the per-class f1-scores on test and validation sets, for only tags present in both."
      ],
      "metadata": {
        "id": "gGmbmfDJIwWJ"
      }
    },
    {
      "cell_type": "code",
      "source": [
        "# Comparison common labels model 1\n",
        "\n",
        "tags = list(set(labels_val).intersection(set(labels_test)))\n",
        "rows = [['Tag','f1-score val','f1-score test'],['','','']]\n",
        "\n",
        "for tag in tags:\n",
        "  rows.append([tag, round(scores_dict[best_model_1][tag]['f1-score'],4), round(scores_1[tag]['f1-score'],4)])\n",
        "\n",
        "lens = []\n",
        "for col in zip(*rows):\n",
        "    lens.append(max([len(str(v)) for v in col]))\n",
        "format = \"  \".join([\"{:<\" + str(l) + \"}\" for l in lens])\n",
        "\n",
        "print(\"-\"*10, best_model_1, 'model','-'*10,'\\n')\n",
        "\n",
        "for row in rows:\n",
        "    print(format.format(*row))"
      ],
      "metadata": {
        "colab": {
          "base_uri": "https://localhost:8080/"
        },
        "id": "Tjgi7YCJ5ssc",
        "outputId": "e8700f4a-f0b8-45f3-c75c-1cc22888c471"
      },
      "execution_count": null,
      "outputs": [
        {
          "output_type": "stream",
          "name": "stdout",
          "text": [
            "---------- LSTM2_1Dense model ---------- \n",
            "\n",
            "Tag   f1-score val  f1-score test\n",
            "                                 \n",
            "EX    0.7541        0.9091       \n",
            "PRP$  0.9622        0.9738       \n",
            "VBZ   0.9451        0.9529       \n",
            "NN    0.9055        0.905        \n",
            "WP    0.8645        0.8947       \n",
            "IN    0.9393        0.9505       \n",
            "RBS   0.7692        0.6667       \n",
            "PRP   0.8446        0.8557       \n",
            "TO    0.9939        1.0          \n",
            "NNP   0.8823        0.8785       \n",
            "JJR   0.7622        0.7273       \n",
            "VBG   0.7902        0.8261       \n",
            "JJ    0.7896        0.7838       \n",
            "NNS   0.8918        0.8785       \n",
            "VBD   0.9094        0.92         \n",
            "DT    0.9495        0.9539       \n",
            "WP$   1.0           0.8571       \n",
            "VB    0.9046        0.9366       \n",
            "POS   0.9905        0.9967       \n",
            "VBP   0.8521        0.8803       \n",
            "PDT   0.1333        0.0          \n",
            "VBN   0.79          0.7922       \n",
            "RBR   0.6316        0.3871       \n",
            "WRB   0.717         0.6512       \n",
            "RP    0.6087        0.6027       \n",
            "MD    0.9882        0.985        \n",
            "NNPS  0.0187        0.0          \n",
            "WDT   0.9097        0.9651       \n",
            "CD    0.9446        0.9641       \n",
            "CC    0.9181        0.957        \n",
            "RB    0.7933        0.7732       \n",
            "JJS   0.6947        0.7778       \n"
          ]
        }
      ]
    },
    {
      "cell_type": "code",
      "source": [
        "# Comparison common labels model 2\n",
        "\n",
        "tags = list(set(labels_val).intersection(set(labels_test)))\n",
        "rows = [['Tag','f1-score val','f1-score test'],['','','']]\n",
        "\n",
        "for tag in tags:\n",
        "  rows.append([tag, round(scores_dict[best_model_2][tag]['f1-score'],4), round(scores_2[tag]['f1-score'],4)])\n",
        "\n",
        "lens = []\n",
        "for col in zip(*rows):\n",
        "    lens.append(max([len(str(v)) for v in col]))\n",
        "format = \"  \".join([\"{:<\" + str(l) + \"}\" for l in lens])\n",
        "\n",
        "print(\"-\"*10, best_model_2, 'model','-'*10,'\\n')\n",
        "\n",
        "for row in rows:\n",
        "    print(format.format(*row))"
      ],
      "metadata": {
        "colab": {
          "base_uri": "https://localhost:8080/"
        },
        "id": "NtnExrnF-JSY",
        "outputId": "fa8e6af0-9e6c-42c1-d273-abc829086671"
      },
      "execution_count": null,
      "outputs": [
        {
          "output_type": "stream",
          "name": "stdout",
          "text": [
            "---------- LSTM_1Dense model ---------- \n",
            "\n",
            "Tag   f1-score val  f1-score test\n",
            "                                 \n",
            "EX    0.7241        0.8889       \n",
            "PRP$  0.968         0.9738       \n",
            "VBZ   0.9356        0.9495       \n",
            "NN    0.8985        0.9022       \n",
            "WP    0.8917        0.973        \n",
            "IN    0.94          0.9448       \n",
            "RBS   0.6957        0.8          \n",
            "PRP   0.8456        0.8564       \n",
            "TO    0.9933        1.0          \n",
            "NNP   0.8703        0.8776       \n",
            "JJR   0.7535        0.7692       \n",
            "VBG   0.758         0.8088       \n",
            "JJ    0.7841        0.7676       \n",
            "NNS   0.881         0.8749       \n",
            "VBD   0.8995        0.9178       \n",
            "DT    0.9425        0.9526       \n",
            "WP$   0.8571        0.8571       \n",
            "VB    0.9003        0.9484       \n",
            "POS   0.9868        1.0          \n",
            "VBP   0.8523        0.874        \n",
            "PDT   0.0           0.0          \n",
            "VBN   0.7925        0.788        \n",
            "RBR   0.6053        0.4828       \n",
            "WRB   0.7963        0.75         \n",
            "RP    0.5926        0.6437       \n",
            "MD    0.9822        0.985        \n",
            "NNPS  0.0           0.0          \n",
            "WDT   0.9079        0.948        \n",
            "CD    0.9364        0.9547       \n",
            "CC    0.9399        0.9574       \n",
            "RB    0.7996        0.759        \n",
            "JJS   0.7708        0.8571       \n"
          ]
        }
      ]
    },
    {
      "cell_type": "markdown",
      "source": [
        "It can be noticed that per-class f1-scores on validation and test sets are comparable for both models and the small existing differences do not justify the significant difference in performance.\n",
        "\n",
        "Let's then analyse the per-class f1-scores for those tags present in the validation but not in the test set (and viceversa)."
      ],
      "metadata": {
        "id": "6f1RWRQMLGe3"
      }
    },
    {
      "cell_type": "code",
      "source": [
        "# Val-Test tags\n",
        "\n",
        "val_test_tags_diff = [tag for tag in labels_val if tag not in labels_test]\n",
        "print(\"The tags appearing in the validation set but not in the test set are:\", val_test_tags_diff)"
      ],
      "metadata": {
        "colab": {
          "base_uri": "https://localhost:8080/"
        },
        "id": "hcRagJ1v2YON",
        "outputId": "24b7837a-9b52-484d-b893-05a2835163e4"
      },
      "execution_count": null,
      "outputs": [
        {
          "output_type": "stream",
          "name": "stdout",
          "text": [
            "The tags appearing in the validation set but not in the test set are: ['UH', 'LS', 'FW']\n"
          ]
        }
      ]
    },
    {
      "cell_type": "code",
      "source": [
        "# Test-Val tags\n",
        "\n",
        "test_val_tags_diff = [tag for tag in labels_test if tag not in labels_val]\n",
        "print(\"The tags appearing in the test set but not in the validation set are:\", test_val_tags_diff)"
      ],
      "metadata": {
        "colab": {
          "base_uri": "https://localhost:8080/"
        },
        "id": "LCDLxGze3ubj",
        "outputId": "a0bc9f25-4485-4650-9934-b5d9d08b86bd"
      },
      "execution_count": null,
      "outputs": [
        {
          "output_type": "stream",
          "name": "stdout",
          "text": [
            "The tags appearing in the test set but not in the validation set are: []\n"
          ]
        }
      ]
    },
    {
      "cell_type": "markdown",
      "source": [
        "Since all tags in the test set also appear in the validation set, the analyses will excusively consider those only present in the validation set."
      ],
      "metadata": {
        "id": "Pvyne2jhMgbv"
      }
    },
    {
      "cell_type": "code",
      "source": [
        "# f1-score of tags appearing only in the validation set\n",
        "\n",
        "for tag in val_test_tags_diff:\n",
        "  print(\"The f1-score of\", best_model_1, \"on\", tag, \"is\", scores_dict[best_model_1][tag]['f1-score'])\n",
        "\n",
        "print()\n",
        "\n",
        "for tag in val_test_tags_diff:\n",
        "  print(\"The f1-score of\", best_model_2 ,\"on\", tag, \"is\", scores_dict[best_model_2][tag]['f1-score'])"
      ],
      "metadata": {
        "colab": {
          "base_uri": "https://localhost:8080/"
        },
        "id": "bgDIeX3d36UN",
        "outputId": "5192de8b-2cc8-4ba8-e0a4-dc976f76ea92"
      },
      "execution_count": null,
      "outputs": [
        {
          "output_type": "stream",
          "name": "stdout",
          "text": [
            "The f1-score of LSTM2_1Dense on UH is 0.0\n",
            "The f1-score of LSTM2_1Dense on LS is 0.4\n",
            "The f1-score of LSTM2_1Dense on FW is 0.0\n",
            "\n",
            "The f1-score of LSTM_1Dense on UH is 0.0\n",
            "The f1-score of LSTM_1Dense on LS is 0.4444444444444444\n",
            "The f1-score of LSTM_1Dense on FW is 0.0\n"
          ]
        }
      ]
    },
    {
      "cell_type": "markdown",
      "source": [
        "These results show that uncommon tags, i.e. those present in the validation set but not in the test set, are heavily misclassified by both models, negatively contributing to the macro f1-score on the validation set. This might be a reasonably explanation of why the performances of both models are such worse on the validation set than on the test one."
      ],
      "metadata": {
        "id": "OLXpbvdzLosW"
      }
    },
    {
      "cell_type": "markdown",
      "source": [
        "## 8.2 F1-score, precision and recall"
      ],
      "metadata": {
        "id": "CqkPNqx1uFUX"
      }
    },
    {
      "cell_type": "markdown",
      "source": [
        "In order to compare the two best models results, it is useful to plot the macro f1-score, precision and recall obtained on the test set."
      ],
      "metadata": {
        "id": "Ap6fk3RlqS2T"
      }
    },
    {
      "cell_type": "code",
      "source": [
        "# Macro comparison between the two models\n",
        "\n",
        "prfs_2 = prfs(pad_tags_test_flat, predictions_flat_test_2, labels=labels_test, average=\"macro\", zero_division=0)\n",
        "prfs_1 = prfs(pad_tags_test_flat, predictions_flat_test_1, labels=labels_test, average=\"macro\", zero_division=0)\n",
        "\n",
        "fig, plots = plt.subplots(1,3, sharey=True, figsize=(12, 6))\n",
        "fig.suptitle('Macro scores comparison')\n",
        "plots[0].bar([best_model_1,best_model_2], [prfs_1[0], prfs_2[0]], color=[\"darkred\", \"tab:orange\"])\n",
        "plots[0].set_title(\"Precision macro\")\n",
        "plots[1].bar([best_model_1,best_model_2], [prfs_1[1], prfs_2[1]], color=[\"darkred\", \"tab:orange\"])\n",
        "plots[1].set_title(\"Recall macro\")\n",
        "plots[2].bar([best_model_1,best_model_2], [prfs_1[2], prfs_2[2]], color=[\"darkred\", \"tab:orange\"])\n",
        "plots[2].set_title(\"Macro f1-score\")\n",
        "\n",
        "plt.show()"
      ],
      "metadata": {
        "colab": {
          "base_uri": "https://localhost:8080/",
          "height": 418
        },
        "id": "gT4Otf_PEhGP",
        "outputId": "d5c20e29-6cb8-49b7-a9b3-654b958584d4"
      },
      "execution_count": null,
      "outputs": [
        {
          "output_type": "display_data",
          "data": {
            "text/plain": [
              "<Figure size 864x432 with 3 Axes>"
            ],
            "image/png": "[encoded data removed]"
          },
          "metadata": {
            "needs_background": "light"
          }
        }
      ]
    },
    {
      "cell_type": "markdown",
      "source": [
        "Results of the two models are good and fully comparable, showing for each measure values $\\geq 0.80$. Let's analyse these results in more details."
      ],
      "metadata": {
        "id": "I2z9M78WuxoR"
      }
    },
    {
      "cell_type": "markdown",
      "source": [
        "By visualizing the per-class measures, sorting tags for descending support, useful information about the distribution of precision, recall and f1-score can be extracted."
      ],
      "metadata": {
        "id": "MaMNLDhgxF7x"
      }
    },
    {
      "cell_type": "code",
      "source": [
        "# Extract all test tags sorted by descending support\n",
        "sorted_keys = df_test[column].value_counts().keys()\n",
        "\n",
        "# Keep only those on which compute metrics\n",
        "sorted_test_tags = []\n",
        "for k in sorted_keys:\n",
        "  if k in labels_test:\n",
        "    sorted_test_tags.append(k)\n",
        "\n",
        "# Plots\n",
        "prfs_2 = prfs(pad_tags_test_flat, predictions_flat_test_2, labels=sorted_test_tags, average=None, zero_division=0)\n",
        "prfs_1 = prfs(pad_tags_test_flat, predictions_flat_test_1, labels=sorted_test_tags, average=None, zero_division=0)\n",
        "\n",
        "width=0.2\n",
        "\n",
        "ids = np.arange(0,len(sorted_test_tags))\n",
        "x_labels = sorted_test_tags.copy()\n",
        "\n",
        "fig, ax = plt.subplots(figsize=(20,6))\n",
        "plt.bar(ids-width, prfs_1[0], width*2, label=best_model_1, color=\"darkred\")\n",
        "plt.bar(ids+width, prfs_2[0], width*2, label=best_model_2, color=\"tab:orange\")\n",
        "\n",
        "ax.set_ylim([0,1.15])\n",
        "ax.set_xlim([-1,len(x_labels)])\n",
        "ax.set_xticks(ids)\n",
        "ax.set_xticklabels(x_labels)\n",
        "plt.xlabel(\"Test tags\")\n",
        "plt.ylabel(\"Score\")\n",
        "plt.legend(loc='upper center')\n",
        "plt.title('Precision')\n",
        "\n",
        "plt.show()\n",
        "\n",
        "print()\n",
        "\n",
        "fig, ax = plt.subplots(figsize=(20,6))\n",
        "plt.bar(ids-width, prfs_1[1], width*2, label=best_model_1, color=\"darkred\")\n",
        "plt.bar(ids+width, prfs_2[1], width*2, label=best_model_2, color=\"tab:orange\")\n",
        "\n",
        "ax.set_ylim([0,1.15])\n",
        "ax.set_xlim([-1,len(x_labels)])\n",
        "ax.set_xticks(ids)\n",
        "ax.set_xticklabels(x_labels)\n",
        "plt.xlabel(\"Test tags\")\n",
        "plt.ylabel(\"Score\")\n",
        "plt.legend(loc='upper center')\n",
        "plt.title('Recall')\n",
        "\n",
        "plt.show()\n",
        "\n",
        "print()\n",
        "\n",
        "fig, ax = plt.subplots(figsize=(20,6))\n",
        "plt.bar(ids-width, prfs_1[2], width*2, label=best_model_1, color=\"darkred\")\n",
        "plt.bar(ids+width, prfs_2[2], width*2, label=best_model_2, color=\"tab:orange\")\n",
        "\n",
        "ax.set_ylim([0,1.15])\n",
        "ax.set_xlim([-1,len(x_labels)])\n",
        "ax.set_xticks(ids)\n",
        "ax.set_xticklabels(x_labels)\n",
        "plt.xlabel(\"Test tags\")\n",
        "plt.ylabel(\"Score\")\n",
        "plt.legend(loc='upper center')\n",
        "plt.title('F1-score')\n",
        "\n",
        "plt.show()"
      ],
      "metadata": {
        "colab": {
          "base_uri": "https://localhost:8080/",
          "height": 1000
        },
        "id": "P0XQXGbExHA1",
        "outputId": "4d350d19-552f-4a99-fdbc-ee65c46068e9"
      },
      "execution_count": null,
      "outputs": [
        {
          "output_type": "display_data",
          "data": {
            "text/plain": [
              "<Figure size 1440x432 with 1 Axes>"
            ],
            "image/png": "[encoded data removed]"
          },
          "metadata": {
            "needs_background": "light"
          }
        },
        {
          "output_type": "stream",
          "name": "stdout",
          "text": [
            "\n"
          ]
        },
        {
          "output_type": "display_data",
          "data": {
            "text/plain": [
              "<Figure size 1440x432 with 1 Axes>"
            ],
            "image/png": "[encoded data removed]"
          },
          "metadata": {
            "needs_background": "light"
          }
        },
        {
          "output_type": "stream",
          "name": "stdout",
          "text": [
            "\n"
          ]
        },
        {
          "output_type": "display_data",
          "data": {
            "text/plain": [
              "<Figure size 1440x432 with 1 Axes>"
            ],
            "image/png": "[encoded data removed]"
          },
          "metadata": {
            "needs_background": "light"
          }
        }
      ]
    },
    {
      "cell_type": "markdown",
      "source": [
        "In particular, it can be seen that the tags with an higher support are mostly correctly classified (high precision), without making too much mistakes (high recall). Thus, on them both models achieve satisfactory f1-score values.\n",
        "\n",
        "For what concerns lower support tags, results are different. On them, both models show lower precision and recall (and as a consequence a lower f1-score), struggling to classify them. For example, on NNPS and PDT tags they both obtain an f1-score equal to $0$.\n",
        "\n",
        "So, the precision, recall and f1-score distributions among classes turned out to be unbalanced towards most frequent tags."
      ],
      "metadata": {
        "id": "h6PMlRP-9LF_"
      }
    },
    {
      "cell_type": "markdown",
      "source": [
        "## 8.2 Most and less frequent tags analysis"
      ],
      "metadata": {
        "id": "5y6ahAEmr755"
      }
    },
    {
      "cell_type": "markdown",
      "source": [
        "Since they might reveal important information about models, let's better visualize the f1-scores on the 4 most and on the 4 less frequent tags in the test set by printing their exact values."
      ],
      "metadata": {
        "id": "uflJNahRMUZB"
      }
    },
    {
      "cell_type": "code",
      "source": [
        "# Print the 4 most frequent test tags\n",
        "n = 4\n",
        "most_freq_test_tags = df_test[column].value_counts()[:n].index.tolist()\n",
        "most_freq_test_tags"
      ],
      "metadata": {
        "colab": {
          "base_uri": "https://localhost:8080/"
        },
        "id": "kgq1kWJz8Nmf",
        "outputId": "c3137b3e-f14f-42c3-ae3a-5dc6e09022f2"
      },
      "execution_count": null,
      "outputs": [
        {
          "output_type": "execute_result",
          "data": {
            "text/plain": [
              "['NN', 'IN', 'NNP', 'DT']"
            ]
          },
          "metadata": {},
          "execution_count": 67
        }
      ]
    },
    {
      "cell_type": "code",
      "source": [
        "# Print the 4 less frequent test tags\n",
        "less_freq_test_tags = df_test[column].value_counts()[-n:].index.tolist()\n",
        "less_freq_test_tags"
      ],
      "metadata": {
        "colab": {
          "base_uri": "https://localhost:8080/"
        },
        "id": "TmbQ0RAv9bV9",
        "outputId": "be87dc26-9cc8-448b-d2a3-e15a76617875"
      },
      "execution_count": null,
      "outputs": [
        {
          "output_type": "execute_result",
          "data": {
            "text/plain": [
              "['EX', 'WP$', 'PDT', 'RBS']"
            ]
          },
          "metadata": {},
          "execution_count": 68
        }
      ]
    },
    {
      "cell_type": "code",
      "source": [
        "# Most frequent tag analysis\n",
        "\n",
        "print('The', n, 'most frequent tags in the test set are', list(most_freq_test_tags),'\\n')\n",
        "\n",
        "for tag in most_freq_test_tags:\n",
        "  print('The f1-score of the first model on', tag, 'is', scores_1[tag]['f1-score'])\n",
        "  print('The f1-score of the second model on', tag, 'is', scores_2[tag]['f1-score'])\n",
        "  print('\\n')"
      ],
      "metadata": {
        "colab": {
          "base_uri": "https://localhost:8080/"
        },
        "id": "otXL1jtp-gxH",
        "outputId": "c1b1a7cc-b39c-42fa-d967-98dee2d64fe7"
      },
      "execution_count": null,
      "outputs": [
        {
          "output_type": "stream",
          "name": "stdout",
          "text": [
            "The 4 most frequent tags in the test set are ['NN', 'IN', 'NNP', 'DT'] \n",
            "\n",
            "The f1-score of the first model on NN is 0.904969485614647\n",
            "The f1-score of the second model on NN is 0.9021622778848213\n",
            "\n",
            "\n",
            "The f1-score of the first model on IN is 0.9505322479649343\n",
            "The f1-score of the second model on IN is 0.9448082319925165\n",
            "\n",
            "\n",
            "The f1-score of the first model on NNP is 0.8784860557768924\n",
            "The f1-score of the second model on NNP is 0.8776478027189377\n",
            "\n",
            "\n",
            "The f1-score of the first model on DT is 0.95391532409142\n",
            "The f1-score of the second model on DT is 0.9526315789473685\n",
            "\n",
            "\n"
          ]
        }
      ]
    },
    {
      "cell_type": "markdown",
      "source": [
        "Both models perform well on all 4 highest support tags."
      ],
      "metadata": {
        "id": "ClTZZ06ZNpZM"
      }
    },
    {
      "cell_type": "code",
      "source": [
        "# Less frequent tag analysis\n",
        "\n",
        "print('The', n, 'less frequent tags in the test set are', list(less_freq_test_tags),'\\n')\n",
        "\n",
        "for tag in less_freq_test_tags:\n",
        "  print('The f1-score of the first model on', tag, 'is', scores_1[tag]['f1-score'])\n",
        "  print('The f1-score of the second model on', tag, 'is', scores_2[tag]['f1-score'])\n",
        "  print('\\n')"
      ],
      "metadata": {
        "colab": {
          "base_uri": "https://localhost:8080/"
        },
        "id": "3yvGOVob_MtX",
        "outputId": "59eac3e1-b1f5-45ad-8f2e-b18d7c2c8f45"
      },
      "execution_count": null,
      "outputs": [
        {
          "output_type": "stream",
          "name": "stdout",
          "text": [
            "The 4 less frequent tags in the test set are ['EX', 'WP$', 'PDT', 'RBS'] \n",
            "\n",
            "The f1-score of the first model on EX is 0.9090909090909091\n",
            "The f1-score of the second model on EX is 0.888888888888889\n",
            "\n",
            "\n",
            "The f1-score of the first model on WP$ is 0.8571428571428571\n",
            "The f1-score of the second model on WP$ is 0.8571428571428571\n",
            "\n",
            "\n",
            "The f1-score of the first model on PDT is 0.0\n",
            "The f1-score of the second model on PDT is 0.0\n",
            "\n",
            "\n",
            "The f1-score of the first model on RBS is 0.6666666666666666\n",
            "The f1-score of the second model on RBS is 0.8\n",
            "\n",
            "\n"
          ]
        }
      ]
    },
    {
      "cell_type": "markdown",
      "source": [
        "Performances are different for what concerns the 4 lowest support tags. In particular, PDT is completely misclassified by both networks.\n",
        "\n",
        "As stated in the previous section, the unbalanced nature of the dataset affected the results, as the networks have been trained with fewer example of less frequent tags than most frequent ones, resulting in a poor classification of the formers."
      ],
      "metadata": {
        "id": "7pvStv74NvyX"
      }
    },
    {
      "cell_type": "markdown",
      "source": [
        "## 8.3 Confusion matrix and specific errors analysis"
      ],
      "metadata": {
        "id": "S4QHDfXfseIc"
      }
    },
    {
      "cell_type": "markdown",
      "source": [
        "As a further analysis, let's visualize confusion matrices for both models."
      ],
      "metadata": {
        "id": "hL8fOZTxDHO0"
      }
    },
    {
      "cell_type": "code",
      "source": [
        "# Confusion matrix best_model_1\n",
        "\n",
        "fig, ax = plt.subplots(figsize=(20, 20))\n",
        "confusion_matrix_1 = confusion_matrix(pad_tags_test_flat, predictions_flat_test_1, normalize='true', labels=labels_test)\n",
        "\n",
        "heatmap_1 = sns.heatmap(confusion_matrix_1, annot = True, fmt = '.2f', ax = ax, cmap='Blues', xticklabels = labels_test, yticklabels = labels_test)\n",
        "heatmap_1.set(xlabel='Predicted Labels', ylabel='True Labels')"
      ],
      "metadata": {
        "colab": {
          "base_uri": "https://localhost:8080/",
          "height": 1000
        },
        "outputId": "3278a43a-e738-4a28-f60d-481d50e8e0c5",
        "id": "U4_gfMJ6kLUf"
      },
      "execution_count": null,
      "outputs": [
        {
          "output_type": "execute_result",
          "data": {
            "text/plain": [
              "[Text(159.0, 0.5, 'True Labels'), Text(0.5, 159.0, 'Predicted Labels')]"
            ]
          },
          "metadata": {},
          "execution_count": 71
        },
        {
          "output_type": "display_data",
          "data": {
            "text/plain": [
              "<Figure size 1440x1440 with 2 Axes>"
            ],
            "image/png": "[encoded data removed]"
          },
          "metadata": {
            "needs_background": "light"
          }
        }
      ]
    },
    {
      "cell_type": "code",
      "source": [
        "# Confusion matrix best_model_2\n",
        "\n",
        "fig, ax = plt.subplots(figsize=(20, 20))\n",
        "confusion_matrix_2 = confusion_matrix(pad_tags_test_flat, predictions_flat_test_2, normalize='true', labels = labels_test)\n",
        "\n",
        "heatmap_2 = sns.heatmap(confusion_matrix_2, annot = True, fmt = '.2f', ax = ax, cmap='Blues', xticklabels = labels_test, yticklabels = labels_test)\n",
        "heatmap_2.set(xlabel='Predicted Labels', ylabel='True Labels')"
      ],
      "metadata": {
        "colab": {
          "base_uri": "https://localhost:8080/",
          "height": 1000
        },
        "outputId": "54d560a2-b0ae-44c8-ea73-6e6695645780",
        "id": "e0c64OnEkLUf"
      },
      "execution_count": null,
      "outputs": [
        {
          "output_type": "execute_result",
          "data": {
            "text/plain": [
              "[Text(159.0, 0.5, 'True Labels'), Text(0.5, 159.0, 'Predicted Labels')]"
            ]
          },
          "metadata": {},
          "execution_count": 72
        },
        {
          "output_type": "display_data",
          "data": {
            "text/plain": [
              "<Figure size 1440x1440 with 2 Axes>"
            ],
            "image/png": "[encoded data removed]"
          },
          "metadata": {
            "needs_background": "light"
          }
        }
      ]
    },
    {
      "cell_type": "markdown",
      "source": [
        "As already underlined by looking at f1-score plots, there are several tags which are completely misclassified by the models. Let's have a deeper look at the more interesting ones."
      ],
      "metadata": {
        "id": "mbtjjJ9VDa_z"
      }
    },
    {
      "cell_type": "markdown",
      "source": [
        "### Misclassified sample - NNPS"
      ],
      "metadata": {
        "id": "tWuJgPYwFHJq"
      }
    },
    {
      "cell_type": "markdown",
      "source": [
        "Let's first have a look on how the two models classify the *plural proper noun* NNPS tag.\n",
        "They both show on it an f1-score equal to 0, classifying it most of the time as a *singular proper noun* NNP tag."
      ],
      "metadata": {
        "id": "TLJ3nhT0WkXr"
      }
    },
    {
      "cell_type": "code",
      "source": [
        "# Misclassified samples - NNPS\n",
        "\n",
        "df_tag_NNPS = df_test[df_test[\"tag\"] == \"NNPS\"].sort_values(by=['sentence_id'])\n",
        "id_NNPS_sentences = df_tag_NNPS['sentence_id'].unique()\n",
        "id_first_sentence = int(df_test.sort_index().iloc[:1][\"sentence_id\"])"
      ],
      "metadata": {
        "id": "7J5jFOKKuton"
      },
      "execution_count": null,
      "outputs": []
    },
    {
      "cell_type": "code",
      "source": [
        "for id in id_NNPS_sentences:\n",
        "  l = len(sentences_test[id-id_first_sentence])\n",
        "\n",
        "  sentence = sentences_test[id-id_first_sentence]\n",
        "  true_tags = pad_tags_test[id-id_first_sentence][0:l]\n",
        "  pred_tags_1 = np.array(predictions_test_1[id-id_first_sentence][0:l]).astype('object')\n",
        "  pred_tags_2 = np.array(predictions_test_2[id-id_first_sentence][0:l]).astype('object')\n",
        "\n",
        "  first_row = np.insert(sentence, 0, 'Sentence:')\n",
        "  second_row = np.insert(true_tags, 0, 'True labels:')\n",
        "  third_row = np.insert(pred_tags_1, 0, best_model_1 + ' predictions:')\n",
        "  fourth_row = np.insert(pred_tags_2, 0, best_model_2 + ' predictions:')\n",
        "\n",
        "  rows = [first_row, second_row, third_row, fourth_row]\n",
        "  widths = [max(map(len, col)) for col in zip(*rows)]\n",
        "\n",
        "  for row in rows:\n",
        "      print(\"  \".join((val.ljust(width) for val, width in zip(row, widths))))\n",
        "\n",
        "  print(\"-\"*300)"
      ],
      "metadata": {
        "colab": {
          "base_uri": "https://localhost:8080/"
        },
        "id": "_CPaXO7__MJz",
        "outputId": "5ae87ef4-28a6-4527-f8c3-f88c33f43ab1"
      },
      "execution_count": null,
      "outputs": [
        {
          "output_type": "stream",
          "name": "stdout",
          "text": [
            "Sentence:                  One  analyst  ,  Arthur  Stevenson  ,  of  Prudential-Bache  Securities  ,  New  York  ,  estimated  that  65  %   or  more  of  Brazil  's   newly  made  automobiles  run  on  alcohol  and  ca   n't  use  gasoline  .\n",
            "True labels:               CD   NN       ,  NNP     NNP        ,  IN  NNP               NNPS        ,  NNP  NNP   ,  VBD        IN    CD  NN  CC  JJR   IN  NNP     POS  RB     VBN   NNS          VBP  IN  NN       CC   MD   RB   VB   NN        .\n",
            "LSTM2_1Dense predictions:  RB   NN       ,  NNP     NNP        ,  IN  NNP               NNP         ,  NNP  NNP   ,  VBD        DT    CD  NN  CC  JJR   IN  NNP     POS  VBN    RB    NNS          RB   IN  NN       CC   MD   RB   VB   NNS       .\n",
            "LSTM_1Dense predictions:   NNP  NN       ,  NNP     NNP        ,  IN  NNP               NNP         ,  NNP  NNP   ,  VBD        IN    CD  NN  CC  JJR   IN  NNP     POS  VBN    JJ    NNS          RB   IN  NN       CC   VBP  RB   VB   NNS       .\n",
            "------------------------------------------------------------------------------------------------------------------------------------------------------------------------------------------------------------------------------------------------------------------------------------------------------------\n",
            "Sentence                   GRAINS  AND  SOYBEANS  :\n",
            "True labels:               NNPS    NNP  NNPS      :\n",
            "LSTM2_1Dense predictions:  NNP     NNP  NNP       :\n",
            "LSTM_1Dense predictions:   NNP     NNP  NNP       :\n",
            "------------------------------------------------------------------------------------------------------------------------------------------------------------------------------------------------------------------------------------------------------------------------------------------------------------\n",
            "Sentence:                  That  designation  would  ,  among  other  things  ,  provide  more  generous  credit  terms  under  which  the  Soviets  could  purchase  grain  .\n",
            "True labels:               DT    NN           MD     ,  IN     JJ     NNS     ,  VB       RBR   JJ        NN      NNS    IN     WDT    DT   NNPS     MD     VB        NN     .\n",
            "LSTM2_1Dense predictions:  DT    NN           MD     ,  IN     JJ     NNS     ,  VBP      RBR   JJ        NNS     JJ     IN     WDT    DT   NNP      MD     VB        NN     .\n",
            "LSTM_1Dense predictions:   DT    NN           MD     ,  IN     JJ     NNS     ,  VBP      RBR   JJ        NN      JJ     IN     WDT    DT   NNP      MD     VB        NN     .\n",
            "------------------------------------------------------------------------------------------------------------------------------------------------------------------------------------------------------------------------------------------------------------------------------------------------------------\n",
            "Sentence:                  The  Soviets  are  widely  believed  to  need  additional  supplies  ,  despite  running  up  record  one-month  purchases  of  310  million  bushels  of  corn  in  October  .\n",
            "True labels:               DT   NNPS     VBP  RB      VBN       TO  VB    JJ          NNS       ,  IN       VBG      RP  JJ      JJ         NNS        IN  CD   CD       NNS      IN  NN    IN  NNP      .\n",
            "LSTM2_1Dense predictions:  DT   NNS      VBP  RB      VBN       TO  VB    JJ          NNS       ,  VBG      RB       IN  NN      JJ         NNS        IN  CD   CD       NNS      IN  NN    IN  NNP      .\n",
            "LSTM_1Dense predictions:   DT   NNS      VBP  RB      VBN       TO  VB    JJ          NNS       ,  IN       VBG      RP  NN      JJ         NNS        IN  CD   CD       NNS      IN  NN    IN  NNP      .\n",
            "------------------------------------------------------------------------------------------------------------------------------------------------------------------------------------------------------------------------------------------------------------------------------------------------------------\n",
            "Sentence:                  DD   Acquisition  Corp.  ,  a   partnership  of  Unicorp  Canada  Corp.  's   Kingsbridge  Capital  Group  and  Cara  Operations  Ltd.  ,  extended  to  Nov.  20  its   $  45-a-share  offer  for  all  Dunkin'  Donuts  Inc.  shares  outstanding  .\n",
            "True labels:               NNP  NNP          NNP    ,  DT  NN           IN  NNP      NNP     NNP    POS  NNP          NNP      NNP    CC   NNP   NNPS        NNP   ,  VBD       TO  NNP   CD  PRP$  $  JJ          NN     IN   DT   NNP      NNPS    NNP   NNS     JJ           .\n",
            "LSTM2_1Dense predictions:  NNP  NNP          NNP    ,  DT  NN           IN  NNP      NNP     NNP    POS  NNP          NNP      NNP    CC   NNP   NNP         NNP   ,  VBN       TO  NNP   CD  PRP$  $  JJ          NN     IN   DT   NNP      NNP     NNP   NNS     JJ           .\n",
            "LSTM_1Dense predictions:   NNP  NNP          NNP    ,  DT  NN           IN  NNP      NNP     NNP    POS  NNP          NNP      NNP    CC   NNP   NNP         NNP   ,  VBN       TO  NNP   CD  PRP$  $  CD          NN     IN   DT   NNP      NNP     NNP   NNS     JJ           .\n",
            "------------------------------------------------------------------------------------------------------------------------------------------------------------------------------------------------------------------------------------------------------------------------------------------------------------\n",
            "Sentence:                  ``  This  market  's   still  going  through  its   pains  ,  ''  said  Philip  Puccio  ,  head  of  equity  trading  at  Prudential-Bache  Securities  .\n",
            "True labels:               ``  DT    NN      VBZ  RB     VBG    IN       PRP$  NNS    ,  ''  VBD   NNP     NNP     ,  NN    IN  NN      NN       IN  NNP               NNPS        .\n",
            "LSTM2_1Dense predictions:  ``  NN    NN      VBZ  RB     RB     IN       PRP$  NNS    ,  ''  VBD   NNP     NNP     ,  NN    IN  NN      VBG      IN  NNP               NNP         .\n",
            "LSTM_1Dense predictions:   ``  DT    NN      VBZ  RB     VBP    IN       PRP$  NNS    ,  ''  VBD   NNP     NNP     ,  NN    IN  NN      NN       IN  NNP               NNP         .\n",
            "------------------------------------------------------------------------------------------------------------------------------------------------------------------------------------------------------------------------------------------------------------------------------------------------------------\n",
            "Sentence:                  ``  I    sense  that  some  people  are  reluctant  to  stick  their  necks  out  in  any  aggressive  way  until  after  the  figures  come  out  ,  ''  said  Richard  Eakle  ,  president  of  Eakle  Associates  ,  Fair  Haven  ,\n",
            "True labels:               ``  PRP  VBP    IN    DT    NNS     VBP  JJ         TO  VB     PRP$   NNS    RP   IN  DT   JJ          NN   IN     IN     DT   NNS      VBP   IN   ,  ''  VBD   NNP      NNP    ,  NN         IN  NNP    NNPS        ,  NNP   NNP    ,\n",
            "LSTM2_1Dense predictions:  ``  PRP  NN     IN    DT    NNS     VBP  JJ         TO  VB     PRP$   NNS    RP   IN  DT   JJ          NN   IN     IN     DT   NNS      VBP   RP   ,  ''  VBD   NNP      NNP    ,  NN         IN  NNP    NNP         ,  NNP   NNP    ,\n",
            "LSTM_1Dense predictions:   ``  DT   NN     IN    DT    NNS     VBP  JJ         TO  VB     PRP$   NNS    RP   IN  DT   JJ          IN   IN     IN     DT   NNS      VBP   RP   ,  ''  VBD   NNP      NNP    ,  NN         IN  NNP    NNP         ,  NNP   NNP    ,\n",
            "------------------------------------------------------------------------------------------------------------------------------------------------------------------------------------------------------------------------------------------------------------------------------------------------------------\n",
            "Sentence:                  Prudential-Bache  Securities  boosted  the  stock  's   short-term  investment  rating  in  response  to  the  departure  ;  analyst  John  McMillin  said  he   believes  the  company  will  turn  to  new  management  ``  that  's   more  financially  oriented  .  ''\n",
            "True labels:               NNP               NNPS        VBD      DT   NN     POS  JJ          NN          NN      IN  NN        TO  DT   NN         :  NN       NNP   NNP       VBD   PRP  VBZ       DT   NN       MD    VB    TO  JJ   NN          ``  DT    VBZ  RBR   RB           VBN       .  ''\n",
            "LSTM2_1Dense predictions:  NNP               NNP         VBD      DT   NN     POS  JJ          NN          NN      IN  NN        TO  DT   NN         :  NN       NNP   NNP       VBD   PRP  VBZ       DT   NN       MD    VB    TO  JJ   NN          ``  WDT   VBZ  RBR   RB           JJ        .  ''\n",
            "LSTM_1Dense predictions:   NNP               NNP         VBD      DT   NN     POS  JJ          NN          NN      IN  NN        TO  DT   NN         :  NN       NNP   NNP       VBD   PRP  VBZ       DT   NN       MD    VB    TO  JJ   NN          ``  WDT   VBZ  RBR   RB           JJ        .  ''\n",
            "------------------------------------------------------------------------------------------------------------------------------------------------------------------------------------------------------------------------------------------------------------------------------------------------------------\n",
            "Sentence:                  Other  rumored  takeover  and  restructuring  candidates  to  attract  buyers  included  Woolworth  ,  which  went  up  1   3\\/4  to  59  1\\/2  ;  Avon  Products  ,  up  1   3\\/4  to  29  1\\/4  ;  Paramount  Communications  ,  up  2   to  57  7\\/8  ,  and  Ferro  ,  up  2   5\\/8  to  28  3\\/4  .\n",
            "True labels:               JJ     VBN      NN        CC   VBG            NNS         TO  VB       NNS     VBD       NNP        ,  WDT    VBD   RB  CD  CD    TO  CD  CD    :  NNP   NNPS      ,  RB  CD  CD    TO  CD  CD    :  NNP        NNPS            ,  RB  CD  TO  CD  CD    ,  CC   NNP    ,  RB  CD  CD    TO  CD  CD    .\n",
            "LSTM2_1Dense predictions:  NNS    VBD      NN        CC   NN             NNS         TO  VB       NNS     VBN       NNP        ,  WDT    VBD   RP  CD  CD    TO  CD  CD    :  NNP   NNP       ,  RB  CD  CD    TO  CD  CD    :  NNP        NNP             ,  RB  CD  TO  CD  CD    ,  CC   NNP    ,  RB  CD  CD    TO  CD  CD    .\n",
            "LSTM_1Dense predictions:   NNP    JJ       NN        CC   JJ             NNS         TO  VB       NNS     VBN       NNP        ,  WDT    VBD   RP  CD  CD    TO  CD  CD    :  NNP   NNP       ,  RP  CD  CD    TO  CD  CD    :  NNP        NNP             ,  RP  CD  TO  CD  CD    ,  CC   NNP    ,  RP  CD  CD    TO  CD  CD    .\n",
            "------------------------------------------------------------------------------------------------------------------------------------------------------------------------------------------------------------------------------------------------------------------------------------------------------------\n",
            "Sentence:                  AMR  climbed  1   3\\/4  to  73  1\\/8  amid  rumors  that  New  York  developer  Donald  Trump  was  seeking  financing  to  mount  a   new  ,  lower  offer  for  the  parent  company  of  American  Airlines  .\n",
            "True labels:               NNP  VBD      CD  CD    TO  CD  CD    IN    NNS     IN    NNP  NNP   NN         NNP     NNP    VBD  VBG      NN         TO  VB     DT  JJ   ,  JJR    NN     IN   DT   NN      NN       IN  NNP       NNPS      .\n",
            "LSTM2_1Dense predictions:  PRP  VBD      CD  CD    TO  CD  NNS   NNS   NNS     IN    NNP  NNP   NN         NNP     NNP    VBD  VBG      NN         TO  VB     DT  NN   ,  JJR    NN     IN   DT   JJ      NN       IN  NNP       NNP       .\n",
            "LSTM_1Dense predictions:   NNP  VBD      CD  CD    TO  CD  CD    NNS   NNS     IN    NNP  NNP   NN         NNP     NNP    VBD  JJ       NN         TO  VB     DT  NN   ,  JJR    NN     IN   DT   JJ      NN       IN  NNP       NNP       .\n",
            "------------------------------------------------------------------------------------------------------------------------------------------------------------------------------------------------------------------------------------------------------------------------------------------------------------\n",
            "Sentence:                  Drexel  Burnham  Lambert  analyst  Michael  Derchin  said  he   sees  a   70  %   chance  that  the  parent  of  United  Airlines  ,  the  target  of  a   failed  $  300-a-share  offer  from  a   labor-management  group  ,  will  be  acquired  or  restructured  within  six  months  .\n",
            "True labels:               NNP     NNP      NNP      NN       NNP      NNP      VBD   PRP  VBZ   DT  CD  NN  NN      IN    DT   NN      IN  NNP     NNPS      ,  DT   NN      IN  DT  VBN     $  JJ           NN     IN    DT  NN                NN     ,  MD    VB  VBN       CC  VBN           IN      CD   NNS     .\n",
            "LSTM2_1Dense predictions:  DT      NNP      NNP      NN       NNP      NNP      VBD   PRP  VBZ   DT  CD  NN  NN      IN    DT   NN      IN  NNP     NNP       ,  DT   NN      IN  DT  NN      $  CD           NN     IN    DT  JJ                NN     ,  MD    VB  VBN       CC  VBN           IN      CD   NNS     .\n",
            "LSTM_1Dense predictions:   DT      NNP      NNP      NN       NNP      NNP      VBD   PRP  VBZ   DT  CD  NN  NN      IN    DT   NN      IN  NNP     NNP       ,  DT   NN      IN  DT  NN      $  CD           NN     IN    DT  JJ                NN     ,  MD    VB  VBN       CC  RB            IN      CD   NNS     .\n",
            "------------------------------------------------------------------------------------------------------------------------------------------------------------------------------------------------------------------------------------------------------------------------------------------------------------\n",
            "Sentence:                  Georgia  Gulf  added  1   3\\/4  to  51  1\\/4  after  NL   Industries  ,  controlled  by  Dallas  investor  Harold  Simmons  ,  offered  to  acquire  the  stock  it   does  n't  already  own  for  $  50  a   share  .\n",
            "True labels:               NNP      NNP   VBD    CD  CD    TO  CD  CD    IN     NNP  NNPS        ,  VBN         IN  NNP     NN        NNP     NNP      ,  VBD      TO  VB       DT   NN     PRP  VBZ   RB   RB       VB   IN   $  CD  DT  NN     .\n",
            "LSTM2_1Dense predictions:  NNP      NNP   VBD    CD  CD    TO  CD  CD    IN     NNP  NNP         ,  VBN         IN  JJ      NN        NNP     NNP      ,  VBN      TO  VB       DT   NN     PRP  VBZ   RB   VB       JJ   IN   $  CD  DT  NN     .\n",
            "LSTM_1Dense predictions:   NNP      NNP   VBD    CD  CD    TO  CD  CD    IN     NNP  NNP         ,  VBN         IN  NNP     NN        NNP     NNP      ,  VBD      TO  VB       DT   NN     PRP  VBZ   RB   RB       JJ   IN   $  CD  DT  NN     .\n",
            "------------------------------------------------------------------------------------------------------------------------------------------------------------------------------------------------------------------------------------------------------------------------------------------------------------\n",
            "Sentence:                  Freeport-McMoRan  Inc.  said  it   will  convert  its   Freeport-McMoRan  Energy  Partners  Ltd.  partnership  into  a   publicly  traded  company  through  the  exchange  of  units  of  the  partnership  for  common  shares  .\n",
            "True labels:               NNP               NNP   VBD   PRP  MD    VB       PRP$  NNP               NNP     NNPS      NNP   NN           IN    DT  RB        VBN     NN       IN       DT   NN        IN  NNS    IN  DT   NN           IN   JJ      NNS     .\n",
            "LSTM2_1Dense predictions:  NNP               NNP   VBD   PRP  MD    VB       PRP$  NNP               NNP     NNP       NNP   NN           IN    DT  RB        VBN     NN       IN       DT   NN        IN  NNS    IN  DT   NN           IN   JJ      NNS     .\n",
            "LSTM_1Dense predictions:   NNP               NNP   VBD   PRP  MD    VB       PRP$  NNP               NNP     NNP       JJ    NN           IN    DT  RB        VBN     NN       IN       DT   NN        IN  NNS    IN  DT   NN           IN   JJ      NNS     .\n",
            "------------------------------------------------------------------------------------------------------------------------------------------------------------------------------------------------------------------------------------------------------------------------------------------------------------\n",
            "Sentence:                  Last  week  ,  Miami-based  Carnival  disclosed  that  Waertsilae  Marine  Industries  ,  the  Finnish  shipyard  that  is   building  Carnival  's   new  cruise  ships  ,  planned  to  file  for  bankruptcy  .\n",
            "True labels:               JJ    NN    ,  JJ           NNP       VBD        IN    NNP         NNP     NNPS        ,  DT   JJ       NN        WDT   VBZ  VBG       NNP       POS  JJ   NN      NNS    ,  VBD      TO  VB    IN   NN          .\n",
            "LSTM2_1Dense predictions:  JJ    NN    ,  NNP          NNP       VBD        IN    NNP         NNP     NNP         ,  DT   NNP      NN        WDT   VBZ  VBG       NNP       POS  JJ   NN      NNS    ,  VBN      TO  VB    IN   NN          .\n",
            "LSTM_1Dense predictions:   JJ    NN    ,  NNP          NNP       VBD        IN    NNP         NNP     NNP         ,  DT   NNP      NN        WDT   VBZ  VBN       NNP       POS  JJ   NN      NNS    ,  VBD      TO  VB    IN   NN          .\n",
            "------------------------------------------------------------------------------------------------------------------------------------------------------------------------------------------------------------------------------------------------------------------------------------------------------------\n",
            "Sentence:                  Coleco  Industries  Inc.  ,  a   once  high-flying  toy  maker  whose  stock  peaked  at  $  65  a   share  in  the  early  1980s  ,  filed  a   Chapter  11  reorganization  plan  that  provides  just  1.125  cents  a   share  for  common  stockholders  .\n",
            "True labels:               NNP     NNPS        NNP   ,  DT  RB    JJ           NN   NN     WP$    NN     JJ      IN  $  CD  DT  NN     IN  DT   JJ     CD     ,  VBD    DT  NN       CD  NN              NN    WDT   VBZ       RB    CD     NNS    DT  NN     IN   JJ      NNS           .\n",
            "LSTM2_1Dense predictions:  IN      NNP         NNP   ,  DT  VBN   JJ           NN   NN     WP$    NN     VBN     IN  $  CD  DT  NN     IN  DT   JJ     NNS    ,  VBD    DT  NNP      CD  NN              NN    WDT   VBZ       RB    NN     NNS    DT  NN     IN   JJ      NNS           .\n",
            "LSTM_1Dense predictions:   NNP     NNP         NNP   ,  DT  RB    JJ           NN   NN     WP$    NN     VBD     IN  $  CD  DT  NN     IN  DT   JJ     NN     ,  VBD    DT  NNP      CD  NN              NN    WDT   VBZ       RB    CD     NNS    DT  NN     IN   JJ      NNS           .\n",
            "------------------------------------------------------------------------------------------------------------------------------------------------------------------------------------------------------------------------------------------------------------------------------------------------------------\n",
            "Sentence:                  In  addition  ,  they  will  receive  stock  in  the  reorganized  company  ,  which  will  be  named  Ranger  Industries  Inc  .\n",
            "True labels:               IN  NN        ,  PRP   MD    VB       NN     IN  DT   VBN          NN       ,  WDT    MD    VB  VBN    NNP     NNPS        NNP  .\n",
            "LSTM2_1Dense predictions:  IN  NN        ,  PRP   MD    VB       NN     IN  DT   VBN          NN       ,  WDT    MD    VB  VBN    NNP     NNP         NNP  .\n",
            "LSTM_1Dense predictions:   IN  NN        ,  PRP   MD    VB       NN     IN  DT   VBN          NN       ,  WDT    MD    VB  VBN    NNP     NNP         NNP  .\n",
            "------------------------------------------------------------------------------------------------------------------------------------------------------------------------------------------------------------------------------------------------------------------------------------------------------------\n",
            "Sentence:                  ORTEGA  ENDED  a   truce  with  the  Contras  and  said  elections  were  threatened  .\n",
            "True labels:               NNP     VBD    DT  NN     IN    DT   NNPS     CC   VBD   NNS        VBD   VBN         .\n",
            "LSTM2_1Dense predictions:  NNP     VBD    DT  NN     IN    DT   NNP      CC   VBD   NNS        VBD   RB          .\n",
            "LSTM_1Dense predictions:   NNP     NNP    DT  NN     IN    DT   NNP      CC   VBD   NNS        VBD   RB          .\n",
            "------------------------------------------------------------------------------------------------------------------------------------------------------------------------------------------------------------------------------------------------------------------------------------------------------------\n",
            "Sentence:                  While  he   reaffirmed  support  for  the  country  's   Feb.  25  elections  ,  Ortega  indicated  that  renewed  U.S.  military  aid  to  the  Contras  could  thwart  the  balloting  .\n",
            "True labels:               IN     PRP  VBD         NN       IN   DT   NN       POS  NNP   CD  NNS        ,  NNP     VBD        IN    VBN      NNP   JJ        NN   TO  DT   NNPS     MD     VB      DT   NN         .\n",
            "LSTM2_1Dense predictions:  CC     PRP  VBD         NN       IN   DT   NN       POS  NNP   CD  NNS        ,  NNP     VBD        IN    DT       JJ    JJ        NN   TO  DT   NNP      MD     VB      DT   NN         .\n",
            "LSTM_1Dense predictions:   CC     PRP  VBD         NN       IN   DT   NN       POS  NNP   CD  NNS        ,  NNP     VBD        IN    JJ       NNP   JJ        NN   TO  DT   NNP      MD     VB      DT   NN         .\n",
            "------------------------------------------------------------------------------------------------------------------------------------------------------------------------------------------------------------------------------------------------------------------------------------------------------------\n",
            "Sentence:                  Thousands  of  East  Germans  fled  to  Czechoslovakia  after  the  East  Berlin  government  lifted  travel  restrictions  .\n",
            "True labels:               NNS        IN  NNP   NNPS     VBD   TO  NNP             IN     DT   NNP   NNP     NN          VBD     NN      NNS           .\n",
            "LSTM2_1Dense predictions:  NNS        IN  NNP   NNP      VBD   TO  NNP             IN     DT   NNP   NNP     NN          VBD     NNS     NNS           .\n",
            "LSTM_1Dense predictions:   NNP        IN  NNP   NNP      VBD   TO  NNP             IN     DT   NNP   NNP     NN          VBD     JJ      NNS           .\n",
            "------------------------------------------------------------------------------------------------------------------------------------------------------------------------------------------------------------------------------------------------------------------------------------------------------------\n",
            "Sentence:                  Also  in  Beirut  ,  a   Moslem  group  vowed  to  kill  Americans  if  the  U.S.  implements  a   policy  to  seize  suspects  abroad  .\n",
            "True labels:               RB    IN  NNP     ,  DT  NNP     NN     VBD    TO  VB    NNPS       IN  DT   NNP   VBZ         DT  NN      TO  VB     NNS       RB      .\n",
            "LSTM2_1Dense predictions:  NNS   IN  NNP     ,  DT  JJ      NN     VBD    TO  VB    NNP        IN  DT   NNP   VBZ         DT  NN      TO  VB     NNS       NNS     .\n",
            "LSTM_1Dense predictions:   NNP   IN  NNP     ,  DT  JJ      NN     VBD    TO  VB    NNP        IN  DT   NNP   VBZ         DT  NN      TO  VB     NNS       NNS     .\n",
            "------------------------------------------------------------------------------------------------------------------------------------------------------------------------------------------------------------------------------------------------------------------------------------------------------------\n",
            "Sentence:                  Sony  Corp.  completed  its   tender  offer  for  Columbia  Pictures  Entertainment  Inc.  ,  with  Columbia  shareholders  tendering  99.3  %   of  all  common  shares  outstanding  by  the  Tuesday  deadline  .\n",
            "True labels:               NNP   NNP    VBD        PRP$  NN      NN     IN   NNP       NNPS      NNP            NNP   ,  IN    NNP       NNS           VBG        CD    NN  IN  DT   JJ      NNS     JJ           IN  DT   NNP      NN        .\n",
            "LSTM2_1Dense predictions:  NNP   NNP    VBD        PRP$  JJ      NN     IN   NNP       NNP       NNP            NNP   ,  IN    NNP       NNS           VBG        CD    NN  IN  DT   JJ      NNS     JJ           IN  DT   NNP      NN        .\n",
            "LSTM_1Dense predictions:   NNP   NNP    VBD        PRP$  JJ      NN     IN   NNP       NNP       NNP            NNP   ,  IN    NNP       NNS           VBG        NN    NN  IN  DT   JJ      NNS     JJ           IN  DT   NNP      NN        .\n",
            "------------------------------------------------------------------------------------------------------------------------------------------------------------------------------------------------------------------------------------------------------------------------------------------------------------\n",
            "Sentence:                  Guber\\/Peters  has  been  locked  in  litigation  with  Warner  Communications  Inc.  in  an  attempt  to  get  out  of  an  exclusive  production  contract  with  Warner  .\n",
            "True labels:               NNP            VBZ  VBN   VBN     IN  NN          IN    NNP     NNPS            NNP   IN  DT  NN       TO  VB   IN   IN  DT  JJ         NN          NN        IN    NNP     .\n",
            "LSTM2_1Dense predictions:  PRP            VBZ  VBN   VBN     IN  NN          IN    NNP     NNP             NNP   IN  DT  NN       TO  VB   RP   IN  DT  JJ         NN          NN        IN    NNP     .\n",
            "LSTM_1Dense predictions:   NNP            VBZ  VBN   VBN     IN  NN          IN    NNP     NNP             NNP   IN  DT  NN       TO  VB   RP   IN  DT  JJ         NN          NN        IN    NNP     .\n",
            "------------------------------------------------------------------------------------------------------------------------------------------------------------------------------------------------------------------------------------------------------------------------------------------------------------\n",
            "Sentence:                  Georgia  Gulf  received  a   new  takeover  bid  from  investor  Harold  Simmons  and  NL   Industries  of  $  50  a   share  ,  or  about  $  1.1  billion  .\n",
            "True labels:               NNP      NNP   VBD       DT  JJ   NN        NN   IN    NN        NNP     NNP      CC   NNP  NNPS        IN  $  CD  DT  NN     ,  CC  IN     $  CD   CD       .\n",
            "LSTM2_1Dense predictions:  NNP      NNP   VBD       DT  JJ   NN        NN   IN    NN        NNP     NNP      CC   NNP  NNP         IN  $  CD  DT  NN     ,  CC  RB     $  CD   CD       .\n",
            "LSTM_1Dense predictions:   NNP      NNP   VBD       DT  JJ   NN        NN   IN    NN        NNP     NNP      CC   NNP  NNP         IN  $  CD  DT  NN     ,  CC  RB     $  CD   CD       .\n",
            "------------------------------------------------------------------------------------------------------------------------------------------------------------------------------------------------------------------------------------------------------------------------------------------------------------\n",
            "Sentence:                  Two  antitrust  agencies  may  face  further  cutbacks  because  of  a   complicated  new  funding  device  ,  some  Democrats  in  Congress  are  warning  .\n",
            "True labels:               CD   JJ         NNS       MD   VB    JJ       NNS       IN       IN  DT  JJ           JJ   NN       NN      ,  DT    NNPS       IN  NNP       VBP  VBG      .\n",
            "LSTM2_1Dense predictions:  DT   NN         NNS       MD   VB    VB       NNS       IN       IN  DT  JJ           JJ   NN       NN      ,  DT    NNS        IN  NNP       VBP  NN       .\n",
            "LSTM_1Dense predictions:   DT   NN         NNS       MD   VB    JJ       NNS       IN       IN  DT  JJ           JJ   NN       NN      ,  DT    NNP        IN  NNP       VBP  NN       .\n",
            "------------------------------------------------------------------------------------------------------------------------------------------------------------------------------------------------------------------------------------------------------------------------------------------------------------\n",
            "Sentence:                  Junk-bond  markdowns  ,  an  ongoing  Securities  and  Exchange  Commission  investigation  ,  a   Drexel  Burnham  Lambert  connection  ,  a   fizzled  buy-out  rumor  .\n",
            "True labels:               NN         NNS        ,  DT  JJ       NNPS        CC   NNP       NNP         NN             ,  DT  NNP     NNP      NNP      NN          ,  DT  VBN      NN       NN     .\n",
            "LSTM2_1Dense predictions:  JJ         NNS        ,  DT  JJ       NNP         CC   NNP       NNP         NN             ,  DT  NNP     NNP      NNP      NN          ,  DT  NN       NN       NN     .\n",
            "LSTM_1Dense predictions:   IN         NNS        ,  DT  JJ       NNP         CC   NNP       NNP         NN             ,  DT  NNP     NNP      NNP      NN          ,  DT  VBN      NN       NN     .\n",
            "------------------------------------------------------------------------------------------------------------------------------------------------------------------------------------------------------------------------------------------------------------------------------------------------------------\n",
            "Sentence:                  All  this  has  cast  a   pall  over  Columbia  Savings  &   Loan  Association  and  its   high-rolling  43-year-old  chairman  ,  Thomas  Spiegel  ,  who  built  the  $  12.7  billion  Beverly  Hills  ,  Calif.  ,  thrift  with  high-yield  junk  bonds  .\n",
            "True labels:               PDT  DT    VBZ  VBN   DT  NN    IN    NNP       NNPS     CC  NNP   NNP          CC   PRP$  JJ            JJ           NN        ,  NNP     NNP      ,  WP   VBD    DT   $  CD    CD       NNP      NNP    ,  NNP     ,  NN      IN    JJ          NN    NNS    .\n",
            "LSTM2_1Dense predictions:  DT   DT    VBZ  VBN   DT  NN    IN    NNP       NNP      CC  NNP   NNP          CC   PRP$  NNP           JJ           NN        ,  NNP     NNP      ,  WP   VBD    DT   $  CD    CD       NNP      NNP    ,  NNP     ,  NN      IN    JJ          NN    NNS    .\n",
            "LSTM_1Dense predictions:   DT   DT    VBZ  VBN   DT  NN    IN    NNP       NNP      CC  NNP   NNP          CC   PRP$  NNP           NNP          NN        ,  NNP     NNP      ,  WP   VBN    DT   $  CD    CD       NNP      NNP    ,  NNP     ,  NN      IN    JJ          NN    NNS    .\n",
            "------------------------------------------------------------------------------------------------------------------------------------------------------------------------------------------------------------------------------------------------------------------------------------------------------------\n",
            "Sentence:                  These  were  Allied  Stores  ,  Western  Union  Telegraph  ,  Gillett  Holdings  ,  SCI  Television  and  Texas  Air  ,  though  many  other  bonds  in  Columbia  's   portfolio  also  have  lost  value  .\n",
            "True labels:               DT     VBD   NNP     NNPS    ,  NNP      NNP    NNP        ,  NNP      NNP       ,  NNP  NNP         CC   NNP    NNP  ,  IN      JJ    JJ     NNS    IN  NNP       POS  NN         RB    VBP   VBN   NN     .\n",
            "LSTM2_1Dense predictions:  NNS    VBD   VBN     NNP     ,  NNP      NNP    NNP        ,  NNP      NNP       ,  NNP  NNP         CC   NNP    NNP  ,  RB      JJ    JJ     NNS    IN  NNP       POS  NN         RB    VBP   JJ    NN     .\n",
            "LSTM_1Dense predictions:   NNP    VBD   NNP     NNP     ,  NNP      NNP    NNP        ,  NNP      NNP       ,  NNP  NNP         CC   NNP    NNP  ,  RB      JJ    JJ     NNS    IN  NNP       POS  NN         RB    VBP   JJ    NN     .\n",
            "------------------------------------------------------------------------------------------------------------------------------------------------------------------------------------------------------------------------------------------------------------------------------------------------------------\n",
            "Sentence:                  You  sell  the  good  bank  as  an  ongoing  operation  and  use  some  of  the  proceeds  to  capitalize  the  bad  bank  ,  ''  says  thrift  specialist  Lewis  Ranieri  of  Ranieri  Associates  in  New  York  .\n",
            "True labels:               PRP  VBP   DT   JJ    NN    IN  DT  JJ       NN         CC   VBP  DT    IN  DT   NNS       TO  VB          DT   JJ   NN    ,  ''  VBZ   NN      NN          NNP    NNP      IN  NNP      NNPS        IN  NNP  NNP   .\n",
            "LSTM2_1Dense predictions:  PRP  VBP   DT   JJ    NN    IN  DT  JJ       NN         CC   VB   DT    IN  DT   NNS       TO  VB          DT   JJ   NN    ,  ''  VBZ   NN      NN          NNP    NNP      IN  NNP      NNP         IN  NNP  NNP   .\n",
            "LSTM_1Dense predictions:   PRP  VBP   DT   JJ    NN    IN  DT  JJ       NN         CC   VB   DT    IN  DT   NN        TO  VB          DT   JJ   NN    ,  ''  VBZ   NN      NN          NNP    NNP      IN  NNP      NNP         IN  NNP  NNP   .\n",
            "------------------------------------------------------------------------------------------------------------------------------------------------------------------------------------------------------------------------------------------------------------------------------------------------------------\n",
            "Sentence:                  Jerry  Chapman  ,  managing  director  of  WayMar  Associates  ,  was  elected  a   director  of  this  business  telecommunications  software  and  systems  concern  .\n",
            "True labels:               NNP    NNP      ,  VBG       NN        IN  NNP     NNPS        ,  VBD  VBN      DT  NN        IN  DT    NN        NNS                 NN        CC   NNS      NN       .\n",
            "LSTM2_1Dense predictions:  NNP    NNP      ,  VBG       NN        IN  NNP     NNP         ,  VBD  VBN      DT  NN        IN  DT    NN        NNS                 NN        CC   NNS      NN       .\n",
            "LSTM_1Dense predictions:   NNP    NNP      ,  VBG       NN        IN  NNP     NNP         ,  VBD  VBN      DT  NN        IN  DT    NN        NNS                 NN        CC   NNS      NN       .\n",
            "------------------------------------------------------------------------------------------------------------------------------------------------------------------------------------------------------------------------------------------------------------------------------------------------------------\n",
            "Sentence:                  The  scammers  themselves  were  garden-variety  low  lifes  ,  conspicuous  consumers  who  wanted  big  houses  ,  Mercedes  cars  ,  beautiful  women  ,  expensive  clothes  .\n",
            "True labels:               DT   NNS       PRP         VBD   NN              JJ   NNS    ,  JJ           NNS        WP   VBD     JJ   NNS     ,  NNPS      NNS   ,  JJ         NNS    ,  JJ         NNS      .\n",
            "LSTM2_1Dense predictions:  NNS  NNS       PRP         VBD   VBN             JJ   NNS    ,  JJ           NNS        WP   VBP     JJ   NNS     ,  JJ        NNS   ,  JJ         NNS    ,  JJ         NNS      .\n",
            "LSTM_1Dense predictions:   JJ   NNS       PRP         VBD   NNP             JJ   NNS    ,  JJ           NNS        WP   VBD     JJ   NNS     ,  JJ        NNS   ,  JJ         NNS    ,  JJ         NNS      .\n",
            "------------------------------------------------------------------------------------------------------------------------------------------------------------------------------------------------------------------------------------------------------------------------------------------------------------\n",
            "Sentence:                  The  Finnish  government  and  major  creditors  of  bankrupt  shipyard  Waertsilae  Marine  Industries  Oy   agreed  in  principle  to  form  a   new  company  to  complete  most  of  the  troubled  shipyard  's   backlog  of  15  ships  .\n",
            "True labels:               DT   JJ       NN          CC   JJ     NNS        IN  JJ        NN        NNP         NNP     NNPS        NNP  VBD     IN  NN         TO  VB    DT  JJ   NN       TO  VB        JJS   IN  DT   JJ        NN        POS  NN       IN  CD  NNS    .\n",
            "LSTM2_1Dense predictions:  DT   NNP      NN          CC   JJ     NNS        IN  JJ        NNP       NNP         NNP     NNP         NNP  VBD     IN  NN         TO  VB    DT  JJ   NN       TO  VB        JJS   IN  DT   JJ        NN        POS  NN       IN  CD  NNS    .\n",
            "LSTM_1Dense predictions:   DT   NNP      NN          CC   JJ     NNS        IN  JJ        NNP       NNP         NNP     NNP         NNP  VBD     IN  NN         TO  VB    DT  JJ   NN       TO  VB        JJS   IN  DT   JJ        NN        POS  NN       IN  CD  NNS    .\n",
            "------------------------------------------------------------------------------------------------------------------------------------------------------------------------------------------------------------------------------------------------------------------------------------------------------------\n",
            "Sentence:                  Waertsilae  Marine  's   biggest  creditor  is   Miami-based  Carnival  Cruise  Lines  Inc  .\n",
            "True labels:               NNP         NNP     POS  JJS      NN        VBZ  JJ           NNP       NNP     NNPS   NNP  .\n",
            "LSTM2_1Dense predictions:  NNP         NNP     POS  JJS      NN        VBZ  NNP          NNP       NNP     NNP    NNP  .\n",
            "LSTM_1Dense predictions:   NNP         NNP     POS  JJS      NN        VBZ  NNP          NNP       NNP     NNP    NNP  .\n",
            "------------------------------------------------------------------------------------------------------------------------------------------------------------------------------------------------------------------------------------------------------------------------------------------------------------\n",
            "Sentence:                  And  some  grain  analysts  are  predicting  that  corn  prices  might  gyrate  this  month  as  exporters  scrounge  to  find  enough  of  the  crop  to  meet  their  obligations  to  the  Soviets  .\n",
            "True labels:               CC   DT    NN     NNS       VBP  VBG         IN    NN    NNS     MD     VB      DT    NN     IN  NNS        VBP       TO  VB    RB      IN  DT   NN    TO  VB    PRP$   NNS          TO  DT   NNPS     .\n",
            "LSTM2_1Dense predictions:  CC   DT    NN     NNS       VBP  VBG         IN    NN    NNS     MD     VB      DT    NN     RB  NNS        VBD       TO  VB    JJ      IN  DT   NN    TO  VB    PRP$   NNS          TO  DT   NNP      .\n",
            "LSTM_1Dense predictions:   IN   DT    NN     NNS       VBP  VBG         IN    NN    NNS     MD     VB      DT    NN     RB  NNS        VBP       TO  VB    JJ      IN  DT   NN    TO  VB    PRP$   NNS          TO  DT   NNP      .\n",
            "------------------------------------------------------------------------------------------------------------------------------------------------------------------------------------------------------------------------------------------------------------------------------------------------------------\n",
            "Sentence:                  In  a   few  weeks  ,  many  barges  probably  wo  n't  be  able  to  operate  fully  loaded  south  of  St.  Louis  because  the  U.S.  Army  Corps  of  Engineers  is   beginning  to  reduce  the  flow  of  the  Missouri  River  ,  which  feeds  into  the  Mississippi  River  .\n",
            "True labels:               IN  DT  JJ   NNS    ,  JJ    NNS     RB        MD  RB   VB  JJ    TO  VB       RB     VBN     RB     IN  NNP  NNP    IN       DT   NNP   NNP   NNP    IN  NNPS       VBZ  VBG        TO  VB      DT   NN    IN  DT   NNP       NNP    ,  WDT    VBZ    IN    DT   NNP          NNP    .\n",
            "LSTM2_1Dense predictions:  IN  DT  JJ   NNS    ,  JJ    NNS     MD        MD  RB   VB  JJ    TO  VB       RB     VBN     NNS    IN  NNP  NNP    IN       DT   NNP   NNP   NNP    IN  NNP        VBZ  VBG        TO  VB      DT   NNS   IN  DT   NNP       NNP    ,  WDT    VBZ    IN    DT   NNP          NNP    .\n",
            "LSTM_1Dense predictions:   IN  DT  JJ   NNS    ,  JJ    PRP     RB        MD  RB   VB  JJ    TO  VB       RB     VBN     NN     IN  NNP  NNP    IN       DT   NNP   NNP   NNP    IN  NNP        VBZ  VBG        TO  VB      DT   NN    IN  DT   NNP       NNP    ,  WDT    VBZ    IN    DT   NNP          NNP    .\n",
            "------------------------------------------------------------------------------------------------------------------------------------------------------------------------------------------------------------------------------------------------------------------------------------------------------------\n",
            "Sentence:                  But  the  Army  Corps  of  Engineers  expects  the  river  level  to  continue  falling  this  month  .\n",
            "True labels:               CC   DT   NNP   NNP    IN  NNPS       VBZ      DT   NN     NN     TO  VB        VBG      DT    NN     .\n",
            "LSTM2_1Dense predictions:  IN   DT   NNP   NNP    IN  NNP        VBZ      DT   WRB    NN     TO  VB        VBG      DT    NN     .\n",
            "LSTM_1Dense predictions:   IN   DT   NNP   NNP    IN  NNP        VBZ      DT   DT     NN     TO  VB        VBG      DT    NN     .\n",
            "------------------------------------------------------------------------------------------------------------------------------------------------------------------------------------------------------------------------------------------------------------------------------------------------------------\n",
            "Sentence                   Ports  in  the  Great  Lakes  and  Atlantic  Coast  can  also  relieve  pressure  on  New  Orleans  .\n",
            "True labels:               NNS    IN  DT   NNP    NNPS   CC   NNP       NNP    MD   RB    VB       NN        IN  NNP  NNP      .\n",
            "LSTM2_1Dense predictions:  NNS    IN  DT   NNP    NNP    CC   NNP       NNP    MD   RB    VB       NN        IN  NNP  NNP      .\n",
            "LSTM_1Dense predictions:   NNS    IN  DT   NNP    NNP    CC   NNP       NNP    MD   RB    VB       NN        IN  NNP  NNP      .\n",
            "------------------------------------------------------------------------------------------------------------------------------------------------------------------------------------------------------------------------------------------------------------------------------------------------------------\n",
            "Sentence:                  PRECIOUS  METALS  :  Futures  prices  eased  as  increased  stability  and  strength  came  into  the  securities  markets  .\n",
            "True labels:               NNP       NNPS    :  NNP      NNS     VBD    RB  VBN        NN         CC   NN        VBD   IN    DT   NNS         NNS      .\n",
            "LSTM2_1Dense predictions:  DT        NNP     :  NN       NNS     VBD    RB  VBN        NN         CC   NN        VBD   IN    DT   NNS         NNS      .\n",
            "LSTM_1Dense predictions:   NNP       NNP     :  NN       NNS     VBD    IN  NN         NN         CC   NN        VBD   IN    DT   NNS         NNS      .\n",
            "------------------------------------------------------------------------------------------------------------------------------------------------------------------------------------------------------------------------------------------------------------------------------------------------------------\n",
            "Sentence:                  Precious  metals  ,  gold  in  particular  ,  currently  are  being  influenced  more  by  stock  market  gyrations  than  the  dollar  as  traders  seek  greater  investment  stability  ,  according  to  William  O'Neill  ,  vice  president  of  research  at  Elders  Futures  in  New  York  .\n",
            "True labels:               JJ        NNS     ,  NN    IN  JJ          ,  RB         VBP  VBG    VBN         JJR   IN  NN     NN      NNS        IN    DT   NN      IN  NNS      VBP   JJR      NN          NN         ,  VBG        TO  NNP      NNP      ,  NN    NN         IN  NN        IN  NNPS    NNP      IN  NNP  NNP   .\n",
            "LSTM2_1Dense predictions:  JJ        NNS     ,  NN    IN  NN          ,  RB         VBP  VBG    VBN         RBR   IN  NN     NN      NNS        IN    DT   NN      IN  NNS      VBP   VB       NN          NN         ,  VBG        TO  NNP      NNP      ,  NN    NN         IN  NN        IN  NNP     NNP      IN  NNP  NNP   .\n",
            "LSTM_1Dense predictions:   DT        NNS     ,  NN    IN  NN          ,  RB         VBP  VBN    VBN         RBR   IN  NN     NN      NNS        IN    DT   NN      IN  NNS      VBP   JJ       NN          NN         ,  VBG        TO  NNP      NNP      ,  NN    NN         IN  NN        IN  NNP     NNP      IN  NNP  NNP   .\n",
            "------------------------------------------------------------------------------------------------------------------------------------------------------------------------------------------------------------------------------------------------------------------------------------------------------------\n",
            "Sentence:                  Still  ,  USX  fared  better  than  other  major  steelmakers  ,  earning  more  per  ton  of  steel  shipped  than  either  Bethlehem  Steel  Corp.  ,  which  posted  a   54  %   drop  in  net  income  ,  or  Inland  Steel  Industries  Inc.  ,  whose  profit  plummeted  70  %   .\n",
            "True labels:               RB     ,  NNP  VBD    RBR     IN    JJ     JJ     NNS          ,  VBG      JJR   IN   NN   IN  NN     VBN      IN    DT      NNP        NNP    NNP    ,  WDT    VBD     DT  CD  NN  NN    IN  JJ   NN      ,  CC  NNP     NNP    NNPS        NNP   ,  WP$    NN      VBD        CD  NN  .\n",
            "LSTM2_1Dense predictions:  RB     ,  NNP  RB     JJR     IN    JJ     JJ     NNS          ,  VBG      JJR   CD   NN   IN  NN     VBN      IN    IN      NNP        NNP    NNP    ,  WDT    RB      DT  CD  NN  NN    IN  JJ   NN      ,  CC  NNP     NNP    NNP         NNP   ,  WP$    NNS     VBD        CD  NN  .\n",
            "LSTM_1Dense predictions:   RB     ,  NNP  RB     RB      IN    JJ     JJ     NNS          ,  VBG      JJR   CD   NN   IN  NN     VBD      IN    DT      NNP        NNP    NNP    ,  WDT    VBD     DT  CD  NN  NN    IN  JJ   NN      ,  CC  NNP     NNP    NNP         NNP   ,  WP$    NNS     VBD        CD  NN  .\n",
            "------------------------------------------------------------------------------------------------------------------------------------------------------------------------------------------------------------------------------------------------------------------------------------------------------------\n",
            "Sentence:                  Charles  Bradford  ,  an  analyst  with  Merrill  Lynch  Capital  Markets  ,  said  USX  may  have  received  orders  lost  by  competitors  who  were  involved  in  labor  contracts  earlier  this  year  .\n",
            "True labels:               NNP      NNP       ,  DT  NN       IN    NNP      NNP    NNP      NNPS     ,  VBD   NNP  MD   VB    VBN       NNS     VBN   IN  NNS          WP   VBD   VBN       IN  NN     NNS        RBR      DT    NN    .\n",
            "LSTM2_1Dense predictions:  NNP      NNP       ,  DT  NN       IN    NNP      NNP    NNP      NNP      ,  VBD   NNP  MD   VB    VBN       NNS     VBN   IN  NNS          WP   VBD   VBN       IN  NN     NNS        VBD      DT    NN    .\n",
            "LSTM_1Dense predictions:   NNP      NNP       ,  DT  NN       IN    NNP      NNP    NNP      NNP      ,  VBD   NNP  MD   VB    VBN       NNS     CC    IN  NNS          WP   VBD   VBN       IN  NN     NNS        VBD      DT    NN    .\n",
            "------------------------------------------------------------------------------------------------------------------------------------------------------------------------------------------------------------------------------------------------------------------------------------------------------------\n",
            "Sentence:                  Trinity  Industries  Inc.  said  it   reached  a   preliminary  agreement  to  sell  500  railcar  platforms  to  Trailer  Train  Co.  of  Chicago  .\n",
            "True labels:               NNP      NNPS        NNP   VBD   PRP  VBD      DT  JJ           NN         TO  VB    CD   NN       NNS        TO  NNP      NNP    NNP  IN  NNP      .\n",
            "LSTM2_1Dense predictions:  NNP      NNP         NNP   VBD   PRP  VBD      DT  JJ           NN         TO  VB    CD   NN       NNS        TO  VB       NNP    NNP  IN  NNP      .\n",
            "LSTM_1Dense predictions:   NNP      NNP         NNP   VBD   PRP  VBD      DT  JJ           NN         TO  VB    CD   NN       NNS        TO  NNP      NNP    NNP  IN  NNP      .\n",
            "------------------------------------------------------------------------------------------------------------------------------------------------------------------------------------------------------------------------------------------------------------------------------------------------------------\n"
          ]
        }
      ]
    },
    {
      "cell_type": "markdown",
      "source": [
        "\n",
        "The reason behind this kind of error could be that NNP and NNPS both refer to proper nouns and often occur one after the other, showing a close correlation. However, the NNP shows a test set support of $1471$, while NNPS only of $44$. Hence, the networks tend to confuse the two tags, probably because they have been trained with many more examples of NNP than NNPS, thus not being able to effectively encode and learn the difference between the two.\n",
        "\n",
        "This is a clear consequence of the unbalanced nature of the dataset, as stated previously."
      ],
      "metadata": {
        "id": "ttuLgdLbFr-F"
      }
    },
    {
      "cell_type": "markdown",
      "source": [
        "### Misclassified sample - PDT\n",
        "\n",
        "Another example of this kind of behavior can be found in how the two models perform on the *predeterminer* PDT tag, half of the time classified as a *determiner* DT tag by both models."
      ],
      "metadata": {
        "id": "NcSfF8plYHst"
      }
    },
    {
      "cell_type": "code",
      "source": [
        "# Misclassified samples - PDT\n",
        "\n",
        "df_tag_PDT = df_test[df_test[\"tag\"] == \"PDT\"].sort_values(by=['sentence_id'])\n",
        "id_PDT_sentences = df_tag_PDT['sentence_id'].unique()\n",
        "id_first_sentence = int(df_test.sort_index().iloc[:1][\"sentence_id\"])"
      ],
      "metadata": {
        "id": "ZW2GLR8rDkbs"
      },
      "execution_count": null,
      "outputs": []
    },
    {
      "cell_type": "code",
      "source": [
        "for id in id_PDT_sentences:\n",
        "  l = len(sentences_test[id-id_first_sentence])\n",
        "\n",
        "  sentence = np.array(sentences_test[id-id_first_sentence]).astype('object')\n",
        "  true_tags = pad_tags_test[id-id_first_sentence][0:l]\n",
        "  pred_tags_1 = np.array(predictions_test_1[id-id_first_sentence][0:l]).astype('object')\n",
        "  pred_tags_2 = np.array(predictions_test_2[id-id_first_sentence][0:l]).astype('object')\n",
        "\n",
        "  first_row = np.insert(sentence, 0, 'Sentence:')\n",
        "  second_row = np.insert(true_tags, 0, 'True labels:')\n",
        "  third_row = np.insert(pred_tags_1, 0, best_model_1 + ' predictions:')\n",
        "  fourth_row = np.insert(pred_tags_2, 0, best_model_2 + ' predictions:')\n",
        "\n",
        "  rows = [first_row, second_row, third_row, fourth_row]\n",
        "  widths = [max(map(len, col)) for col in zip(*rows)]\n",
        "\n",
        "  for row in rows:\n",
        "      print(\"  \".join((val.ljust(width) for val, width in zip(row, widths))))\n",
        "\n",
        "  print(\"-\"*300)"
      ],
      "metadata": {
        "colab": {
          "base_uri": "https://localhost:8080/"
        },
        "id": "47BkSwh_DqMP",
        "outputId": "0280736a-b28e-4364-aaf4-b1cd77ce6821"
      },
      "execution_count": null,
      "outputs": [
        {
          "output_type": "stream",
          "name": "stdout",
          "text": [
            "Sentence:                  But  it   is   n't  clear  yet  whether  the  central  bank  will  make  such  a   move  .\n",
            "True labels:               CC   PRP  VBZ  RB   JJ     RB   IN       DT   JJ       NN    MD    VB    PDT   DT  NN    .\n",
            "LSTM2_1Dense predictions:  CC   PRP  VBZ  RB   JJ     RB   IN       DT   JJ       NN    MD    VB    VB    DT  NN    .\n",
            "LSTM_1Dense predictions:   IN   PRP  VBZ  RB   JJ     RB   IN       DT   JJ       NN    MD    VB    VB    DT  NN    .\n",
            "------------------------------------------------------------------------------------------------------------------------------------------------------------------------------------------------------------------------------------------------------------------------------------------------------------\n",
            "Sentence:                  All  this  has  cast  a   pall  over  Columbia  Savings  &   Loan  Association  and  its   high-rolling  43-year-old  chairman  ,  Thomas  Spiegel  ,  who  built  the  $  12.7  billion  Beverly  Hills  ,  Calif.  ,  thrift  with  high-yield  junk  bonds  .\n",
            "True labels:               PDT  DT    VBZ  VBN   DT  NN    IN    NNP       NNPS     CC  NNP   NNP          CC   PRP$  JJ            JJ           NN        ,  NNP     NNP      ,  WP   VBD    DT   $  CD    CD       NNP      NNP    ,  NNP     ,  NN      IN    JJ          NN    NNS    .\n",
            "LSTM2_1Dense predictions:  DT   DT    VBZ  VBN   DT  NN    IN    NNP       NNP      CC  NNP   NNP          CC   PRP$  NNP           JJ           NN        ,  NNP     NNP      ,  WP   VBD    DT   $  CD    CD       NNP      NNP    ,  NNP     ,  NN      IN    JJ          NN    NNS    .\n",
            "LSTM_1Dense predictions:   DT   DT    VBZ  VBN   DT  NN    IN    NNP       NNP      CC  NNP   NNP          CC   PRP$  NNP           NNP          NN        ,  NNP     NNP      ,  WP   VBN    DT   $  CD    CD       NNP      NNP    ,  NNP     ,  NN      IN    JJ          NN    NNS    .\n",
            "------------------------------------------------------------------------------------------------------------------------------------------------------------------------------------------------------------------------------------------------------------------------------------------------------------\n",
            "Sentence:                  While  many  problems  would  attend  a   restructuring  of  Columbia  ,  investors  say  Mr.  Spiegel  is   mulling  such  a   plan  to  mitigate  Columbia  's   junk  problems  .\n",
            "True labels:               IN     JJ    NNS       MD     VB      DT  NN             IN  NNP       ,  NNS        VBP  NNP  NNP      VBZ  VBG      PDT   DT  NN    TO  VB        NNP       POS  NN    NNS       .\n",
            "LSTM2_1Dense predictions:  CC     JJ    NNS       MD     VB      DT  NN             IN  NNP       ,  NNS        VBP  NNP  NNP      VBZ  VBG      JJ    DT  NN    TO  VB        NNP       POS  NN    NNS       .\n",
            "LSTM_1Dense predictions:   IN     JJ    NNS       MD     VB      DT  NN             IN  NNP       ,  NNS        VBP  NNP  NNP      VBZ  VBG      IN    DT  NN    TO  VB        NNP       POS  NN    NNS       .\n",
            "------------------------------------------------------------------------------------------------------------------------------------------------------------------------------------------------------------------------------------------------------------------------------------------------------------\n",
            "Sentence:                  Columbia  wo  n't  comment  on  all  the  speculation  .\n",
            "True labels:               NNP       MD  RB   VB       IN  PDT  DT   NN           .\n",
            "LSTM2_1Dense predictions:  PRP       MD  RB   VB       IN  DT   DT   NN           .\n",
            "LSTM_1Dense predictions:   PRP       MD  RB   NN       IN  DT   DT   NN           .\n",
            "------------------------------------------------------------------------------------------------------------------------------------------------------------------------------------------------------------------------------------------------------------------------------------------------------------\n"
          ]
        }
      ]
    },
    {
      "cell_type": "markdown",
      "source": [
        "Again, the two tags show a close correlation, as PDT words always occur before a DT word. However, DT is among the 4 most frequent tags, while PDT is among the 4 less frequent ones, with a support of $1317$ and $4$ respectively. Thus, models were trained on many more examples of DT than PDT, being not able to gain enough knowledge to distinguish the latter from the former.\n",
        "\n",
        "This is another clear example of error caused by the unbalanced nature of the dataset."
      ],
      "metadata": {
        "id": "g584Xpy_HrG7"
      }
    },
    {
      "cell_type": "markdown",
      "source": [
        "### Misclassified sample - RBR"
      ],
      "metadata": {
        "id": "DGPbwiCmJjQG"
      }
    },
    {
      "cell_type": "markdown",
      "source": [
        "Another interesting misclassified sample is *comparative adverb* RBR tag, half the time predicted as *comparative adjective* JJR tag by at least one of the models. Let's see some sentences on which the tag has been misclassified."
      ],
      "metadata": {
        "id": "wQ7ODnetpTxP"
      }
    },
    {
      "cell_type": "code",
      "source": [
        "# Misclassified samples - RBR\n",
        "\n",
        "df_tag_RBR = df_test[df_test[\"tag\"] == \"RBR\"].sort_values(by=['sentence_id'])\n",
        "id_RBR_sentences = df_tag_RBR['sentence_id'].unique()\n",
        "id_first_sentence = int(df_test.sort_index().iloc[:1][\"sentence_id\"])"
      ],
      "metadata": {
        "id": "CboFkBv6FY1e"
      },
      "execution_count": null,
      "outputs": []
    },
    {
      "cell_type": "code",
      "source": [
        "for id in id_RBR_sentences:\n",
        "  l = len(sentences_test[id-id_first_sentence])\n",
        "\n",
        "  sentence = np.array(sentences_test[id-id_first_sentence]).astype('object')\n",
        "  true_tags = pad_tags_test[id-id_first_sentence][0:l]\n",
        "  pred_tags_1 = np.array(predictions_test_1[id-id_first_sentence][0:l]).astype('object')\n",
        "  pred_tags_2 = np.array(predictions_test_2[id-id_first_sentence][0:l]).astype('object')\n",
        "\n",
        "  first_row = np.insert(sentence, 0, 'Sentence:')\n",
        "  second_row = np.insert(true_tags, 0, 'True labels:')\n",
        "  third_row = np.insert(pred_tags_1, 0, best_model_1 + ' predictions:')\n",
        "  fourth_row = np.insert(pred_tags_2, 0, best_model_2 + ' predictions:')\n",
        "\n",
        "  rows = [first_row, second_row, third_row, fourth_row]\n",
        "  widths = [max(map(len, col)) for col in zip(*rows)]\n",
        "\n",
        "  for row in rows:\n",
        "      print(\"  \".join((val.ljust(width) for val, width in zip(row, widths))))\n",
        "\n",
        "  print(\"-\"*300)"
      ],
      "metadata": {
        "colab": {
          "base_uri": "https://localhost:8080/"
        },
        "id": "nRQgsjG0FZZ_",
        "outputId": "5b5ea870-4b19-42e9-f61f-55a7007e9203"
      },
      "execution_count": null,
      "outputs": [
        {
          "output_type": "stream",
          "name": "stdout",
          "text": [
            "Sentence:                  A   shift  to  producing  more  alcohol  and  less  sugar  had  been  expected  ,  but  the  latest  news  ,  if  true  ,  indicates  a   more  drastic  shift  than  had  been  anticipated  .\n",
            "True labels:               DT  NN     TO  VBG        JJR   NN       CC   JJR   NN     VBD  VBN   VBN       ,  CC   DT   JJS     NN    ,  IN  JJ    ,  VBZ        DT  RBR   JJ       NN     IN    VBD  VBN   VBN          .\n",
            "LSTM2_1Dense predictions:  DT  NN     TO  VBG        RBR   NN       CC   JJR   NN     VBD  VBN   VBN       ,  CC   DT   JJS     NN    ,  IN  JJ    ,  VBZ        DT  RBR   JJ       NN     IN    VBD  VBN   VBN          .\n",
            "LSTM_1Dense predictions:   DT  NN     TO  VBG        JJR   NN       CC   JJR   NN     VBD  VBN   VBN       ,  CC   DT   JJS     NN    ,  IN  NN    ,  VBZ        DT  JJR   JJ       NN     IN    VBD  VBN   VBN          .\n",
            "------------------------------------------------------------------------------------------------------------------------------------------------------------------------------------------------------------------------------------------------------------------------------------------------------------\n",
            "Sentence:                  That  designation  would  ,  among  other  things  ,  provide  more  generous  credit  terms  under  which  the  Soviets  could  purchase  grain  .\n",
            "True labels:               DT    NN           MD     ,  IN     JJ     NNS     ,  VB       RBR   JJ        NN      NNS    IN     WDT    DT   NNPS     MD     VB        NN     .\n",
            "LSTM2_1Dense predictions:  DT    NN           MD     ,  IN     JJ     NNS     ,  VBP      RBR   JJ        NNS     JJ     IN     WDT    DT   NNP      MD     VB        NN     .\n",
            "LSTM_1Dense predictions:   DT    NN           MD     ,  IN     JJ     NNS     ,  VBP      RBR   JJ        NN      JJ     IN     WDT    DT   NNP      MD     VB        NN     .\n",
            "------------------------------------------------------------------------------------------------------------------------------------------------------------------------------------------------------------------------------------------------------------------------------------------------------------\n",
            "Sentence:                  Prudential-Bache  Securities  boosted  the  stock  's   short-term  investment  rating  in  response  to  the  departure  ;  analyst  John  McMillin  said  he   believes  the  company  will  turn  to  new  management  ``  that  's   more  financially  oriented  .  ''\n",
            "True labels:               NNP               NNPS        VBD      DT   NN     POS  JJ          NN          NN      IN  NN        TO  DT   NN         :  NN       NNP   NNP       VBD   PRP  VBZ       DT   NN       MD    VB    TO  JJ   NN          ``  DT    VBZ  RBR   RB           VBN       .  ''\n",
            "LSTM2_1Dense predictions:  NNP               NNP         VBD      DT   NN     POS  JJ          NN          NN      IN  NN        TO  DT   NN         :  NN       NNP   NNP       VBD   PRP  VBZ       DT   NN       MD    VB    TO  JJ   NN          ``  WDT   VBZ  RBR   RB           JJ        .  ''\n",
            "LSTM_1Dense predictions:   NNP               NNP         VBD      DT   NN     POS  JJ          NN          NN      IN  NN        TO  DT   NN         :  NN       NNP   NNP       VBD   PRP  VBZ       DT   NN       MD    VB    TO  JJ   NN          ``  WDT   VBZ  RBR   RB           JJ        .  ''\n",
            "------------------------------------------------------------------------------------------------------------------------------------------------------------------------------------------------------------------------------------------------------------------------------------------------------------\n",
            "Sentence:                  The  sweetened  offer  has  acceptances  from  more  than  50  %   of  Weisfield  's   shareholders  ,  and  it   is   scheduled  for  completion  by  Dec.  10  .\n",
            "True labels:               DT   VBN        NN     VBZ  NNS          IN    RBR   IN    CD  NN  IN  NNP        POS  NNS           ,  CC   PRP  VBZ  VBN        IN   NN          IN  NNP   CD  .\n",
            "LSTM2_1Dense predictions:  DT   VBD        NN     VBZ  NNS          IN    JJR   IN    CD  NN  IN  NNP        POS  NNS           ,  CC   PRP  VBZ  VBN        IN   NN          IN  NNP   CD  .\n",
            "LSTM_1Dense predictions:   DT   RB         NN     VBZ  NN           IN    JJR   IN    CD  NN  IN  NNP        POS  NNS           ,  CC   PRP  VBZ  VBN        IN   NN          IN  NNP   CD  .\n",
            "------------------------------------------------------------------------------------------------------------------------------------------------------------------------------------------------------------------------------------------------------------------------------------------------------------\n",
            "Sentence:                  House-Senate  conferees  approved  major  portions  of  a   package  for  more  than  $  500  million  in  economic  aid  for  Poland  .\n",
            "True labels:               NNP           NNS        VBD       JJ     NNS       IN  DT  NN       IN   RBR   IN    $  CD   CD       IN  JJ        NN   IN   NNP     .\n",
            "LSTM2_1Dense predictions:  DT            NNS        VBD       JJ     NNS       IN  DT  NN       IN   JJR   IN    $  CD   CD       IN  JJ        NN   IN   NNP     .\n",
            "LSTM_1Dense predictions:   NNP           NNS        VBD       JJ     NNS       IN  DT  NN       IN   JJR   IN    $  CD   CD       IN  JJ        NN   IN   NNP     .\n",
            "------------------------------------------------------------------------------------------------------------------------------------------------------------------------------------------------------------------------------------------------------------------------------------------------------------\n",
            "Sentence:                  Columbia  stock  recently  hit  4   1\\/8  ,  after  reaching  11  3\\/4  earlier  this  year  on  rumors  that  Mr.  Spiegel  would  take  the  thrift  private  .\n",
            "True labels:               NNP       NN     RB        VBD  CD  CD    ,  IN     VBG       CD  CD    RBR      DT    NN    IN  NNS     IN    NNP  NNP      MD     VB    DT   NN      JJ       .\n",
            "LSTM2_1Dense predictions:  JJ        NN     VBD       VBN  CD  NNP   ,  IN     VBG       CD  NNP   VBD      DT    NN    IN  NN      IN    NNP  NNP      MD     VB    DT   NN      JJ       .\n",
            "LSTM_1Dense predictions:   DT        NN     VBD       VBN  CD  NNP   ,  IN     VBG       CD  NN    VBD      DT    NN    IN  NNS     IN    NNP  NNP      MD     VB    DT   NN      NN       .\n",
            "------------------------------------------------------------------------------------------------------------------------------------------------------------------------------------------------------------------------------------------------------------------------------------------------------------\n",
            "Sentence:                  But  the  pharmaceutical  company  said  it   ``  anticipates  the  long-term  savings  resulting  from  the  plan  's   implementation  will  more  than  offset  short-term  costs  .  ''\n",
            "True labels:               CC   DT   JJ              NN       VBD   PRP  ``  VBZ          DT   JJ         NNS      VBG        IN    DT   NN    POS  NN              MD    RBR   IN    VBN     JJ          NNS    .  ''\n",
            "LSTM2_1Dense predictions:  CC   DT   NN              NN       VBD   PRP  ``  VBZ          DT   JJ         NNS      VBN        IN    DT   NN    POS  NN              MD    JJR   IN    JJ      JJ          NNS    .  ''\n",
            "LSTM_1Dense predictions:   IN   DT   NN              NN       VBD   PRP  ``  VBZ          DT   JJ         NNS      VBG        IN    DT   NN    POS  NN              MD    RBR   IN    JJ      JJ          NNS    .  ''\n",
            "------------------------------------------------------------------------------------------------------------------------------------------------------------------------------------------------------------------------------------------------------------------------------------------------------------\n",
            "Sentence:                  The  company  earlier  this  year  adopted  a   shareholder-rights  plan  to  ward  off  unwanted  suitors  .\n",
            "True labels:               DT   NN       RBR      DT    NN    VBD      DT  JJ                  NN    TO  VB    RP   JJ        NNS      .\n",
            "LSTM2_1Dense predictions:  DT   NN       VBD      DT    NN    VBD      DT  JJ                  NN    TO  VB    IN   JJ        NNS      .\n",
            "LSTM_1Dense predictions:   DT   NN       VBD      DT    NN    VBD      DT  JJ                  NN    TO  VB    RP   JJ        NNS      .\n",
            "------------------------------------------------------------------------------------------------------------------------------------------------------------------------------------------------------------------------------------------------------------------------------------------------------------\n",
            "Sentence:                  Ralston  Purina  Co.  reported  a   47  %   decline  in  fourth-quarter  earnings  ,  reflecting  restructuring  costs  as  well  as  a   more  difficult  pet  food  market  .\n",
            "True labels:               NNP      NNP     NNP  VBD       DT  CD  NN  NN       IN  NN              NNS       ,  VBG         NN             NNS    RB  RB    IN  DT  RBR   JJ         NN   NN    NN      .\n",
            "LSTM2_1Dense predictions:  NNP      NNP     NNP  VBD       DT  CD  NN  NN       IN  JJ              NNS       ,  VBG         NN             NNS    RB  RB    IN  DT  RBR   JJ         JJ   NN    NN      .\n",
            "LSTM_1Dense predictions:   NNP      NNP     NNP  VBD       DT  CD  NN  NN       IN  JJ              NNS       ,  VBG         NN             NNS    RB  RB    IN  DT  RBR   JJ         NN   NN    NN      .\n",
            "------------------------------------------------------------------------------------------------------------------------------------------------------------------------------------------------------------------------------------------------------------------------------------------------------------\n",
            "Sentence:                  Moreover  ,  USX  exports  more  than  other  steelmakers  ,  and  the  overseas  market  has  been  under  more  severe  pricing  pressure  .\n",
            "True labels:               RB        ,  NNP  NNS      JJR   IN    JJ     NNS          ,  CC   DT   JJ        NN      VBZ  VBN   IN     RBR   JJ      NN       NN        .\n",
            "LSTM2_1Dense predictions:  RB        ,  NNP  VBZ      JJR   IN    JJ     NNS          ,  CC   DT   NNS       NN      VBZ  VBN   IN     RBR   JJ      NN       NN        .\n",
            "LSTM_1Dense predictions:   NNP       ,  NNP  VBZ      JJR   IN    JJ     NNS          ,  CC   DT   NNS       NN      VBZ  VBN   IN     RBR   JJ      NN       NN        .\n",
            "------------------------------------------------------------------------------------------------------------------------------------------------------------------------------------------------------------------------------------------------------------------------------------------------------------\n",
            "Sentence:                  Still  ,  USX  fared  better  than  other  major  steelmakers  ,  earning  more  per  ton  of  steel  shipped  than  either  Bethlehem  Steel  Corp.  ,  which  posted  a   54  %   drop  in  net  income  ,  or  Inland  Steel  Industries  Inc.  ,  whose  profit  plummeted  70  %   .\n",
            "True labels:               RB     ,  NNP  VBD    RBR     IN    JJ     JJ     NNS          ,  VBG      JJR   IN   NN   IN  NN     VBN      IN    DT      NNP        NNP    NNP    ,  WDT    VBD     DT  CD  NN  NN    IN  JJ   NN      ,  CC  NNP     NNP    NNPS        NNP   ,  WP$    NN      VBD        CD  NN  .\n",
            "LSTM2_1Dense predictions:  RB     ,  NNP  RB     JJR     IN    JJ     JJ     NNS          ,  VBG      JJR   CD   NN   IN  NN     VBN      IN    IN      NNP        NNP    NNP    ,  WDT    RB      DT  CD  NN  NN    IN  JJ   NN      ,  CC  NNP     NNP    NNP         NNP   ,  WP$    NNS     VBD        CD  NN  .\n",
            "LSTM_1Dense predictions:   RB     ,  NNP  RB     RB      IN    JJ     JJ     NNS          ,  VBG      JJR   CD   NN   IN  NN     VBD      IN    DT      NNP        NNP    NNP    ,  WDT    VBD     DT  CD  NN  NN    IN  JJ   NN      ,  CC  NNP     NNP    NNP         NNP   ,  WP$    NNS     VBD        CD  NN  .\n",
            "------------------------------------------------------------------------------------------------------------------------------------------------------------------------------------------------------------------------------------------------------------------------------------------------------------\n",
            "Sentence:                  The  rise  in  the  stock  's   price  may  also  reflect  the  fact  that  USX  's   steel  segment  fared  better  than  some  other  steelmakers  '    .\n",
            "True labels:               DT   NN    IN  DT   NN     POS  NN     MD   RB    VB       DT   NN    IN    NNP  POS  NN     NN       VBD    RBR     IN    DT    JJ     NNS          POS  .\n",
            "LSTM2_1Dense predictions:  DT   NN    IN  DT   NN     POS  NN     MD   RB    VB       DT   NN    IN    NNP  POS  NN     NN       RB     JJR     IN    DT    JJ     NNS          POS  .\n",
            "LSTM_1Dense predictions:   DT   NN    IN  DT   NN     POS  NN     MD   RB    VB       DT   NN    IN    NNP  POS  NN     NN       RB     RBR     IN    DT    JJ     NNS          POS  .\n",
            "------------------------------------------------------------------------------------------------------------------------------------------------------------------------------------------------------------------------------------------------------------------------------------------------------------\n",
            "Sentence:                  Charles  Bradford  ,  an  analyst  with  Merrill  Lynch  Capital  Markets  ,  said  USX  may  have  received  orders  lost  by  competitors  who  were  involved  in  labor  contracts  earlier  this  year  .\n",
            "True labels:               NNP      NNP       ,  DT  NN       IN    NNP      NNP    NNP      NNPS     ,  VBD   NNP  MD   VB    VBN       NNS     VBN   IN  NNS          WP   VBD   VBN       IN  NN     NNS        RBR      DT    NN    .\n",
            "LSTM2_1Dense predictions:  NNP      NNP       ,  DT  NN       IN    NNP      NNP    NNP      NNP      ,  VBD   NNP  MD   VB    VBN       NNS     VBN   IN  NNS          WP   VBD   VBN       IN  NN     NNS        VBD      DT    NN    .\n",
            "LSTM_1Dense predictions:   NNP      NNP       ,  DT  NN       IN    NNP      NNP    NNP      NNP      ,  VBD   NNP  MD   VB    VBN       NNS     CC    IN  NNS          WP   VBD   VBN       IN  NN     NNS        VBD      DT    NN    .\n",
            "------------------------------------------------------------------------------------------------------------------------------------------------------------------------------------------------------------------------------------------------------------------------------------------------------------\n",
            "Sentence:                  He   said  USX  also  appeared  to  sell  a   richer  mix  of  steel  products  ,  such  as  the  more  profitable  pipe  and  galvanized  coated  sheet  ,  than  lower-priced  structural  goods  .\n",
            "True labels:               PRP  VBD   NNP  RB    VBD       TO  VB    DT  JJR     NN   IN  NN     NNS       ,  JJ    IN  DT   RBR   JJ          NN    CC   JJ          VBN     NN     ,  IN    JJ            JJ          NNS    .\n",
            "LSTM2_1Dense predictions:  NNP  VBD   NNP  RB    VBD       TO  VB    DT  JJR     NN   IN  NN     NNS       ,  JJ    IN  DT   JJR   JJ          NN    CC   VBN         NN      NN     ,  IN    JJ            JJ          NNS    .\n",
            "LSTM_1Dense predictions:   NNP  VBD   NNP  RB    VBD       TO  VB    DT  JJR     NN   IN  NN     NNS       ,  JJ    IN  DT   JJR   JJ          NN    CC   VBN         VBN     NN     ,  IN    JJ            NN          NNS    .\n",
            "------------------------------------------------------------------------------------------------------------------------------------------------------------------------------------------------------------------------------------------------------------------------------------------------------------\n",
            "Sentence:                  Mr.  Icahn  has  said  he   believes  USX  would  be  worth  more  if  broken  up  into  steel  and  energy  segments  .\n",
            "True labels:               NNP  NNP    VBZ  VBN   PRP  VBZ       NNP  MD     VB  JJ     RBR   IN  VBN     RP  IN    NN     CC   NN      NNS       .\n",
            "LSTM2_1Dense predictions:  NNP  NNP    VBZ  VBD   PRP  VBZ       NNP  MD     VB  VBN    RBR   IN  VBN     RP  JJ    NN     CC   NN      NNS       .\n",
            "LSTM_1Dense predictions:   NNP  NNP    VBZ  VBD   PRP  VBZ       NNP  MD     VB  VBG    RBR   IN  VBN     RP  RP    NN     CC   NN      NNS       .\n",
            "------------------------------------------------------------------------------------------------------------------------------------------------------------------------------------------------------------------------------------------------------------------------------------------------------------\n"
          ]
        }
      ]
    },
    {
      "cell_type": "markdown",
      "source": [
        "In this case, there is no significative difference between the supports size of the two tags, but they both refer to comparative words. In particular, the word *more* can be used as a RBR as well as a JJR, depending on its function in the sentence. Hence, when trying to classify *more* the networks tend to confuse the two tags."
      ],
      "metadata": {
        "id": "uvHG2QerJ740"
      }
    },
    {
      "cell_type": "markdown",
      "source": [
        "### Limitations and improvements\n",
        "\n",
        "A possible effective solution to both these sources of error could be the deployment of data augmentation techniques, in order to approach the unbalanced classes problem.\n",
        "\n",
        "Also, a possible limitation might be the use of a non-contextual word embedding as GloVe. The employment of a contextual word embedding, which assigns to each word a representation based on its context, better encoding its sense, might lead to improvement in performances, maybe mitigating the misclassification of words which acquire a different meaning depending on their function in the sentence."
      ],
      "metadata": {
        "id": "sL-QLm_8Ka7k"
      }
    }
  ]
}